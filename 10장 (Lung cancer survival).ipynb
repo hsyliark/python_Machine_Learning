{
 "cells": [
  {
   "cell_type": "markdown",
   "metadata": {},
   "source": [
    "# 처음 해보는 딥러닝\n",
    "## 관리자 모드로 cmd 실행\n",
    "- pip install --upgrade setuptools\n",
    "- pip install tensorflow\n",
    "- pip install keras"
   ]
  },
  {
   "cell_type": "markdown",
   "metadata": {},
   "source": [
    "## 폐암 수술 환자의 생존율 데이터 분석"
   ]
  },
  {
   "cell_type": "code",
   "execution_count": 1,
   "metadata": {},
   "outputs": [],
   "source": [
    "# need library\n",
    "import numpy as np\n",
    "import tensorflow as tf\n",
    "# warning remove\n",
    "if type(tf.contrib) != type(tf):\n",
    "    tf.contrib._warning = None"
   ]
  },
  {
   "cell_type": "code",
   "execution_count": 2,
   "metadata": {},
   "outputs": [
    {
     "name": "stderr",
     "output_type": "stream",
     "text": [
      "Using TensorFlow backend.\n"
     ]
    }
   ],
   "source": [
    "# 딥러닝 구동에 필요한 케라스 함수\n",
    "from keras.models import Sequential\n",
    "from keras.layers import Dense"
   ]
  },
  {
   "cell_type": "code",
   "execution_count": 3,
   "metadata": {},
   "outputs": [
    {
     "name": "stdout",
     "output_type": "stream",
     "text": [
      "1.14.0\n"
     ]
    }
   ],
   "source": [
    "print(tf.__version__)"
   ]
  },
  {
   "cell_type": "code",
   "execution_count": 4,
   "metadata": {},
   "outputs": [],
   "source": [
    "# 실행할 때마다 같은 결과를 얻기 위함\n",
    "seed = 0\n",
    "np.random.seed(seed)\n",
    "tf.set_random_seed(seed)"
   ]
  },
  {
   "cell_type": "code",
   "execution_count": 5,
   "metadata": {},
   "outputs": [
    {
     "data": {
      "text/plain": [
       "array([[293.  ,   1.  ,   3.8 , ...,   0.  ,  62.  ,   0.  ],\n",
       "       [  1.  ,   2.  ,   2.88, ...,   0.  ,  60.  ,   0.  ],\n",
       "       [  8.  ,   2.  ,   3.19, ...,   0.  ,  66.  ,   1.  ],\n",
       "       ...,\n",
       "       [406.  ,   6.  ,   5.36, ...,   0.  ,  62.  ,   0.  ],\n",
       "       [ 25.  ,   8.  ,   4.32, ...,   0.  ,  58.  ,   1.  ],\n",
       "       [447.  ,   8.  ,   5.2 , ...,   0.  ,  49.  ,   0.  ]])"
      ]
     },
     "execution_count": 5,
     "metadata": {},
     "output_type": "execute_result"
    }
   ],
   "source": [
    "# surgery patient data\n",
    "Data_set = np.loadtxt(\"dataset/ThoraricSurgery.csv\", delimiter = ',') # np.array\n",
    "Data_set"
   ]
  },
  {
   "cell_type": "code",
   "execution_count": 6,
   "metadata": {},
   "outputs": [],
   "source": [
    "X = Data_set[:,0:17] # 환자 기록\n",
    "Y = Data_set[:,17] # 수술 결과"
   ]
  },
  {
   "cell_type": "code",
   "execution_count": 10,
   "metadata": {},
   "outputs": [],
   "source": [
    "# 딥러닝 구조 결정\n",
    "model = Sequential()\n",
    "# danse : 연결\n",
    "model.add(Dense(30, input_dim = 17, activation = 'relu')) # 1층 , 입력변수 17개, node 30개\n",
    "model.add(Dense(1, activation = 'sigmoid')) # 2층, 출력값 1개"
   ]
  },
  {
   "cell_type": "code",
   "execution_count": 11,
   "metadata": {},
   "outputs": [
    {
     "name": "stderr",
     "output_type": "stream",
     "text": [
      "W1205 16:26:35.489146  8560 deprecation.py:323] From C:\\ProgramData\\Anaconda3\\lib\\site-packages\\tensorflow\\python\\ops\\nn_impl.py:180: add_dispatch_support.<locals>.wrapper (from tensorflow.python.ops.array_ops) is deprecated and will be removed in a future version.\n",
      "Instructions for updating:\n",
      "Use tf.where in 2.0, which has the same broadcast rule as np.where\n"
     ]
    },
    {
     "name": "stdout",
     "output_type": "stream",
     "text": [
      "Epoch 1/30\n",
      "470/470 [==============================] - 0s 923us/step - loss: 2.3755 - acc: 0.8511\n",
      "Epoch 2/30\n",
      "470/470 [==============================] - 0s 203us/step - loss: 2.2250 - acc: 0.8489\n",
      "Epoch 3/30\n",
      "470/470 [==============================] - 0s 180us/step - loss: 2.1447 - acc: 0.8277\n",
      "Epoch 4/30\n",
      "470/470 [==============================] - 0s 284us/step - loss: 2.0954 - acc: 0.8362\n",
      "Epoch 5/30\n",
      "470/470 [==============================] - 0s 361us/step - loss: 2.0337 - acc: 0.8277\n",
      "Epoch 6/30\n",
      "470/470 [==============================] - 0s 306us/step - loss: 1.8701 - acc: 0.8106\n",
      "Epoch 7/30\n",
      "470/470 [==============================] - 0s 396us/step - loss: 0.7354 - acc: 0.7915\n",
      "Epoch 8/30\n",
      "470/470 [==============================] - 0s 367us/step - loss: 0.5271 - acc: 0.8277\n",
      "Epoch 9/30\n",
      "470/470 [==============================] - 0s 336us/step - loss: 0.5128 - acc: 0.8298\n",
      "Epoch 10/30\n",
      "470/470 [==============================] - 0s 333us/step - loss: 0.5100 - acc: 0.8340\n",
      "Epoch 11/30\n",
      "470/470 [==============================] - 0s 301us/step - loss: 0.4741 - acc: 0.8319\n",
      "Epoch 12/30\n",
      "470/470 [==============================] - 0s 163us/step - loss: 0.5349 - acc: 0.8128\n",
      "Epoch 13/30\n",
      "470/470 [==============================] - 0s 161us/step - loss: 0.5194 - acc: 0.8340\n",
      "Epoch 14/30\n",
      "470/470 [==============================] - 0s 155us/step - loss: 0.4798 - acc: 0.8255\n",
      "Epoch 15/30\n",
      "470/470 [==============================] - 0s 232us/step - loss: 0.5128 - acc: 0.8319\n",
      "Epoch 16/30\n",
      "470/470 [==============================] - 0s 262us/step - loss: 0.5116 - acc: 0.8319\n",
      "Epoch 17/30\n",
      "470/470 [==============================] - 0s 235us/step - loss: 0.4200 - acc: 0.8511\n",
      "Epoch 18/30\n",
      "470/470 [==============================] - 0s 271us/step - loss: 0.4198 - acc: 0.8489\n",
      "Epoch 19/30\n",
      "470/470 [==============================] - 0s 250us/step - loss: 0.4210 - acc: 0.8468\n",
      "Epoch 20/30\n",
      "470/470 [==============================] - 0s 269us/step - loss: 0.4089 - acc: 0.8426\n",
      "Epoch 21/30\n",
      "470/470 [==============================] - 0s 255us/step - loss: 0.4270 - acc: 0.8404\n",
      "Epoch 22/30\n",
      "470/470 [==============================] - 0s 288us/step - loss: 0.4313 - acc: 0.8468\n",
      "Epoch 23/30\n",
      "470/470 [==============================] - 0s 296us/step - loss: 0.4696 - acc: 0.8340\n",
      "Epoch 24/30\n",
      "470/470 [==============================] - 0s 282us/step - loss: 0.4807 - acc: 0.8426\n",
      "Epoch 25/30\n",
      "470/470 [==============================] - 0s 259us/step - loss: 0.4113 - acc: 0.8511\n",
      "Epoch 26/30\n",
      "470/470 [==============================] - 0s 248us/step - loss: 0.4222 - acc: 0.8511\n",
      "Epoch 27/30\n",
      "470/470 [==============================] - 0s 271us/step - loss: 0.5039 - acc: 0.8426\n",
      "Epoch 28/30\n",
      "470/470 [==============================] - 0s 238us/step - loss: 0.4543 - acc: 0.8383\n",
      "Epoch 29/30\n",
      "470/470 [==============================] - 0s 132us/step - loss: 0.4312 - acc: 0.8447\n",
      "Epoch 30/30\n",
      "470/470 [==============================] - 0s 119us/step - loss: 0.4429 - acc: 0.8362\n"
     ]
    },
    {
     "data": {
      "text/plain": [
       "<keras.callbacks.History at 0x125163cc048>"
      ]
     },
     "execution_count": 11,
     "metadata": {},
     "output_type": "execute_result"
    }
   ],
   "source": [
    "# 딥러닝 실행\n",
    "model.compile(loss = 'binary_crossentropy', optimizer = 'adam', metrics = ['accuracy'])\n",
    "model.fit(X, Y, epochs = 30, batch_size = 10)"
   ]
  },
  {
   "cell_type": "code",
   "execution_count": 12,
   "metadata": {},
   "outputs": [
    {
     "name": "stdout",
     "output_type": "stream",
     "text": [
      "470/470 [==============================] - 0s 167us/step\n",
      "\n",
      " Accuracy: 0.8511\n"
     ]
    }
   ],
   "source": [
    "# 결과 출력\n",
    "print(\"\\n Accuracy: %.4f\" % (model.evaluate(X, Y)[1]))"
   ]
  },
  {
   "cell_type": "code",
   "execution_count": null,
   "metadata": {},
   "outputs": [],
   "source": []
  }
 ],
 "metadata": {
  "kernelspec": {
   "display_name": "Python 3",
   "language": "python",
   "name": "python3"
  },
  "language_info": {
   "codemirror_mode": {
    "name": "ipython",
    "version": 3
   },
   "file_extension": ".py",
   "mimetype": "text/x-python",
   "name": "python",
   "nbconvert_exporter": "python",
   "pygments_lexer": "ipython3",
   "version": "3.7.3"
  }
 },
 "nbformat": 4,
 "nbformat_minor": 2
}
