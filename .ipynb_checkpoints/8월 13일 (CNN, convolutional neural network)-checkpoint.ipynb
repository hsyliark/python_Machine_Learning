{
 "cells": [
  {
   "cell_type": "markdown",
   "metadata": {},
   "source": [
    "# CNN(convolutional neural network)"
   ]
  },
  {
   "cell_type": "code",
   "execution_count": 1,
   "metadata": {},
   "outputs": [
    {
     "name": "stderr",
     "output_type": "stream",
     "text": [
      "Using TensorFlow backend.\n"
     ]
    }
   ],
   "source": [
    "# need library\n",
    "import numpy as np\n",
    "import tensorflow as tf\n",
    "# warning remove\n",
    "if type(tf.contrib) != type(tf):\n",
    "    tf.contrib._warning = None\n",
    "# 딥러닝 구동에 필요한 케라스 함수\n",
    "from keras.models import Sequential\n",
    "from keras.layers import Dense    "
   ]
  },
  {
   "cell_type": "markdown",
   "metadata": {},
   "source": [
    "## data handling"
   ]
  },
  {
   "cell_type": "code",
   "execution_count": 4,
   "metadata": {},
   "outputs": [
    {
     "data": {
      "text/plain": [
       "((array([[[0, 0, 0, ..., 0, 0, 0],\n",
       "          [0, 0, 0, ..., 0, 0, 0],\n",
       "          [0, 0, 0, ..., 0, 0, 0],\n",
       "          ...,\n",
       "          [0, 0, 0, ..., 0, 0, 0],\n",
       "          [0, 0, 0, ..., 0, 0, 0],\n",
       "          [0, 0, 0, ..., 0, 0, 0]],\n",
       "  \n",
       "         [[0, 0, 0, ..., 0, 0, 0],\n",
       "          [0, 0, 0, ..., 0, 0, 0],\n",
       "          [0, 0, 0, ..., 0, 0, 0],\n",
       "          ...,\n",
       "          [0, 0, 0, ..., 0, 0, 0],\n",
       "          [0, 0, 0, ..., 0, 0, 0],\n",
       "          [0, 0, 0, ..., 0, 0, 0]],\n",
       "  \n",
       "         [[0, 0, 0, ..., 0, 0, 0],\n",
       "          [0, 0, 0, ..., 0, 0, 0],\n",
       "          [0, 0, 0, ..., 0, 0, 0],\n",
       "          ...,\n",
       "          [0, 0, 0, ..., 0, 0, 0],\n",
       "          [0, 0, 0, ..., 0, 0, 0],\n",
       "          [0, 0, 0, ..., 0, 0, 0]],\n",
       "  \n",
       "         ...,\n",
       "  \n",
       "         [[0, 0, 0, ..., 0, 0, 0],\n",
       "          [0, 0, 0, ..., 0, 0, 0],\n",
       "          [0, 0, 0, ..., 0, 0, 0],\n",
       "          ...,\n",
       "          [0, 0, 0, ..., 0, 0, 0],\n",
       "          [0, 0, 0, ..., 0, 0, 0],\n",
       "          [0, 0, 0, ..., 0, 0, 0]],\n",
       "  \n",
       "         [[0, 0, 0, ..., 0, 0, 0],\n",
       "          [0, 0, 0, ..., 0, 0, 0],\n",
       "          [0, 0, 0, ..., 0, 0, 0],\n",
       "          ...,\n",
       "          [0, 0, 0, ..., 0, 0, 0],\n",
       "          [0, 0, 0, ..., 0, 0, 0],\n",
       "          [0, 0, 0, ..., 0, 0, 0]],\n",
       "  \n",
       "         [[0, 0, 0, ..., 0, 0, 0],\n",
       "          [0, 0, 0, ..., 0, 0, 0],\n",
       "          [0, 0, 0, ..., 0, 0, 0],\n",
       "          ...,\n",
       "          [0, 0, 0, ..., 0, 0, 0],\n",
       "          [0, 0, 0, ..., 0, 0, 0],\n",
       "          [0, 0, 0, ..., 0, 0, 0]]], dtype=uint8),\n",
       "  array([5, 0, 4, ..., 5, 6, 8], dtype=uint8)),\n",
       " (array([[[0, 0, 0, ..., 0, 0, 0],\n",
       "          [0, 0, 0, ..., 0, 0, 0],\n",
       "          [0, 0, 0, ..., 0, 0, 0],\n",
       "          ...,\n",
       "          [0, 0, 0, ..., 0, 0, 0],\n",
       "          [0, 0, 0, ..., 0, 0, 0],\n",
       "          [0, 0, 0, ..., 0, 0, 0]],\n",
       "  \n",
       "         [[0, 0, 0, ..., 0, 0, 0],\n",
       "          [0, 0, 0, ..., 0, 0, 0],\n",
       "          [0, 0, 0, ..., 0, 0, 0],\n",
       "          ...,\n",
       "          [0, 0, 0, ..., 0, 0, 0],\n",
       "          [0, 0, 0, ..., 0, 0, 0],\n",
       "          [0, 0, 0, ..., 0, 0, 0]],\n",
       "  \n",
       "         [[0, 0, 0, ..., 0, 0, 0],\n",
       "          [0, 0, 0, ..., 0, 0, 0],\n",
       "          [0, 0, 0, ..., 0, 0, 0],\n",
       "          ...,\n",
       "          [0, 0, 0, ..., 0, 0, 0],\n",
       "          [0, 0, 0, ..., 0, 0, 0],\n",
       "          [0, 0, 0, ..., 0, 0, 0]],\n",
       "  \n",
       "         ...,\n",
       "  \n",
       "         [[0, 0, 0, ..., 0, 0, 0],\n",
       "          [0, 0, 0, ..., 0, 0, 0],\n",
       "          [0, 0, 0, ..., 0, 0, 0],\n",
       "          ...,\n",
       "          [0, 0, 0, ..., 0, 0, 0],\n",
       "          [0, 0, 0, ..., 0, 0, 0],\n",
       "          [0, 0, 0, ..., 0, 0, 0]],\n",
       "  \n",
       "         [[0, 0, 0, ..., 0, 0, 0],\n",
       "          [0, 0, 0, ..., 0, 0, 0],\n",
       "          [0, 0, 0, ..., 0, 0, 0],\n",
       "          ...,\n",
       "          [0, 0, 0, ..., 0, 0, 0],\n",
       "          [0, 0, 0, ..., 0, 0, 0],\n",
       "          [0, 0, 0, ..., 0, 0, 0]],\n",
       "  \n",
       "         [[0, 0, 0, ..., 0, 0, 0],\n",
       "          [0, 0, 0, ..., 0, 0, 0],\n",
       "          [0, 0, 0, ..., 0, 0, 0],\n",
       "          ...,\n",
       "          [0, 0, 0, ..., 0, 0, 0],\n",
       "          [0, 0, 0, ..., 0, 0, 0],\n",
       "          [0, 0, 0, ..., 0, 0, 0]]], dtype=uint8),\n",
       "  array([7, 2, 1, ..., 4, 5, 6], dtype=uint8)))"
      ]
     },
     "execution_count": 4,
     "metadata": {},
     "output_type": "execute_result"
    }
   ],
   "source": [
    "from keras.datasets import mnist\n",
    "import numpy as np\n",
    "import tensorflow as tf\n",
    "\n",
    "seed = 0\n",
    "np.random.seed(seed)\n",
    "tf.set_random_seed(seed)\n",
    "\n",
    "# MNIST data (손글씨)\n",
    "mnist.load_data()"
   ]
  },
  {
   "cell_type": "code",
   "execution_count": 5,
   "metadata": {},
   "outputs": [
    {
     "name": "stdout",
     "output_type": "stream",
     "text": [
      "학습셋 이미지 수 : 60000 개\n",
      "검증셋 이미지 수 : 10000 개\n"
     ]
    }
   ],
   "source": [
    "(X_train, Y_class_train), (X_test, Y_class_test) = mnist.load_data()\n",
    "print(\"학습셋 이미지 수 : %d 개\" % (X_train.shape[0]))\n",
    "print(\"검증셋 이미지 수 : %d 개\" % (X_test.shape[0]))"
   ]
  },
  {
   "cell_type": "code",
   "execution_count": 6,
   "metadata": {},
   "outputs": [
    {
     "data": {
      "text/plain": [
       "((60000, 28, 28), (10000, 28, 28))"
      ]
     },
     "execution_count": 6,
     "metadata": {},
     "output_type": "execute_result"
    }
   ],
   "source": [
    "X_train.shape, X_test.shape"
   ]
  },
  {
   "cell_type": "markdown",
   "metadata": {},
   "source": [
    "### graph"
   ]
  },
  {
   "cell_type": "code",
   "execution_count": 7,
   "metadata": {},
   "outputs": [
    {
     "data": {
      "image/png": "[encoded data removed]",
      "text/plain": [
       "<Figure size 576x576 with 1 Axes>"
      ]
     },
     "metadata": {
      "needs_background": "light"
     },
     "output_type": "display_data"
    }
   ],
   "source": [
    "import matplotlib.pyplot as plt\n",
    "%matplotlib inline\n",
    "\n",
    "plt.figure(figsize=(8,8))\n",
    "plt.imshow(X_train[0], cmap='Greys')\n",
    "plt.show()"
   ]
  },
  {
   "cell_type": "markdown",
   "metadata": {},
   "source": [
    "### checking with code"
   ]
  },
  {
   "cell_type": "code",
   "execution_count": 8,
   "metadata": {},
   "outputs": [
    {
     "name": "stdout",
     "output_type": "stream",
     "text": [
      "0\t0\t0\t0\t0\t0\t0\t0\t0\t0\t0\t0\t0\t0\t0\t0\t0\t0\t0\t0\t0\t0\t0\t0\t0\t0\t0\t0\t\n",
      "0\t0\t0\t0\t0\t0\t0\t0\t0\t0\t0\t0\t0\t0\t0\t0\t0\t0\t0\t0\t0\t0\t0\t0\t0\t0\t0\t0\t\n",
      "0\t0\t0\t0\t0\t0\t0\t0\t0\t0\t0\t0\t0\t0\t0\t0\t0\t0\t0\t0\t0\t0\t0\t0\t0\t0\t0\t0\t\n",
      "0\t0\t0\t0\t0\t0\t0\t0\t0\t0\t0\t0\t0\t0\t0\t0\t0\t0\t0\t0\t0\t0\t0\t0\t0\t0\t0\t0\t\n",
      "0\t0\t0\t0\t0\t0\t0\t0\t0\t0\t0\t0\t0\t0\t0\t0\t0\t0\t0\t0\t0\t0\t0\t0\t0\t0\t0\t0\t\n",
      "0\t0\t0\t0\t0\t0\t0\t0\t0\t0\t0\t0\t3\t18\t18\t18\t126\t136\t175\t26\t166\t255\t247\t127\t0\t0\t0\t0\t\n",
      "0\t0\t0\t0\t0\t0\t0\t0\t30\t36\t94\t154\t170\t253\t253\t253\t253\t253\t225\t172\t253\t242\t195\t64\t0\t0\t0\t0\t\n",
      "0\t0\t0\t0\t0\t0\t0\t49\t238\t253\t253\t253\t253\t253\t253\t253\t253\t251\t93\t82\t82\t56\t39\t0\t0\t0\t0\t0\t\n",
      "0\t0\t0\t0\t0\t0\t0\t18\t219\t253\t253\t253\t253\t253\t198\t182\t247\t241\t0\t0\t0\t0\t0\t0\t0\t0\t0\t0\t\n",
      "0\t0\t0\t0\t0\t0\t0\t0\t80\t156\t107\t253\t253\t205\t11\t0\t43\t154\t0\t0\t0\t0\t0\t0\t0\t0\t0\t0\t\n",
      "0\t0\t0\t0\t0\t0\t0\t0\t0\t14\t1\t154\t253\t90\t0\t0\t0\t0\t0\t0\t0\t0\t0\t0\t0\t0\t0\t0\t\n",
      "0\t0\t0\t0\t0\t0\t0\t0\t0\t0\t0\t139\t253\t190\t2\t0\t0\t0\t0\t0\t0\t0\t0\t0\t0\t0\t0\t0\t\n",
      "0\t0\t0\t0\t0\t0\t0\t0\t0\t0\t0\t11\t190\t253\t70\t0\t0\t0\t0\t0\t0\t0\t0\t0\t0\t0\t0\t0\t\n",
      "0\t0\t0\t0\t0\t0\t0\t0\t0\t0\t0\t0\t35\t241\t225\t160\t108\t1\t0\t0\t0\t0\t0\t0\t0\t0\t0\t0\t\n",
      "0\t0\t0\t0\t0\t0\t0\t0\t0\t0\t0\t0\t0\t81\t240\t253\t253\t119\t25\t0\t0\t0\t0\t0\t0\t0\t0\t0\t\n",
      "0\t0\t0\t0\t0\t0\t0\t0\t0\t0\t0\t0\t0\t0\t45\t186\t253\t253\t150\t27\t0\t0\t0\t0\t0\t0\t0\t0\t\n",
      "0\t0\t0\t0\t0\t0\t0\t0\t0\t0\t0\t0\t0\t0\t0\t16\t93\t252\t253\t187\t0\t0\t0\t0\t0\t0\t0\t0\t\n",
      "0\t0\t0\t0\t0\t0\t0\t0\t0\t0\t0\t0\t0\t0\t0\t0\t0\t249\t253\t249\t64\t0\t0\t0\t0\t0\t0\t0\t\n",
      "0\t0\t0\t0\t0\t0\t0\t0\t0\t0\t0\t0\t0\t0\t46\t130\t183\t253\t253\t207\t2\t0\t0\t0\t0\t0\t0\t0\t\n",
      "0\t0\t0\t0\t0\t0\t0\t0\t0\t0\t0\t0\t39\t148\t229\t253\t253\t253\t250\t182\t0\t0\t0\t0\t0\t0\t0\t0\t\n",
      "0\t0\t0\t0\t0\t0\t0\t0\t0\t0\t24\t114\t221\t253\t253\t253\t253\t201\t78\t0\t0\t0\t0\t0\t0\t0\t0\t0\t\n",
      "0\t0\t0\t0\t0\t0\t0\t0\t23\t66\t213\t253\t253\t253\t253\t198\t81\t2\t0\t0\t0\t0\t0\t0\t0\t0\t0\t0\t\n",
      "0\t0\t0\t0\t0\t0\t18\t171\t219\t253\t253\t253\t253\t195\t80\t9\t0\t0\t0\t0\t0\t0\t0\t0\t0\t0\t0\t0\t\n",
      "0\t0\t0\t0\t55\t172\t226\t253\t253\t253\t253\t244\t133\t11\t0\t0\t0\t0\t0\t0\t0\t0\t0\t0\t0\t0\t0\t0\t\n",
      "0\t0\t0\t0\t136\t253\t253\t253\t212\t135\t132\t16\t0\t0\t0\t0\t0\t0\t0\t0\t0\t0\t0\t0\t0\t0\t0\t0\t\n",
      "0\t0\t0\t0\t0\t0\t0\t0\t0\t0\t0\t0\t0\t0\t0\t0\t0\t0\t0\t0\t0\t0\t0\t0\t0\t0\t0\t0\t\n",
      "0\t0\t0\t0\t0\t0\t0\t0\t0\t0\t0\t0\t0\t0\t0\t0\t0\t0\t0\t0\t0\t0\t0\t0\t0\t0\t0\t0\t\n",
      "0\t0\t0\t0\t0\t0\t0\t0\t0\t0\t0\t0\t0\t0\t0\t0\t0\t0\t0\t0\t0\t0\t0\t0\t0\t0\t0\t0\t\n"
     ]
    }
   ],
   "source": [
    "import sys\n",
    "for x in X_train[0]:\n",
    "    for i in x:\n",
    "        sys.stdout.write('%d\\t' % i)\n",
    "    sys.stdout.write('\\n')    "
   ]
  },
  {
   "cell_type": "markdown",
   "metadata": {},
   "source": [
    "### data dimension transformation and normalization"
   ]
  },
  {
   "cell_type": "code",
   "execution_count": 9,
   "metadata": {},
   "outputs": [
    {
     "name": "stdout",
     "output_type": "stream",
     "text": [
      "class : 5 \n"
     ]
    }
   ],
   "source": [
    "X_train = X_train.reshape(X_train.shape[0], 784).astype('float64') / 255 # reshape : 1차원 배열로 변환 (input layer)\n",
    "X_test = X_test.reshape(X_test.shape[0], 784).astype('float64') / 255 # astype : 실수로 변환 후 255로 나누어서 정규화(normalization)\n",
    "# 이름 확인\n",
    "print(\"class : %d \" % (Y_class_train[0]))"
   ]
  },
  {
   "cell_type": "markdown",
   "metadata": {},
   "source": [
    "### one_hot encoding"
   ]
  },
  {
   "cell_type": "code",
   "execution_count": 11,
   "metadata": {},
   "outputs": [
    {
     "data": {
      "text/plain": [
       "array([0., 0., 0., 0., 0., 1., 0., 0., 0., 0.], dtype=float32)"
      ]
     },
     "execution_count": 11,
     "metadata": {},
     "output_type": "execute_result"
    }
   ],
   "source": [
    "from keras.utils import np_utils\n",
    "Y_train = np_utils.to_categorical(Y_class_train,10)\n",
    "Y_test = np_utils.to_categorical(Y_class_test,10)\n",
    "# 출력\n",
    "Y_train[0]"
   ]
  },
  {
   "cell_type": "markdown",
   "metadata": {},
   "source": [
    "## Deep Learning basic frame"
   ]
  },
  {
   "cell_type": "code",
   "execution_count": 19,
   "metadata": {},
   "outputs": [],
   "source": [
    "from keras.models import Sequential\n",
    "from keras.layers import Dense\n",
    "from keras.callbacks import ModelCheckpoint, EarlyStopping\n",
    "\n",
    "# 모델 프레임 설정\n",
    "model = Sequential()\n",
    "model.add(Dense(512, input_dim=784, activation='softplus'))\n",
    "model.add(Dense(10, activation='softmax'))\n",
    "\n",
    "# 모델 실행 환경 설정\n",
    "model.compile(loss='categorical_crossentropy', optimizer='adam', metrics=['accuracy'])"
   ]
  },
  {
   "cell_type": "code",
   "execution_count": 20,
   "metadata": {},
   "outputs": [],
   "source": [
    "import os\n",
    "import sys\n",
    "\n",
    "# 모델 최적화 설정\n",
    "MODEL_DIR = 'mnist_model/'\n",
    "if not os.path.exists(MODEL_DIR):\n",
    "    os.mkdir(MODEL_DIR)\n",
    "    \n",
    "modelpath = \"mnist_model/{epoch:02d}-{val_loss:.4f}.hdf5\"    \n",
    "checkpointer = ModelCheckpoint(filepath=modelpath, monitor='val_loss', verbose=1, save_best_only=True)\n",
    "early_stopping_callback = EarlyStopping(monitor='val_loss', patience=10)"
   ]
  },
  {
   "cell_type": "code",
   "execution_count": 21,
   "metadata": {},
   "outputs": [
    {
     "name": "stdout",
     "output_type": "stream",
     "text": [
      "Train on 60000 samples, validate on 10000 samples\n",
      "Epoch 1/30\n",
      "60000/60000 [==============================] - 3s 42us/step - loss: 0.4144 - acc: 0.8822 - val_loss: 0.2620 - val_acc: 0.9259\n",
      "\n",
      "Epoch 00001: val_loss improved from inf to 0.26196, saving model to mnist_model/01-0.2620.hdf5\n",
      "Epoch 2/30\n",
      "60000/60000 [==============================] - 2s 40us/step - loss: 0.2389 - acc: 0.9320 - val_loss: 0.1970 - val_acc: 0.9427\n",
      "\n",
      "Epoch 00002: val_loss improved from 0.26196 to 0.19696, saving model to mnist_model/02-0.1970.hdf5\n",
      "Epoch 3/30\n",
      "60000/60000 [==============================] - 2s 40us/step - loss: 0.1820 - acc: 0.9477 - val_loss: 0.1622 - val_acc: 0.9522\n",
      "\n",
      "Epoch 00003: val_loss improved from 0.19696 to 0.16221, saving model to mnist_model/03-0.1622.hdf5\n",
      "Epoch 4/30\n",
      "60000/60000 [==============================] - 2s 42us/step - loss: 0.1407 - acc: 0.9594 - val_loss: 0.1274 - val_acc: 0.9622\n",
      "\n",
      "Epoch 00004: val_loss improved from 0.16221 to 0.12743, saving model to mnist_model/04-0.1274.hdf5\n",
      "Epoch 5/30\n",
      "60000/60000 [==============================] - 2s 41us/step - loss: 0.1135 - acc: 0.9662 - val_loss: 0.1127 - val_acc: 0.9661\n",
      "\n",
      "Epoch 00005: val_loss improved from 0.12743 to 0.11266, saving model to mnist_model/05-0.1127.hdf5\n",
      "Epoch 6/30\n",
      "60000/60000 [==============================] - 2s 40us/step - loss: 0.0939 - acc: 0.9722 - val_loss: 0.1023 - val_acc: 0.9700\n",
      "\n",
      "Epoch 00006: val_loss improved from 0.11266 to 0.10227, saving model to mnist_model/06-0.1023.hdf5\n",
      "Epoch 7/30\n",
      "60000/60000 [==============================] - 2s 40us/step - loss: 0.0786 - acc: 0.9770 - val_loss: 0.0926 - val_acc: 0.9714\n",
      "\n",
      "Epoch 00007: val_loss improved from 0.10227 to 0.09261, saving model to mnist_model/07-0.0926.hdf5\n",
      "Epoch 8/30\n",
      "60000/60000 [==============================] - 2s 40us/step - loss: 0.0672 - acc: 0.9799 - val_loss: 0.0917 - val_acc: 0.9725\n",
      "\n",
      "Epoch 00008: val_loss improved from 0.09261 to 0.09168, saving model to mnist_model/08-0.0917.hdf5\n",
      "Epoch 9/30\n",
      "60000/60000 [==============================] - 2s 40us/step - loss: 0.0572 - acc: 0.9826 - val_loss: 0.0807 - val_acc: 0.9760\n",
      "\n",
      "Epoch 00009: val_loss improved from 0.09168 to 0.08068, saving model to mnist_model/09-0.0807.hdf5\n",
      "Epoch 10/30\n",
      "60000/60000 [==============================] - 2s 40us/step - loss: 0.0495 - acc: 0.9855 - val_loss: 0.0804 - val_acc: 0.9763\n",
      "\n",
      "Epoch 00010: val_loss improved from 0.08068 to 0.08036, saving model to mnist_model/10-0.0804.hdf5\n",
      "Epoch 11/30\n",
      "60000/60000 [==============================] - 3s 44us/step - loss: 0.0426 - acc: 0.9876 - val_loss: 0.0797 - val_acc: 0.9760\n",
      "\n",
      "Epoch 00011: val_loss improved from 0.08036 to 0.07968, saving model to mnist_model/11-0.0797.hdf5\n",
      "Epoch 12/30\n",
      "60000/60000 [==============================] - 2s 41us/step - loss: 0.0371 - acc: 0.9892 - val_loss: 0.0703 - val_acc: 0.9788\n",
      "\n",
      "Epoch 00012: val_loss improved from 0.07968 to 0.07029, saving model to mnist_model/12-0.0703.hdf5\n",
      "Epoch 13/30\n",
      "60000/60000 [==============================] - 2s 41us/step - loss: 0.0314 - acc: 0.9910 - val_loss: 0.0706 - val_acc: 0.9787\n",
      "\n",
      "Epoch 00013: val_loss did not improve from 0.07029\n",
      "Epoch 14/30\n",
      "60000/60000 [==============================] - 2s 41us/step - loss: 0.0275 - acc: 0.9920 - val_loss: 0.0737 - val_acc: 0.9786\n",
      "\n",
      "Epoch 00014: val_loss did not improve from 0.07029\n",
      "Epoch 15/30\n",
      "60000/60000 [==============================] - 3s 42us/step - loss: 0.0235 - acc: 0.9936 - val_loss: 0.0708 - val_acc: 0.9801\n",
      "\n",
      "Epoch 00015: val_loss did not improve from 0.07029\n",
      "Epoch 16/30\n",
      "60000/60000 [==============================] - 2s 41us/step - loss: 0.0205 - acc: 0.9942 - val_loss: 0.0675 - val_acc: 0.9801\n",
      "\n",
      "Epoch 00016: val_loss improved from 0.07029 to 0.06746, saving model to mnist_model/16-0.0675.hdf5\n",
      "Epoch 17/30\n",
      "60000/60000 [==============================] - 3s 44us/step - loss: 0.0168 - acc: 0.9957 - val_loss: 0.0742 - val_acc: 0.9780\n",
      "\n",
      "Epoch 00017: val_loss did not improve from 0.06746\n",
      "Epoch 18/30\n",
      "60000/60000 [==============================] - 3s 46us/step - loss: 0.0145 - acc: 0.9964 - val_loss: 0.0711 - val_acc: 0.9805\n",
      "\n",
      "Epoch 00018: val_loss did not improve from 0.06746\n",
      "Epoch 19/30\n",
      "60000/60000 [==============================] - 3s 42us/step - loss: 0.0128 - acc: 0.9967 - val_loss: 0.0738 - val_acc: 0.9794\n",
      "\n",
      "Epoch 00019: val_loss did not improve from 0.06746\n",
      "Epoch 20/30\n",
      "60000/60000 [==============================] - 2s 41us/step - loss: 0.0101 - acc: 0.9980 - val_loss: 0.0714 - val_acc: 0.9816\n",
      "\n",
      "Epoch 00020: val_loss did not improve from 0.06746\n",
      "Epoch 21/30\n",
      "60000/60000 [==============================] - 3s 43us/step - loss: 0.0094 - acc: 0.9979 - val_loss: 0.0741 - val_acc: 0.9797\n",
      "\n",
      "Epoch 00021: val_loss did not improve from 0.06746\n",
      "Epoch 22/30\n",
      "60000/60000 [==============================] - 3s 45us/step - loss: 0.0080 - acc: 0.9983 - val_loss: 0.0720 - val_acc: 0.9798\n",
      "\n",
      "Epoch 00022: val_loss did not improve from 0.06746\n",
      "Epoch 23/30\n",
      "60000/60000 [==============================] - 3s 43us/step - loss: 0.0063 - acc: 0.9988 - val_loss: 0.0793 - val_acc: 0.9796\n",
      "\n",
      "Epoch 00023: val_loss did not improve from 0.06746\n",
      "Epoch 24/30\n",
      "60000/60000 [==============================] - 2s 40us/step - loss: 0.0055 - acc: 0.9990 - val_loss: 0.0758 - val_acc: 0.9802\n",
      "\n",
      "Epoch 00024: val_loss did not improve from 0.06746\n",
      "Epoch 25/30\n",
      "60000/60000 [==============================] - 2s 40us/step - loss: 0.0053 - acc: 0.9990 - val_loss: 0.0802 - val_acc: 0.9795\n",
      "\n",
      "Epoch 00025: val_loss did not improve from 0.06746\n",
      "Epoch 26/30\n",
      "60000/60000 [==============================] - 2s 40us/step - loss: 0.0047 - acc: 0.9989 - val_loss: 0.0766 - val_acc: 0.9816\n",
      "\n",
      "Epoch 00026: val_loss did not improve from 0.06746\n"
     ]
    }
   ],
   "source": [
    "# 모델 실행\n",
    "history = model.fit(X_train, Y_train, validation_data=(X_test, Y_test), \n",
    "                    epochs=30, batch_size=200, verbose=1, callbacks=[early_stopping_callback, checkpointer])"
   ]
  },
  {
   "cell_type": "code",
   "execution_count": 23,
   "metadata": {},
   "outputs": [
    {
     "name": "stdout",
     "output_type": "stream",
     "text": [
      "10000/10000 [==============================] - 0s 20us/step\n",
      "\n",
      " Test Accuracy: 0.9816\n"
     ]
    }
   ],
   "source": [
    "print(\"\\n Test Accuracy: %.4f\" % (model.evaluate(X_test, Y_test)[1]))"
   ]
  },
  {
   "cell_type": "code",
   "execution_count": 27,
   "metadata": {},
   "outputs": [
    {
     "data": {
      "image/png": "[encoded data removed]",
      "text/plain": [
       "<Figure size 576x576 with 1 Axes>"
      ]
     },
     "metadata": {
      "needs_background": "light"
     },
     "output_type": "display_data"
    }
   ],
   "source": [
    "import numpy as np\n",
    "import matplotlib.pyplot as plt\n",
    "%matplotlib inline\n",
    "\n",
    "y_vloss = history.history['val_loss'] # 검증셋으로 측정한 오차\n",
    "y_loss = history.history['loss'] # 학습셋의 오차\n",
    "y_acc = history.history['acc'] # 학습셋의 정확도\n",
    "x_len = np.arange(1,len(y_loss)+1)\n",
    "\n",
    "plt.figure(figsize=(8,8))\n",
    "plt.plot(x_len, y_vloss, marker='.', c='red', label='Testset_loss')\n",
    "plt.plot(x_len, y_loss, marker='.', c='blue', label='Trainset_loss')\n",
    "plt.legend(loc='best')\n",
    "plt.grid()\n",
    "plt.xlabel('epoch')\n",
    "plt.ylabel('loss')\n",
    "plt.title('MNIST data 1')\n",
    "plt.show()"
   ]
  },
  {
   "cell_type": "code",
   "execution_count": 28,
   "metadata": {},
   "outputs": [
    {
     "data": {
      "image/png": "[encoded data removed]",
      "text/plain": [
       "<Figure size 576x576 with 1 Axes>"
      ]
     },
     "metadata": {
      "needs_background": "light"
     },
     "output_type": "display_data"
    }
   ],
   "source": [
    "plt.figure(figsize=(8,8))\n",
    "plt.plot(x_len, y_vloss, marker='.', c='red', label='Testset_loss')\n",
    "plt.plot(x_len, y_acc, marker='.', c='green', label='Trainset_accuracy')\n",
    "plt.legend(loc='best')\n",
    "plt.grid()\n",
    "plt.xlabel('epoch')\n",
    "plt.title('MNIST data 2')\n",
    "plt.show()"
   ]
  },
  {
   "cell_type": "markdown",
   "metadata": {},
   "source": [
    "## Convolutional Neural Network\n",
    "\n",
    "### CNN\n",
    "- 입력된 image에서 다시 한번 특징을 추출하기 위해 mask(filter, window 또는 kernel)를 도입하는 기법\n",
    "- 공간정보를 유지하기 위함\n",
    "\n",
    "### Max-pooling\n",
    "- CNN에 의한 결과가 여전히 크고 복잡한 경우 다시 한번 축소하는 과정"
   ]
  },
  {
   "cell_type": "code",
   "execution_count": 3,
   "metadata": {},
   "outputs": [
    {
     "name": "stdout",
     "output_type": "stream",
     "text": [
      "_________________________________________________________________\n",
      "Layer (type)                 Output Shape              Param #   \n",
      "=================================================================\n",
      "conv2d_3 (Conv2D)            (None, 26, 26, 32)        320       \n",
      "_________________________________________________________________\n",
      "conv2d_4 (Conv2D)            (None, 24, 24, 64)        18496     \n",
      "_________________________________________________________________\n",
      "max_pooling2d_2 (MaxPooling2 (None, 12, 12, 64)        0         \n",
      "_________________________________________________________________\n",
      "dropout_3 (Dropout)          (None, 12, 12, 64)        0         \n",
      "_________________________________________________________________\n",
      "flatten_2 (Flatten)          (None, 9216)              0         \n",
      "_________________________________________________________________\n",
      "dense_3 (Dense)              (None, 128)               1179776   \n",
      "_________________________________________________________________\n",
      "dropout_4 (Dropout)          (None, 128)               0         \n",
      "_________________________________________________________________\n",
      "dense_4 (Dense)              (None, 10)                1290      \n",
      "=================================================================\n",
      "Total params: 1,199,882\n",
      "Trainable params: 1,199,882\n",
      "Non-trainable params: 0\n",
      "_________________________________________________________________\n"
     ]
    }
   ],
   "source": [
    "from keras.datasets import mnist\n",
    "from keras.utils import np_utils\n",
    "from keras.models import Sequential\n",
    "from keras.layers import Dense, Dropout, Flatten, Conv2D, MaxPooling2D\n",
    "from keras.callbacks import ModelCheckpoint,EarlyStopping\n",
    "\n",
    "import numpy as np\n",
    "import os\n",
    "import sys\n",
    "import tensorflow as tf\n",
    "\n",
    "# seed 값 설정\n",
    "seed = 0\n",
    "np.random.seed(seed)\n",
    "tf.set_random_seed(seed)\n",
    "\n",
    "# 데이터 불러오기\n",
    "(X_train, Y_train), (X_test, Y_test) = mnist.load_data()\n",
    "X_train = X_train.reshape(X_train.shape[0], 28, 28, 1).astype('float32') / 255\n",
    "X_test = X_test.reshape(X_test.shape[0], 28, 28, 1).astype('float32') / 255\n",
    "Y_train = np_utils.to_categorical(Y_train)\n",
    "Y_test = np_utils.to_categorical(Y_test)\n",
    "\n",
    "# 컨볼루션 신경망의 설정\n",
    "model = Sequential()\n",
    "# 마스크 갯수, 마스크의 크기, 입력되는 값 및 색상, 활성화 함수\n",
    "model.add(Conv2D(32, kernel_size=(3, 3), input_shape=(28, 28, 1), activation='relu')) # input_shape=(행, 열, 색상(3) 또는 흑백(1))\n",
    "model.add(Conv2D(64, kernel_size=(3, 3), activation='relu'))\n",
    "model.add(MaxPooling2D(pool_size=2)) # pool_size=2 : 절반으로 줄임\n",
    "model.add(Dropout(0.25)) # 과적합 방지를 위한 25% 노드 끄기\n",
    "model.add(Flatten()) # CNN이나 max-pooling의 경우 주어진 이미지를 2차원 배열인 채로 다루기 때문에 이를 1차원으로 바꿔야 함\n",
    "model.add(Dense(128,  activation='softplus'))\n",
    "model.add(Dropout(0.5))\n",
    "model.add(Dense(10, activation='softmax'))\n",
    "model.summary()"
   ]
  },
  {
   "cell_type": "code",
   "execution_count": 5,
   "metadata": {},
   "outputs": [],
   "source": [
    "# model compile\n",
    "model.compile(loss='categorical_crossentropy', optimizer='adam', metrics=['accuracy'])"
   ]
  },
  {
   "cell_type": "code",
   "execution_count": 6,
   "metadata": {},
   "outputs": [],
   "source": [
    "# 모델 최적화 설정\n",
    "MODEL_DIR = 'mnist_model//'\n",
    "if not os.path.exists(MODEL_DIR):\n",
    "    os.mkdir(MODEL_DIR)\n",
    "\n",
    "modelpath=\"mnist_model//{epoch:02d}-{val_loss:.4f}.hdf5\"\n",
    "checkpointer = ModelCheckpoint(filepath=modelpath, monitor='val_loss', verbose=1, save_best_only=True)\n",
    "early_stopping_callback = EarlyStopping(monitor='val_loss', patience=10)"
   ]
  },
  {
   "cell_type": "code",
   "execution_count": 7,
   "metadata": {},
   "outputs": [
    {
     "name": "stderr",
     "output_type": "stream",
     "text": [
      "W0819 11:28:50.165331  5424 deprecation.py:323] From C:\\ProgramData\\Anaconda3\\lib\\site-packages\\tensorflow\\python\\ops\\math_grad.py:1250: add_dispatch_support.<locals>.wrapper (from tensorflow.python.ops.array_ops) is deprecated and will be removed in a future version.\n",
      "Instructions for updating:\n",
      "Use tf.where in 2.0, which has the same broadcast rule as np.where\n"
     ]
    },
    {
     "name": "stdout",
     "output_type": "stream",
     "text": [
      "Train on 60000 samples, validate on 10000 samples\n",
      "Epoch 1/30\n",
      "60000/60000 [==============================] - 56s 939us/step - loss: 0.3402 - acc: 0.8951 - val_loss: 0.0647 - val_acc: 0.9800\n",
      "\n",
      "Epoch 00001: val_loss improved from inf to 0.06473, saving model to mnist_model//01-0.0647.hdf5\n",
      "Epoch 2/30\n",
      "60000/60000 [==============================] - 59s 983us/step - loss: 0.0965 - acc: 0.9714 - val_loss: 0.0423 - val_acc: 0.9849\n",
      "\n",
      "Epoch 00002: val_loss improved from 0.06473 to 0.04231, saving model to mnist_model//02-0.0423.hdf5\n",
      "Epoch 3/30\n",
      "60000/60000 [==============================] - 56s 940us/step - loss: 0.0690 - acc: 0.9788 - val_loss: 0.0402 - val_acc: 0.9871\n",
      "\n",
      "Epoch 00003: val_loss improved from 0.04231 to 0.04017, saving model to mnist_model//03-0.0402.hdf5\n",
      "Epoch 4/30\n",
      "60000/60000 [==============================] - 59s 989us/step - loss: 0.0584 - acc: 0.9817 - val_loss: 0.0310 - val_acc: 0.9887\n",
      "\n",
      "Epoch 00004: val_loss improved from 0.04017 to 0.03104, saving model to mnist_model//04-0.0310.hdf5\n",
      "Epoch 5/30\n",
      "60000/60000 [==============================] - 56s 941us/step - loss: 0.0483 - acc: 0.9850 - val_loss: 0.0289 - val_acc: 0.9903\n",
      "\n",
      "Epoch 00005: val_loss improved from 0.03104 to 0.02886, saving model to mnist_model//05-0.0289.hdf5\n",
      "Epoch 6/30\n",
      "60000/60000 [==============================] - 56s 937us/step - loss: 0.0428 - acc: 0.9864 - val_loss: 0.0290 - val_acc: 0.9910\n",
      "\n",
      "Epoch 00006: val_loss did not improve from 0.02886\n",
      "Epoch 7/30\n",
      "60000/60000 [==============================] - 58s 962us/step - loss: 0.0357 - acc: 0.9886 - val_loss: 0.0278 - val_acc: 0.9913\n",
      "\n",
      "Epoch 00007: val_loss improved from 0.02886 to 0.02775, saving model to mnist_model//07-0.0278.hdf5\n",
      "Epoch 8/30\n",
      "60000/60000 [==============================] - 57s 952us/step - loss: 0.0348 - acc: 0.9889 - val_loss: 0.0273 - val_acc: 0.9915\n",
      "\n",
      "Epoch 00008: val_loss improved from 0.02775 to 0.02732, saving model to mnist_model//08-0.0273.hdf5\n",
      "Epoch 9/30\n",
      "60000/60000 [==============================] - 60s 998us/step - loss: 0.0312 - acc: 0.9902 - val_loss: 0.0283 - val_acc: 0.9915\n",
      "\n",
      "Epoch 00009: val_loss did not improve from 0.02732\n",
      "Epoch 10/30\n",
      "60000/60000 [==============================] - 57s 952us/step - loss: 0.0290 - acc: 0.9911 - val_loss: 0.0283 - val_acc: 0.9913\n",
      "\n",
      "Epoch 00010: val_loss did not improve from 0.02732\n",
      "Epoch 11/30\n",
      "60000/60000 [==============================] - 56s 939us/step - loss: 0.0264 - acc: 0.9914 - val_loss: 0.0287 - val_acc: 0.9910\n",
      "\n",
      "Epoch 00011: val_loss did not improve from 0.02732\n",
      "Epoch 12/30\n",
      "60000/60000 [==============================] - 58s 967us/step - loss: 0.0246 - acc: 0.9921 - val_loss: 0.0309 - val_acc: 0.9912\n",
      "\n",
      "Epoch 00012: val_loss did not improve from 0.02732\n",
      "Epoch 13/30\n",
      "60000/60000 [==============================] - 57s 952us/step - loss: 0.0228 - acc: 0.9924 - val_loss: 0.0306 - val_acc: 0.9917\n",
      "\n",
      "Epoch 00013: val_loss did not improve from 0.02732\n",
      "Epoch 14/30\n",
      "60000/60000 [==============================] - 57s 952us/step - loss: 0.0207 - acc: 0.9928 - val_loss: 0.0306 - val_acc: 0.9917\n",
      "\n",
      "Epoch 00014: val_loss did not improve from 0.02732\n",
      "Epoch 15/30\n",
      "60000/60000 [==============================] - 57s 951us/step - loss: 0.0209 - acc: 0.9930 - val_loss: 0.0297 - val_acc: 0.9917\n",
      "\n",
      "Epoch 00015: val_loss did not improve from 0.02732\n",
      "Epoch 16/30\n",
      "60000/60000 [==============================] - 57s 953us/step - loss: 0.0177 - acc: 0.9940 - val_loss: 0.0312 - val_acc: 0.9923\n",
      "\n",
      "Epoch 00016: val_loss did not improve from 0.02732\n",
      "Epoch 17/30\n",
      "60000/60000 [==============================] - 57s 952us/step - loss: 0.0188 - acc: 0.9938 - val_loss: 0.0290 - val_acc: 0.9925\n",
      "\n",
      "Epoch 00017: val_loss did not improve from 0.02732\n",
      "Epoch 18/30\n",
      "60000/60000 [==============================] - 57s 949us/step - loss: 0.0157 - acc: 0.9947 - val_loss: 0.0300 - val_acc: 0.9926\n",
      "\n",
      "Epoch 00018: val_loss did not improve from 0.02732\n"
     ]
    }
   ],
   "source": [
    "# 모델의 실행\n",
    "history = model.fit(X_train, Y_train, validation_data=(X_test, Y_test), epochs=30, batch_size=200, verbose=1, \n",
    "                    callbacks=[early_stopping_callback,checkpointer])"
   ]
  },
  {
   "cell_type": "code",
   "execution_count": 8,
   "metadata": {},
   "outputs": [
    {
     "name": "stdout",
     "output_type": "stream",
     "text": [
      "10000/10000 [==============================] - 2s 186us/step\n",
      "\n",
      " Test Accuracy: 0.9926\n"
     ]
    }
   ],
   "source": [
    "# 테스트 정확도 출력\n",
    "print(\"\\n Test Accuracy: %.4f\" % (model.evaluate(X_test, Y_test)[1]))"
   ]
  },
  {
   "cell_type": "code",
   "execution_count": 9,
   "metadata": {},
   "outputs": [
    {
     "data": {
      "image/png": "[encoded data removed]",
      "text/plain": [
       "<Figure size 576x576 with 1 Axes>"
      ]
     },
     "metadata": {
      "needs_background": "light"
     },
     "output_type": "display_data"
    }
   ],
   "source": [
    "# 그래프 \n",
    "import matplotlib.pyplot as plt\n",
    "%matplotlib inline\n",
    "y_vloss = history.history['val_loss'] # 검증셋으로 측정한 오차\n",
    "y_loss = history.history['loss'] # 학습셋의 오차\n",
    "x_len = np.arange(len(y_loss))\n",
    "\n",
    "plt.figure(figsize=(8,8))\n",
    "plt.plot(x_len, y_vloss, marker='.', c='red', label='Testset_loss')\n",
    "plt.plot(x_len, y_loss, marker='.', c='blue', label='Trainset_loss')\n",
    "plt.legend(loc='best')\n",
    "plt.grid()\n",
    "plt.xlabel('epoch')\n",
    "plt.ylabel('loss')\n",
    "plt.title('MNIST data (CNN)')\n",
    "plt.show()"
   ]
  }
 ],
 "metadata": {
  "kernelspec": {
   "display_name": "Python 3",
   "language": "python",
   "name": "python3"
  },
  "language_info": {
   "codemirror_mode": {
    "name": "ipython",
    "version": 3
   },
   "file_extension": ".py",
   "mimetype": "text/x-python",
   "name": "python",
   "nbconvert_exporter": "python",
   "pygments_lexer": "ipython3",
   "version": "3.7.3"
  }
 },
 "nbformat": 4,
 "nbformat_minor": 2
}
