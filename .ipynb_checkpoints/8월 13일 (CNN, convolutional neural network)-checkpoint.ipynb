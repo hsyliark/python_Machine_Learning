{
 "cells": [
  {
   "cell_type": "markdown",
   "metadata": {},
   "source": [
    "# CNN(convolutional neural network)"
   ]
  },
  {
   "cell_type": "code",
   "execution_count": 1,
   "metadata": {},
   "outputs": [
    {
     "name": "stderr",
     "output_type": "stream",
     "text": [
      "Using TensorFlow backend.\n"
     ]
    }
   ],
   "source": [
    "# need library\n",
    "import numpy as np\n",
    "import tensorflow as tf\n",
    "# warning remove\n",
    "if type(tf.contrib) != type(tf):\n",
    "    tf.contrib._warning = None\n",
    "# 딥러닝 구동에 필요한 케라스 함수\n",
    "from keras.models import Sequential\n",
    "from keras.layers import Dense    "
   ]
  },
  {
   "cell_type": "markdown",
   "metadata": {},
   "source": [
    "## data handling"
   ]
  },
  {
   "cell_type": "code",
   "execution_count": 15,
   "metadata": {},
   "outputs": [
    {
     "data": {
      "text/plain": [
       "((array([[[0, 0, 0, ..., 0, 0, 0],\n",
       "          [0, 0, 0, ..., 0, 0, 0],\n",
       "          [0, 0, 0, ..., 0, 0, 0],\n",
       "          ...,\n",
       "          [0, 0, 0, ..., 0, 0, 0],\n",
       "          [0, 0, 0, ..., 0, 0, 0],\n",
       "          [0, 0, 0, ..., 0, 0, 0]],\n",
       "  \n",
       "         [[0, 0, 0, ..., 0, 0, 0],\n",
       "          [0, 0, 0, ..., 0, 0, 0],\n",
       "          [0, 0, 0, ..., 0, 0, 0],\n",
       "          ...,\n",
       "          [0, 0, 0, ..., 0, 0, 0],\n",
       "          [0, 0, 0, ..., 0, 0, 0],\n",
       "          [0, 0, 0, ..., 0, 0, 0]],\n",
       "  \n",
       "         [[0, 0, 0, ..., 0, 0, 0],\n",
       "          [0, 0, 0, ..., 0, 0, 0],\n",
       "          [0, 0, 0, ..., 0, 0, 0],\n",
       "          ...,\n",
       "          [0, 0, 0, ..., 0, 0, 0],\n",
       "          [0, 0, 0, ..., 0, 0, 0],\n",
       "          [0, 0, 0, ..., 0, 0, 0]],\n",
       "  \n",
       "         ...,\n",
       "  \n",
       "         [[0, 0, 0, ..., 0, 0, 0],\n",
       "          [0, 0, 0, ..., 0, 0, 0],\n",
       "          [0, 0, 0, ..., 0, 0, 0],\n",
       "          ...,\n",
       "          [0, 0, 0, ..., 0, 0, 0],\n",
       "          [0, 0, 0, ..., 0, 0, 0],\n",
       "          [0, 0, 0, ..., 0, 0, 0]],\n",
       "  \n",
       "         [[0, 0, 0, ..., 0, 0, 0],\n",
       "          [0, 0, 0, ..., 0, 0, 0],\n",
       "          [0, 0, 0, ..., 0, 0, 0],\n",
       "          ...,\n",
       "          [0, 0, 0, ..., 0, 0, 0],\n",
       "          [0, 0, 0, ..., 0, 0, 0],\n",
       "          [0, 0, 0, ..., 0, 0, 0]],\n",
       "  \n",
       "         [[0, 0, 0, ..., 0, 0, 0],\n",
       "          [0, 0, 0, ..., 0, 0, 0],\n",
       "          [0, 0, 0, ..., 0, 0, 0],\n",
       "          ...,\n",
       "          [0, 0, 0, ..., 0, 0, 0],\n",
       "          [0, 0, 0, ..., 0, 0, 0],\n",
       "          [0, 0, 0, ..., 0, 0, 0]]], dtype=uint8),\n",
       "  array([5, 0, 4, ..., 5, 6, 8], dtype=uint8)),\n",
       " (array([[[0, 0, 0, ..., 0, 0, 0],\n",
       "          [0, 0, 0, ..., 0, 0, 0],\n",
       "          [0, 0, 0, ..., 0, 0, 0],\n",
       "          ...,\n",
       "          [0, 0, 0, ..., 0, 0, 0],\n",
       "          [0, 0, 0, ..., 0, 0, 0],\n",
       "          [0, 0, 0, ..., 0, 0, 0]],\n",
       "  \n",
       "         [[0, 0, 0, ..., 0, 0, 0],\n",
       "          [0, 0, 0, ..., 0, 0, 0],\n",
       "          [0, 0, 0, ..., 0, 0, 0],\n",
       "          ...,\n",
       "          [0, 0, 0, ..., 0, 0, 0],\n",
       "          [0, 0, 0, ..., 0, 0, 0],\n",
       "          [0, 0, 0, ..., 0, 0, 0]],\n",
       "  \n",
       "         [[0, 0, 0, ..., 0, 0, 0],\n",
       "          [0, 0, 0, ..., 0, 0, 0],\n",
       "          [0, 0, 0, ..., 0, 0, 0],\n",
       "          ...,\n",
       "          [0, 0, 0, ..., 0, 0, 0],\n",
       "          [0, 0, 0, ..., 0, 0, 0],\n",
       "          [0, 0, 0, ..., 0, 0, 0]],\n",
       "  \n",
       "         ...,\n",
       "  \n",
       "         [[0, 0, 0, ..., 0, 0, 0],\n",
       "          [0, 0, 0, ..., 0, 0, 0],\n",
       "          [0, 0, 0, ..., 0, 0, 0],\n",
       "          ...,\n",
       "          [0, 0, 0, ..., 0, 0, 0],\n",
       "          [0, 0, 0, ..., 0, 0, 0],\n",
       "          [0, 0, 0, ..., 0, 0, 0]],\n",
       "  \n",
       "         [[0, 0, 0, ..., 0, 0, 0],\n",
       "          [0, 0, 0, ..., 0, 0, 0],\n",
       "          [0, 0, 0, ..., 0, 0, 0],\n",
       "          ...,\n",
       "          [0, 0, 0, ..., 0, 0, 0],\n",
       "          [0, 0, 0, ..., 0, 0, 0],\n",
       "          [0, 0, 0, ..., 0, 0, 0]],\n",
       "  \n",
       "         [[0, 0, 0, ..., 0, 0, 0],\n",
       "          [0, 0, 0, ..., 0, 0, 0],\n",
       "          [0, 0, 0, ..., 0, 0, 0],\n",
       "          ...,\n",
       "          [0, 0, 0, ..., 0, 0, 0],\n",
       "          [0, 0, 0, ..., 0, 0, 0],\n",
       "          [0, 0, 0, ..., 0, 0, 0]]], dtype=uint8),\n",
       "  array([7, 2, 1, ..., 4, 5, 6], dtype=uint8)))"
      ]
     },
     "execution_count": 15,
     "metadata": {},
     "output_type": "execute_result"
    }
   ],
   "source": [
    "from keras.datasets import mnist\n",
    "from keras.utils import np_utils\n",
    "\n",
    "import numpy as np\n",
    "import tensorflow as tf\n",
    "\n",
    "seed = 0\n",
    "np.random.seed(seed)\n",
    "tf.set_random_seed(seed)\n",
    "\n",
    "# MNIST data (손글씨)\n",
    "mnist.load_data()"
   ]
  },
  {
   "cell_type": "code",
   "execution_count": 16,
   "metadata": {},
   "outputs": [
    {
     "name": "stdout",
     "output_type": "stream",
     "text": [
      "학습셋 이미지 수 : 60000 개\n",
      "검증셋 이미지 수 : 10000 개\n"
     ]
    }
   ],
   "source": [
    "(X_train, Y_class_train), (X_test, Y_class_test) = mnist.load_data()\n",
    "print(\"학습셋 이미지 수 : %d 개\" % (X_train.shape[0]))\n",
    "print(\"검증셋 이미지 수 : %d 개\" % (X_test.shape[0]))"
   ]
  },
  {
   "cell_type": "markdown",
   "metadata": {},
   "source": [
    "### graph"
   ]
  },
  {
   "cell_type": "code",
   "execution_count": 17,
   "metadata": {},
   "outputs": [
    {
     "data": {
      "image/png": "[encoded data removed]",
      "text/plain": [
       "<Figure size 720x720 with 1 Axes>"
      ]
     },
     "metadata": {
      "needs_background": "light"
     },
     "output_type": "display_data"
    }
   ],
   "source": [
    "import matplotlib.pyplot as plt\n",
    "%matplotlib inline\n",
    "\n",
    "plt.figure(figsize=(10,10))\n",
    "plt.imshow(X_train[0], cmap='Greys')\n",
    "plt.show()"
   ]
  },
  {
   "cell_type": "markdown",
   "metadata": {},
   "source": [
    "### checking with code"
   ]
  },
  {
   "cell_type": "code",
   "execution_count": 18,
   "metadata": {},
   "outputs": [
    {
     "name": "stdout",
     "output_type": "stream",
     "text": [
      "0\t0\t0\t0\t0\t0\t0\t0\t0\t0\t0\t0\t0\t0\t0\t0\t0\t0\t0\t0\t0\t0\t0\t0\t0\t0\t0\t0\t\n",
      "0\t0\t0\t0\t0\t0\t0\t0\t0\t0\t0\t0\t0\t0\t0\t0\t0\t0\t0\t0\t0\t0\t0\t0\t0\t0\t0\t0\t\n",
      "0\t0\t0\t0\t0\t0\t0\t0\t0\t0\t0\t0\t0\t0\t0\t0\t0\t0\t0\t0\t0\t0\t0\t0\t0\t0\t0\t0\t\n",
      "0\t0\t0\t0\t0\t0\t0\t0\t0\t0\t0\t0\t0\t0\t0\t0\t0\t0\t0\t0\t0\t0\t0\t0\t0\t0\t0\t0\t\n",
      "0\t0\t0\t0\t0\t0\t0\t0\t0\t0\t0\t0\t0\t0\t0\t0\t0\t0\t0\t0\t0\t0\t0\t0\t0\t0\t0\t0\t\n",
      "0\t0\t0\t0\t0\t0\t0\t0\t0\t0\t0\t0\t3\t18\t18\t18\t126\t136\t175\t26\t166\t255\t247\t127\t0\t0\t0\t0\t\n",
      "0\t0\t0\t0\t0\t0\t0\t0\t30\t36\t94\t154\t170\t253\t253\t253\t253\t253\t225\t172\t253\t242\t195\t64\t0\t0\t0\t0\t\n",
      "0\t0\t0\t0\t0\t0\t0\t49\t238\t253\t253\t253\t253\t253\t253\t253\t253\t251\t93\t82\t82\t56\t39\t0\t0\t0\t0\t0\t\n",
      "0\t0\t0\t0\t0\t0\t0\t18\t219\t253\t253\t253\t253\t253\t198\t182\t247\t241\t0\t0\t0\t0\t0\t0\t0\t0\t0\t0\t\n",
      "0\t0\t0\t0\t0\t0\t0\t0\t80\t156\t107\t253\t253\t205\t11\t0\t43\t154\t0\t0\t0\t0\t0\t0\t0\t0\t0\t0\t\n",
      "0\t0\t0\t0\t0\t0\t0\t0\t0\t14\t1\t154\t253\t90\t0\t0\t0\t0\t0\t0\t0\t0\t0\t0\t0\t0\t0\t0\t\n",
      "0\t0\t0\t0\t0\t0\t0\t0\t0\t0\t0\t139\t253\t190\t2\t0\t0\t0\t0\t0\t0\t0\t0\t0\t0\t0\t0\t0\t\n",
      "0\t0\t0\t0\t0\t0\t0\t0\t0\t0\t0\t11\t190\t253\t70\t0\t0\t0\t0\t0\t0\t0\t0\t0\t0\t0\t0\t0\t\n",
      "0\t0\t0\t0\t0\t0\t0\t0\t0\t0\t0\t0\t35\t241\t225\t160\t108\t1\t0\t0\t0\t0\t0\t0\t0\t0\t0\t0\t\n",
      "0\t0\t0\t0\t0\t0\t0\t0\t0\t0\t0\t0\t0\t81\t240\t253\t253\t119\t25\t0\t0\t0\t0\t0\t0\t0\t0\t0\t\n",
      "0\t0\t0\t0\t0\t0\t0\t0\t0\t0\t0\t0\t0\t0\t45\t186\t253\t253\t150\t27\t0\t0\t0\t0\t0\t0\t0\t0\t\n",
      "0\t0\t0\t0\t0\t0\t0\t0\t0\t0\t0\t0\t0\t0\t0\t16\t93\t252\t253\t187\t0\t0\t0\t0\t0\t0\t0\t0\t\n",
      "0\t0\t0\t0\t0\t0\t0\t0\t0\t0\t0\t0\t0\t0\t0\t0\t0\t249\t253\t249\t64\t0\t0\t0\t0\t0\t0\t0\t\n",
      "0\t0\t0\t0\t0\t0\t0\t0\t0\t0\t0\t0\t0\t0\t46\t130\t183\t253\t253\t207\t2\t0\t0\t0\t0\t0\t0\t0\t\n",
      "0\t0\t0\t0\t0\t0\t0\t0\t0\t0\t0\t0\t39\t148\t229\t253\t253\t253\t250\t182\t0\t0\t0\t0\t0\t0\t0\t0\t\n",
      "0\t0\t0\t0\t0\t0\t0\t0\t0\t0\t24\t114\t221\t253\t253\t253\t253\t201\t78\t0\t0\t0\t0\t0\t0\t0\t0\t0\t\n",
      "0\t0\t0\t0\t0\t0\t0\t0\t23\t66\t213\t253\t253\t253\t253\t198\t81\t2\t0\t0\t0\t0\t0\t0\t0\t0\t0\t0\t\n",
      "0\t0\t0\t0\t0\t0\t18\t171\t219\t253\t253\t253\t253\t195\t80\t9\t0\t0\t0\t0\t0\t0\t0\t0\t0\t0\t0\t0\t\n",
      "0\t0\t0\t0\t55\t172\t226\t253\t253\t253\t253\t244\t133\t11\t0\t0\t0\t0\t0\t0\t0\t0\t0\t0\t0\t0\t0\t0\t\n",
      "0\t0\t0\t0\t136\t253\t253\t253\t212\t135\t132\t16\t0\t0\t0\t0\t0\t0\t0\t0\t0\t0\t0\t0\t0\t0\t0\t0\t\n",
      "0\t0\t0\t0\t0\t0\t0\t0\t0\t0\t0\t0\t0\t0\t0\t0\t0\t0\t0\t0\t0\t0\t0\t0\t0\t0\t0\t0\t\n",
      "0\t0\t0\t0\t0\t0\t0\t0\t0\t0\t0\t0\t0\t0\t0\t0\t0\t0\t0\t0\t0\t0\t0\t0\t0\t0\t0\t0\t\n",
      "0\t0\t0\t0\t0\t0\t0\t0\t0\t0\t0\t0\t0\t0\t0\t0\t0\t0\t0\t0\t0\t0\t0\t0\t0\t0\t0\t0\t\n"
     ]
    }
   ],
   "source": [
    "for x in X_train[0]:\n",
    "    for i in x:\n",
    "        sys.stdout.write('%d\\t' % i)\n",
    "    sys.stdout.write('\\n')    "
   ]
  },
  {
   "cell_type": "markdown",
   "metadata": {},
   "source": [
    "### data dimension transformation and normalization"
   ]
  },
  {
   "cell_type": "code",
   "execution_count": 19,
   "metadata": {},
   "outputs": [
    {
     "name": "stdout",
     "output_type": "stream",
     "text": [
      "class : 5 \n"
     ]
    }
   ],
   "source": [
    "X_train = X_train.reshape(X_train.shape[0], 784).astype('float64') / 255 # reshape : 1차원 배열로 변환\n",
    "X_test = X_test.reshape(X_test.shape[0], 784).astype('float64') / 255\n",
    "# 이름 확인\n",
    "print(\"class : %d \" % (Y_class_train[0]))"
   ]
  },
  {
   "cell_type": "markdown",
   "metadata": {},
   "source": [
    "### one_hot encoding"
   ]
  },
  {
   "cell_type": "code",
   "execution_count": 20,
   "metadata": {},
   "outputs": [
    {
     "name": "stdout",
     "output_type": "stream",
     "text": [
      "[0. 0. 0. 0. 0. 1. 0. 0. 0. 0.]\n"
     ]
    }
   ],
   "source": [
    "Y_train = np_utils.to_categorical(Y_class_train,10)\n",
    "Y_test = np_utils.to_categorical(Y_class_test,10)\n",
    "# 출력\n",
    "print(Y_train[0])"
   ]
  },
  {
   "cell_type": "markdown",
   "metadata": {},
   "source": [
    "## Deep Learning basic frame"
   ]
  },
  {
   "cell_type": "code",
   "execution_count": 21,
   "metadata": {},
   "outputs": [],
   "source": [
    "from keras.models import Sequential\n",
    "from keras.layers import Dense\n",
    "from keras.callbacks import ModelCheckpoint, EarlyStopping\n",
    "\n",
    "# 모델 프레임 설정\n",
    "model = Sequential()\n",
    "model.add(Dense(512, input_dim=784, activation='relu'))\n",
    "model.add(Dense(10, activation='softmax'))\n",
    "\n",
    "# 모델 실행 환경 설정\n",
    "model.compile(loss='categorical_crossentropy', optimizer='adam', metrics=['accuracy'])"
   ]
  },
  {
   "cell_type": "code",
   "execution_count": 22,
   "metadata": {},
   "outputs": [],
   "source": [
    "import os\n",
    "import sys\n",
    "\n",
    "# 모델 최적화 설정\n",
    "MODEL_DIR = 'mnist_model/'\n",
    "if not os.path.exists(MODEL_DIR):\n",
    "    os.mkdir(MODEL_DIR)\n",
    "    \n",
    "modelpath = \"mnist_model/{epoch:02d}-{val_loss:.4f}.hdf5\"    \n",
    "checkpointer = ModelCheckpoint(filepath=modelpath, monitor='val_loss', verbose=1, save_best_only=True)\n",
    "early_stopping_callback = EarlyStopping(monitor='val_loss', patience=10)"
   ]
  },
  {
   "cell_type": "code",
   "execution_count": 23,
   "metadata": {},
   "outputs": [
    {
     "name": "stdout",
     "output_type": "stream",
     "text": [
      "Train on 60000 samples, validate on 10000 samples\n",
      "Epoch 1/30\n",
      "60000/60000 [==============================] - 3s 45us/step - loss: 0.3022 - acc: 0.9155 - val_loss: 0.1550 - val_acc: 0.9545\n",
      "\n",
      "Epoch 00001: val_loss improved from inf to 0.15496, saving model to mnist_model/01-0.1550.hdf5\n",
      "Epoch 2/30\n",
      "60000/60000 [==============================] - 2s 41us/step - loss: 0.1245 - acc: 0.9642 - val_loss: 0.1041 - val_acc: 0.9696\n",
      "\n",
      "Epoch 00002: val_loss improved from 0.15496 to 0.10406, saving model to mnist_model/02-0.1041.hdf5\n",
      "Epoch 3/30\n",
      "60000/60000 [==============================] - 2s 41us/step - loss: 0.0817 - acc: 0.9763 - val_loss: 0.0844 - val_acc: 0.9753\n",
      "\n",
      "Epoch 00003: val_loss improved from 0.10406 to 0.08441, saving model to mnist_model/03-0.0844.hdf5\n",
      "Epoch 4/30\n",
      "60000/60000 [==============================] - 2s 40us/step - loss: 0.0604 - acc: 0.9828 - val_loss: 0.0796 - val_acc: 0.9747\n",
      "\n",
      "Epoch 00004: val_loss improved from 0.08441 to 0.07960, saving model to mnist_model/04-0.0796.hdf5\n",
      "Epoch 5/30\n",
      "60000/60000 [==============================] - 2s 41us/step - loss: 0.0454 - acc: 0.9870 - val_loss: 0.0676 - val_acc: 0.9797\n",
      "\n",
      "Epoch 00005: val_loss improved from 0.07960 to 0.06760, saving model to mnist_model/05-0.0676.hdf5\n",
      "Epoch 6/30\n",
      "60000/60000 [==============================] - 2s 40us/step - loss: 0.0342 - acc: 0.9906 - val_loss: 0.0632 - val_acc: 0.9804\n",
      "\n",
      "Epoch 00006: val_loss improved from 0.06760 to 0.06320, saving model to mnist_model/06-0.0632.hdf5\n",
      "Epoch 7/30\n",
      "60000/60000 [==============================] - 2s 40us/step - loss: 0.0259 - acc: 0.9935 - val_loss: 0.0726 - val_acc: 0.9778\n",
      "\n",
      "Epoch 00007: val_loss did not improve from 0.06320\n",
      "Epoch 8/30\n",
      "60000/60000 [==============================] - 3s 44us/step - loss: 0.0215 - acc: 0.9946 - val_loss: 0.0621 - val_acc: 0.9805\n",
      "\n",
      "Epoch 00008: val_loss improved from 0.06320 to 0.06214, saving model to mnist_model/08-0.0621.hdf5\n",
      "Epoch 9/30\n",
      "60000/60000 [==============================] - 2s 41us/step - loss: 0.0160 - acc: 0.9963 - val_loss: 0.0584 - val_acc: 0.9812\n",
      "\n",
      "Epoch 00009: val_loss improved from 0.06214 to 0.05842, saving model to mnist_model/09-0.0584.hdf5\n",
      "Epoch 10/30\n",
      "60000/60000 [==============================] - 2s 41us/step - loss: 0.0119 - acc: 0.9978 - val_loss: 0.0663 - val_acc: 0.9794\n",
      "\n",
      "Epoch 00010: val_loss did not improve from 0.05842\n",
      "Epoch 11/30\n",
      "60000/60000 [==============================] - 3s 42us/step - loss: 0.0098 - acc: 0.9982 - val_loss: 0.0662 - val_acc: 0.9794\n",
      "\n",
      "Epoch 00011: val_loss did not improve from 0.05842\n",
      "Epoch 12/30\n",
      "60000/60000 [==============================] - 2s 42us/step - loss: 0.0074 - acc: 0.9987 - val_loss: 0.0632 - val_acc: 0.9810\n",
      "\n",
      "Epoch 00012: val_loss did not improve from 0.05842\n",
      "Epoch 13/30\n",
      "60000/60000 [==============================] - 3s 42us/step - loss: 0.0051 - acc: 0.9993 - val_loss: 0.0627 - val_acc: 0.9818\n",
      "\n",
      "Epoch 00013: val_loss did not improve from 0.05842\n",
      "Epoch 14/30\n",
      "60000/60000 [==============================] - 2s 41us/step - loss: 0.0040 - acc: 0.9998 - val_loss: 0.0652 - val_acc: 0.9814\n",
      "\n",
      "Epoch 00014: val_loss did not improve from 0.05842\n",
      "Epoch 15/30\n",
      "60000/60000 [==============================] - 2s 41us/step - loss: 0.0033 - acc: 0.9995 - val_loss: 0.0637 - val_acc: 0.9813\n",
      "\n",
      "Epoch 00015: val_loss did not improve from 0.05842\n",
      "Epoch 16/30\n",
      "60000/60000 [==============================] - 3s 42us/step - loss: 0.0030 - acc: 0.9996 - val_loss: 0.0639 - val_acc: 0.9815\n",
      "\n",
      "Epoch 00016: val_loss did not improve from 0.05842\n",
      "Epoch 17/30\n",
      "60000/60000 [==============================] - 2s 41us/step - loss: 0.0064 - acc: 0.9985 - val_loss: 0.0970 - val_acc: 0.9733\n",
      "\n",
      "Epoch 00017: val_loss did not improve from 0.05842\n",
      "Epoch 18/30\n",
      "60000/60000 [==============================] - 2s 41us/step - loss: 0.0116 - acc: 0.9963 - val_loss: 0.0775 - val_acc: 0.9791\n",
      "\n",
      "Epoch 00018: val_loss did not improve from 0.05842\n",
      "Epoch 19/30\n",
      "60000/60000 [==============================] - 3s 42us/step - loss: 0.0040 - acc: 0.9992 - val_loss: 0.0706 - val_acc: 0.9814\n",
      "\n",
      "Epoch 00019: val_loss did not improve from 0.05842\n"
     ]
    }
   ],
   "source": [
    "# 모델 실행\n",
    "history = model.fit(X_train, Y_train, validation_data=(X_test, Y_test), \n",
    "                    epochs=30, batch_size=200, verbose=1, callbacks=[early_stopping_callback, checkpointer])"
   ]
  },
  {
   "cell_type": "code",
   "execution_count": 24,
   "metadata": {},
   "outputs": [
    {
     "name": "stdout",
     "output_type": "stream",
     "text": [
      "10000/10000 [==============================] - 0s 18us/step\n",
      "\n",
      " Test Accuracy: 0.9814\n"
     ]
    }
   ],
   "source": [
    "print(\"\\n Test Accuracy: %.4f\" % (model.evaluate(X_test, Y_test)[1]))"
   ]
  },
  {
   "cell_type": "code",
   "execution_count": 29,
   "metadata": {},
   "outputs": [
    {
     "data": {
      "image/png": "[encoded data removed]",
      "text/plain": [
       "<Figure size 576x576 with 1 Axes>"
      ]
     },
     "metadata": {
      "needs_background": "light"
     },
     "output_type": "display_data"
    }
   ],
   "source": [
    "import numpy as np\n",
    "import matplotlib.pyplot as plt\n",
    "%matplotlib inline\n",
    "\n",
    "y_vloss = history.history['val_loss'] # 검증셋으로 측정한 오차\n",
    "y_loss = history.history['loss'] # 학습셋의 오차\n",
    "y_acc = history.history['acc'] # 학습셋의 정확도\n",
    "x_len = np.arange(len(y_loss))\n",
    "\n",
    "plt.figure(figsize=(8,8))\n",
    "plt.plot(x_len, y_vloss, marker='.', c='red', label='Testset_loss')\n",
    "plt.plot(x_len, y_loss, marker='.', c='blue', label='Trainset_loss')\n",
    "plt.legend(loc='upper_right')\n",
    "plt.grid()\n",
    "plt.xlabel('epoch')\n",
    "plt.ylabel('loss')\n",
    "plt.title('MNIST data 1')\n",
    "plt.show()"
   ]
  },
  {
   "cell_type": "code",
   "execution_count": 30,
   "metadata": {},
   "outputs": [
    {
     "data": {
      "image/png": "[encoded data removed]",
      "text/plain": [
       "<Figure size 576x576 with 1 Axes>"
      ]
     },
     "metadata": {
      "needs_background": "light"
     },
     "output_type": "display_data"
    }
   ],
   "source": [
    "plt.figure(figsize=(8,8))\n",
    "plt.plot(x_len, y_vloss, marker='.', c='red', label='Testset_loss')\n",
    "plt.plot(x_len, y_acc, marker='.', c='green', label='Trainset_accuracy')\n",
    "plt.legend(loc='upper_right')\n",
    "plt.grid()\n",
    "plt.xlabel('epoch')\n",
    "plt.title('MNIST data 2')\n",
    "plt.show()"
   ]
  },
  {
   "cell_type": "markdown",
   "metadata": {},
   "source": [
    "## Convolutional Neural Network\n",
    "\n",
    "### CNN\n",
    "- 입력된 image에서 다시 한번 특징을 추출하기 위해 mask(filter, window 또는 kernel)를 도입하는 기법\n",
    "\n",
    "### Max-pooling\n",
    "- CNN에 의한 결과가 여전히 크고 복잡한 경우 다시 한번 축소하는 과정"
   ]
  },
  {
   "cell_type": "code",
   "execution_count": 3,
   "metadata": {},
   "outputs": [
    {
     "name": "stdout",
     "output_type": "stream",
     "text": [
      "Train on 60000 samples, validate on 10000 samples\n",
      "Epoch 1/30\n",
      "60000/60000 [==============================] - 57s 951us/step - loss: 0.3014 - acc: 0.9087 - val_loss: 0.0601 - val_acc: 0.9813\n",
      "\n",
      "Epoch 00001: val_loss improved from inf to 0.06007, saving model to mnist_model//01-0.0601.hdf5\n",
      "Epoch 2/30\n",
      "60000/60000 [==============================] - 56s 929us/step - loss: 0.0962 - acc: 0.9715 - val_loss: 0.0427 - val_acc: 0.9849\n",
      "\n",
      "Epoch 00002: val_loss improved from 0.06007 to 0.04268, saving model to mnist_model//02-0.0427.hdf5\n",
      "Epoch 3/30\n",
      "60000/60000 [==============================] - 56s 926us/step - loss: 0.0693 - acc: 0.9796 - val_loss: 0.0392 - val_acc: 0.9871\n",
      "\n",
      "Epoch 00003: val_loss improved from 0.04268 to 0.03920, saving model to mnist_model//03-0.0392.hdf5\n",
      "Epoch 4/30\n",
      "60000/60000 [==============================] - 56s 938us/step - loss: 0.0597 - acc: 0.9819 - val_loss: 0.0310 - val_acc: 0.9896\n",
      "\n",
      "Epoch 00004: val_loss improved from 0.03920 to 0.03099, saving model to mnist_model//04-0.0310.hdf5\n",
      "Epoch 5/30\n",
      "60000/60000 [==============================] - 56s 933us/step - loss: 0.0503 - acc: 0.9851 - val_loss: 0.0293 - val_acc: 0.9901\n",
      "\n",
      "Epoch 00005: val_loss improved from 0.03099 to 0.02935, saving model to mnist_model//05-0.0293.hdf5\n",
      "Epoch 6/30\n",
      "60000/60000 [==============================] - 56s 926us/step - loss: 0.0441 - acc: 0.9864 - val_loss: 0.0325 - val_acc: 0.9893\n",
      "\n",
      "Epoch 00006: val_loss did not improve from 0.02935\n",
      "Epoch 7/30\n",
      "60000/60000 [==============================] - 56s 925us/step - loss: 0.0384 - acc: 0.9878 - val_loss: 0.0297 - val_acc: 0.9905\n",
      "\n",
      "Epoch 00007: val_loss did not improve from 0.02935\n",
      "Epoch 8/30\n",
      "60000/60000 [==============================] - 56s 929us/step - loss: 0.0348 - acc: 0.9888 - val_loss: 0.0303 - val_acc: 0.9904\n",
      "\n",
      "Epoch 00008: val_loss did not improve from 0.02935\n",
      "Epoch 9/30\n",
      "60000/60000 [==============================] - 57s 952us/step - loss: 0.0325 - acc: 0.9896 - val_loss: 0.0282 - val_acc: 0.9910\n",
      "\n",
      "Epoch 00009: val_loss improved from 0.02935 to 0.02822, saving model to mnist_model//09-0.0282.hdf5\n",
      "Epoch 10/30\n",
      "60000/60000 [==============================] - 57s 945us/step - loss: 0.0292 - acc: 0.9906 - val_loss: 0.0276 - val_acc: 0.9910\n",
      "\n",
      "Epoch 00010: val_loss improved from 0.02822 to 0.02759, saving model to mnist_model//10-0.0276.hdf5\n",
      "Epoch 11/30\n",
      "60000/60000 [==============================] - 56s 931us/step - loss: 0.0259 - acc: 0.9918 - val_loss: 0.0272 - val_acc: 0.9921\n",
      "\n",
      "Epoch 00011: val_loss improved from 0.02759 to 0.02723, saving model to mnist_model//11-0.0272.hdf5\n",
      "Epoch 12/30\n",
      "60000/60000 [==============================] - 55s 925us/step - loss: 0.0252 - acc: 0.9916 - val_loss: 0.0304 - val_acc: 0.9909\n",
      "\n",
      "Epoch 00012: val_loss did not improve from 0.02723\n",
      "Epoch 13/30\n",
      "60000/60000 [==============================] - 56s 933us/step - loss: 0.0233 - acc: 0.9923 - val_loss: 0.0278 - val_acc: 0.9924\n",
      "\n",
      "Epoch 00013: val_loss did not improve from 0.02723\n",
      "Epoch 14/30\n",
      "60000/60000 [==============================] - 56s 928us/step - loss: 0.0213 - acc: 0.9927 - val_loss: 0.0263 - val_acc: 0.9924\n",
      "\n",
      "Epoch 00014: val_loss improved from 0.02723 to 0.02628, saving model to mnist_model//14-0.0263.hdf5\n",
      "Epoch 15/30\n",
      "60000/60000 [==============================] - 56s 928us/step - loss: 0.0196 - acc: 0.9933 - val_loss: 0.0277 - val_acc: 0.9924\n",
      "\n",
      "Epoch 00015: val_loss did not improve from 0.02628\n",
      "Epoch 16/30\n",
      "60000/60000 [==============================] - 57s 945us/step - loss: 0.0192 - acc: 0.9939 - val_loss: 0.0289 - val_acc: 0.9916\n",
      "\n",
      "Epoch 00016: val_loss did not improve from 0.02628\n",
      "Epoch 17/30\n",
      "60000/60000 [==============================] - 58s 967us/step - loss: 0.0200 - acc: 0.9934 - val_loss: 0.0257 - val_acc: 0.9929\n",
      "\n",
      "Epoch 00017: val_loss improved from 0.02628 to 0.02569, saving model to mnist_model//17-0.0257.hdf5\n",
      "Epoch 18/30\n",
      "60000/60000 [==============================] - 56s 937us/step - loss: 0.0151 - acc: 0.9948 - val_loss: 0.0295 - val_acc: 0.9923\n",
      "\n",
      "Epoch 00018: val_loss did not improve from 0.02569\n",
      "Epoch 19/30\n",
      "60000/60000 [==============================] - 56s 929us/step - loss: 0.0157 - acc: 0.9949 - val_loss: 0.0274 - val_acc: 0.9926\n",
      "\n",
      "Epoch 00019: val_loss did not improve from 0.02569\n",
      "Epoch 20/30\n",
      "60000/60000 [==============================] - 56s 929us/step - loss: 0.0168 - acc: 0.9942 - val_loss: 0.0290 - val_acc: 0.9927\n",
      "\n",
      "Epoch 00020: val_loss did not improve from 0.02569\n",
      "Epoch 21/30\n",
      "60000/60000 [==============================] - 56s 929us/step - loss: 0.0142 - acc: 0.9952 - val_loss: 0.0263 - val_acc: 0.9930\n",
      "\n",
      "Epoch 00021: val_loss did not improve from 0.02569\n",
      "Epoch 22/30\n",
      "60000/60000 [==============================] - 57s 952us/step - loss: 0.0153 - acc: 0.9950 - val_loss: 0.0272 - val_acc: 0.9926\n",
      "\n",
      "Epoch 00022: val_loss did not improve from 0.02569\n",
      "Epoch 23/30\n",
      "60000/60000 [==============================] - 60s 1ms/step - loss: 0.0147 - acc: 0.9952 - val_loss: 0.0274 - val_acc: 0.9932\n",
      "\n",
      "Epoch 00023: val_loss did not improve from 0.02569\n",
      "Epoch 24/30\n",
      "60000/60000 [==============================] - 57s 957us/step - loss: 0.0125 - acc: 0.9957 - val_loss: 0.0277 - val_acc: 0.9924\n",
      "\n",
      "Epoch 00024: val_loss did not improve from 0.02569\n",
      "Epoch 25/30\n",
      "60000/60000 [==============================] - 56s 938us/step - loss: 0.0121 - acc: 0.9959 - val_loss: 0.0331 - val_acc: 0.9912\n",
      "\n",
      "Epoch 00025: val_loss did not improve from 0.02569\n",
      "Epoch 26/30\n",
      "60000/60000 [==============================] - 56s 926us/step - loss: 0.0128 - acc: 0.9960 - val_loss: 0.0293 - val_acc: 0.9933\n",
      "\n",
      "Epoch 00026: val_loss did not improve from 0.02569\n",
      "Epoch 27/30\n",
      "60000/60000 [==============================] - 57s 943us/step - loss: 0.0126 - acc: 0.9958 - val_loss: 0.0267 - val_acc: 0.9932\n",
      "\n",
      "Epoch 00027: val_loss did not improve from 0.02569\n",
      "10000/10000 [==============================] - 2s 186us/step\n",
      "\n",
      " Test Accuracy: 0.9932\n"
     ]
    },
    {
     "data": {
      "image/png": "[encoded data removed]",
      "text/plain": [
       "<Figure size 576x576 with 1 Axes>"
      ]
     },
     "metadata": {
      "needs_background": "light"
     },
     "output_type": "display_data"
    }
   ],
   "source": [
    "from keras.datasets import mnist\n",
    "from keras.utils import np_utils\n",
    "from keras.models import Sequential\n",
    "from keras.layers import Dense, Dropout, Flatten, Conv2D, MaxPooling2D\n",
    "from keras.callbacks import ModelCheckpoint,EarlyStopping\n",
    "\n",
    "import matplotlib.pyplot as plt\n",
    "%matplotlib inline\n",
    "import numpy as np\n",
    "import os\n",
    "import sys\n",
    "import tensorflow as tf\n",
    "\n",
    "# seed 값 설정\n",
    "seed = 0\n",
    "np.random.seed(seed)\n",
    "tf.set_random_seed(seed)\n",
    "\n",
    "# 데이터 불러오기\n",
    "\n",
    "(X_train, Y_train), (X_test, Y_test) = mnist.load_data()\n",
    "X_train = X_train.reshape(X_train.shape[0], 28, 28, 1).astype('float32') / 255\n",
    "X_test = X_test.reshape(X_test.shape[0], 28, 28, 1).astype('float32') / 255\n",
    "Y_train = np_utils.to_categorical(Y_train)\n",
    "Y_test = np_utils.to_categorical(Y_test)\n",
    "\n",
    "# 컨볼루션 신경망의 설정\n",
    "model = Sequential()\n",
    "# 마스크 갯수, 마스크의 크기, 입력되는 값 및 색상, 활성화 함수\n",
    "model.add(Conv2D(32, kernel_size=(3, 3), input_shape=(28, 28, 1), activation='relu'))\n",
    "model.add(Conv2D(64, (3, 3), activation='relu'))\n",
    "model.add(MaxPooling2D(pool_size=2)) # pool_size=2 : 절반으로 줄임\n",
    "model.add(Dropout(0.25)) # 과적합 방지를 위한 25% 노드 끄기\n",
    "model.add(Flatten()) # CNN이나 max-pooling의 경우 주어진 이미지를 2차원 배열인 채로 다루기 때문에 이를 1차원으로 바꿔야 함\n",
    "model.add(Dense(128,  activation='relu'))\n",
    "model.add(Dropout(0.5))\n",
    "model.add(Dense(10, activation='softmax'))\n",
    "\n",
    "model.compile(loss='categorical_crossentropy', optimizer='adam', metrics=['accuracy'])\n",
    "\n",
    "# 모델 최적화 설정\n",
    "MODEL_DIR = 'mnist_model//'\n",
    "if not os.path.exists(MODEL_DIR):\n",
    "    os.mkdir(MODEL_DIR)\n",
    "\n",
    "modelpath=\"mnist_model//{epoch:02d}-{val_loss:.4f}.hdf5\"\n",
    "checkpointer = ModelCheckpoint(filepath=modelpath, monitor='val_loss', verbose=1, save_best_only=True)\n",
    "early_stopping_callback = EarlyStopping(monitor='val_loss', patience=10)\n",
    "\n",
    "# 모델의 실행\n",
    "history = model.fit(X_train, Y_train, validation_data=(X_test, Y_test), epochs=30, batch_size=200, verbose=1, \n",
    "                    callbacks=[early_stopping_callback,checkpointer])\n",
    "\n",
    "# 테스트 정확도 출력\n",
    "print(\"\\n Test Accuracy: %.4f\" % (model.evaluate(X_test, Y_test)[1]))\n",
    "\n",
    "# 그래프 \n",
    "y_vloss = history.history['val_loss'] # 검증셋으로 측정한 오차\n",
    "y_loss = history.history['loss'] # 학습셋의 오차\n",
    "x_len = np.arange(len(y_loss))\n",
    "\n",
    "plt.figure(figsize=(8,8))\n",
    "plt.plot(x_len, y_vloss, marker='.', c='red', label='Testset_loss')\n",
    "plt.plot(x_len, y_loss, marker='.', c='blue', label='Trainset_loss')\n",
    "plt.legend(loc='best')\n",
    "plt.grid()\n",
    "plt.xlabel('epoch')\n",
    "plt.ylabel('loss')\n",
    "plt.title('MNIST data (CNN)')\n",
    "plt.show()"
   ]
  }
 ],
 "metadata": {
  "kernelspec": {
   "display_name": "Python 3",
   "language": "python",
   "name": "python3"
  },
  "language_info": {
   "codemirror_mode": {
    "name": "ipython",
    "version": 3
   },
   "file_extension": ".py",
   "mimetype": "text/x-python",
   "name": "python",
   "nbconvert_exporter": "python",
   "pygments_lexer": "ipython3",
   "version": "3.7.3"
  }
 },
 "nbformat": 4,
 "nbformat_minor": 2
}
