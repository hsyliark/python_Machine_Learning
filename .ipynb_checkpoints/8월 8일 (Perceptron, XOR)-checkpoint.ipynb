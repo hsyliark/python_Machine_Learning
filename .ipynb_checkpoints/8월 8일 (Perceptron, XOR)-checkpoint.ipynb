{
 "cells": [
  {
   "cell_type": "markdown",
   "metadata": {},
   "source": [
    "# Perceptron, XOR(exclusive OR)"
   ]
  },
  {
   "cell_type": "code",
   "execution_count": 1,
   "metadata": {},
   "outputs": [
    {
     "name": "stderr",
     "output_type": "stream",
     "text": [
      "Using TensorFlow backend.\n"
     ]
    }
   ],
   "source": [
    "# need library\n",
    "import numpy as np\n",
    "import tensorflow as tf\n",
    "# warning remove\n",
    "if type(tf.contrib) != type(tf):\n",
    "    tf.contrib._warning = None\n",
    "# 딥러닝 구동에 필요한 케라스 함수\n",
    "from keras.models import Sequential\n",
    "from keras.layers import Dense   "
   ]
  },
  {
   "cell_type": "markdown",
   "metadata": {},
   "source": [
    "## XOR problem"
   ]
  },
  {
   "cell_type": "code",
   "execution_count": 5,
   "metadata": {},
   "outputs": [
    {
     "name": "stdout",
     "output_type": "stream",
     "text": [
      "입력 값: (0, 0)출력 값: 0\n",
      "입력 값: (1, 0)출력 값: 1\n",
      "입력 값: (0, 1)출력 값: 1\n",
      "입력 값: (1, 1)출력 값: 0\n"
     ]
    }
   ],
   "source": [
    "import numpy as np\n",
    "\n",
    "# weight and bias\n",
    "w11 = np.array([-2,-2])\n",
    "w12 = np.array([2,2])\n",
    "w2 = np.array([1,1])\n",
    "b1 = 3\n",
    "b2 = -1\n",
    "b3 = -1\n",
    "\n",
    "# perceptron function\n",
    "def MLP(x, w, b):\n",
    "    y = np.sum(w * x) + b\n",
    "    if y <= 0:\n",
    "        return 0\n",
    "    else:\n",
    "        return 1\n",
    "    \n",
    "# NAND(not AND) gate\n",
    "def NAND(x1, x2):\n",
    "    return MLP(np.array([x1, x2]), w11, b1)\n",
    "# OR gate : 둘 중 하나라도 1이면 1, 그렇지 않으면 0\n",
    "def OR(x1, x2):\n",
    "    return MLP(np.array([x1, x2]), w12, b2)\n",
    "# AND gate : 두가지 모두 1이면 1, 그렇지 않으면 0\n",
    "def AND(x1, x2):\n",
    "    return MLP(np.array([x1, x2]), w2, b3)\n",
    "# XOR gate\n",
    "def XOR(x1, x2):\n",
    "    return AND(NAND(x1, x2), OR(x1, x2))\n",
    "\n",
    "if __name__=='__main__':\n",
    "    for x in [(0,0),(1,0),(0,1),(1,1)]:\n",
    "        y = XOR(x[0], x[1])\n",
    "        print(\"입력 값: \" + str(x) + \"출력 값: \" + str(y))"
   ]
  },
  {
   "cell_type": "markdown",
   "metadata": {},
   "source": [
    "## XOR, Back Propogation (오차역전파)\n",
    "\n",
    "- W(t+1) = W(t) - alpha * (partial/partialW)E \n",
    "- alpha : learning rate , E : error\n",
    "- Reference: http://arctrix.com/nas/python/bpnn.py (Neil Schemenauer)  "
   ]
  },
  {
   "cell_type": "code",
   "execution_count": 15,
   "metadata": {},
   "outputs": [
    {
     "name": "stdout",
     "output_type": "stream",
     "text": [
      "error: 0.67409\n",
      "error: 0.00908\n",
      "error: 0.00629\n",
      "error: 0.00534\n",
      "error: 0.00485\n",
      "error: 0.00456\n",
      "error: 0.00437\n",
      "error: 0.00424\n",
      "error: 0.00414\n",
      "error: 0.00407\n",
      "Input: [0, 0], Predict: [0.02205037348028232]\n",
      "Input: [0, 1], Predict: [0.9397971425282383]\n",
      "Input: [1, 0], Predict: [0.9421145997321853]\n",
      "Input: [1, 1], Predict: [0.024052645439017865]\n"
     ]
    }
   ],
   "source": [
    "import random\n",
    "import numpy as np\n",
    "\n",
    "random.seed(777)\n",
    "\n",
    "# 환경 변수 지정\n",
    "\n",
    "# input and target\n",
    "data = [\n",
    "    [[0, 0], [0]],\n",
    "    [[0, 1], [1]],\n",
    "    [[1, 0], [1]],\n",
    "    [[1, 1], [0]]\n",
    "]\n",
    "\n",
    "# 실행 횟수(iterations), 학습률(lr), 모멘텀 계수(mo) 설정\n",
    "iterations=5000\n",
    "lr=0.1\n",
    "mo=0.9\n",
    "\n",
    "# 활성화 함수 - 1. 시그모이드\n",
    "# 미분할 때와 아닐 때의 각각의 값 \n",
    "def sigmoid(x, derivative=False):\n",
    "    if (derivative == True):\n",
    "        return x * (1 - x)\n",
    "    return 1 / (1 + np.exp(-x))\n",
    "\n",
    "# 활성화 함수 - 2. tanh\n",
    "# tanh 함수의 미분은 1 - (활성화 함수 출력의 제곱)\n",
    "def tanh(x, derivative=False):\n",
    "    if (derivative == True):\n",
    "        return 1 - x ** 2\n",
    "    return np.tanh(x)\n",
    "\n",
    "# 가중치 배열 만드는 함수\n",
    "def makeMatrix(i, j, fill=0.0):\n",
    "    mat = []\n",
    "    for i in range(i):\n",
    "        mat.append([fill] * j)\n",
    "    return mat\n",
    "\n",
    "# 신경망의 실행\n",
    "class NeuralNetwork:\n",
    "\n",
    "    # 초깃값의 지정\n",
    "    def __init__(self, num_x, num_yh, num_yo, bias=1):\n",
    "\n",
    "        # 입력값(num_x), 은닉층 초깃값(num_yh), 출력층 초깃값(num_yo), 편향(bias)\n",
    "        self.num_x = num_x + bias  # 편향은 1로 지정 (상수를 미분하면 0이기 때문에 계산이 간단한 1로 지정)\n",
    "        self.num_yh = num_yh\n",
    "        self.num_yo = num_yo\n",
    "\n",
    "        # 활성화 함수 초깃값\n",
    "        self.activation_input = [1.0] * self.num_x\n",
    "        self.activation_hidden = [1.0] * self.num_yh\n",
    "        self.activation_out = [1.0] * self.num_yo\n",
    "\n",
    "        # 가중치 입력 초깃값\n",
    "        self.weight_in = makeMatrix(self.num_x, self.num_yh)\n",
    "        for i in range(self.num_x):\n",
    "            for j in range(self.num_yh):\n",
    "                self.weight_in[i][j] = random.random()\n",
    "\n",
    "        # 가중치 출력 초깃값\n",
    "        self.weight_out = makeMatrix(self.num_yh, self.num_yo)\n",
    "        for j in range(self.num_yh):\n",
    "            for k in range(self.num_yo):\n",
    "                self.weight_out[j][k] = random.random()\n",
    "\n",
    "        # Momentum SGD를 위한 이전 가중치 초깃값\n",
    "        self.gradient_in = makeMatrix(self.num_x, self.num_yh)\n",
    "        self.gradient_out = makeMatrix(self.num_yh, self.num_yo)\n",
    "\n",
    "    # 업데이트 함수\n",
    "    def update(self, inputs):\n",
    "\n",
    "        # 입력 레이어의 활성화 함수\n",
    "        for i in range(self.num_x - 1):\n",
    "            self.activation_input[i] = inputs[i]\n",
    "\n",
    "        # 은닉층의 활성화 함수\n",
    "        for j in range(self.num_yh):\n",
    "            sum = 0.0\n",
    "            for i in range(self.num_x):\n",
    "                sum = sum + self.activation_input[i] * self.weight_in[i][j]\n",
    "            # 시그모이드와 tanh 중에서 활성화 함수 선택\n",
    "            self.activation_hidden[j] = tanh(sum, False)\n",
    "\n",
    "        # 출력층의 활성화 함수\n",
    "        for k in range(self.num_yo):\n",
    "            sum = 0.0\n",
    "            for j in range(self.num_yh):\n",
    "                sum = sum + self.activation_hidden[j] * self.weight_out[j][k]\n",
    "            # 시그모이드와 tanh 중에서 활성화 함수 선택\n",
    "            self.activation_out[k] = tanh(sum, False)\n",
    "\n",
    "        return self.activation_out[:]\n",
    "    \n",
    "    # 역전파의 실행\n",
    "    def backPropagate(self, targets):\n",
    "\n",
    "        # 델타 출력 계산\n",
    "        output_deltas = [0.0] * self.num_yo\n",
    "        for k in range(self.num_yo):\n",
    "            error = targets[k] - self.activation_out[k]\n",
    "            # 시그모이드와 tanh 중에서 활성화 함수 선택, 미분 적용\n",
    "            output_deltas[k] = tanh(self.activation_out[k], True) * error\n",
    "\n",
    "        # 은닉 노드의 오차 함수\n",
    "        hidden_deltas = [0.0] * self.num_yh\n",
    "        for j in range(self.num_yh):\n",
    "            error = 0.0\n",
    "            for k in range(self.num_yo):\n",
    "                error = error + output_deltas[k] * self.weight_out[j][k]\n",
    "                # 시그모이드와 tanh 중에서 활성화 함수 선택, 미분 적용\n",
    "            hidden_deltas[j] = tanh(self.activation_hidden[j], True) * error\n",
    "\n",
    "        # 출력 가중치 업데이트\n",
    "        for j in range(self.num_yh):\n",
    "            for k in range(self.num_yo):\n",
    "                gradient = output_deltas[k] * self.activation_hidden[j]\n",
    "                v = mo * self.gradient_in[j][k] - lr * gradient\n",
    "                self.weight_in[j][k] += v\n",
    "                self.gradient_out[j][k] = gradient\n",
    "\n",
    "        # 입력 가중치 업데이트\n",
    "        for i in range(self.num_x):\n",
    "            for j in range(self.num_yh):\n",
    "                gradient = hidden_deltas[j] * self.activation_input[i]\n",
    "                v = mo*self.gradient_in[i][j] - lr * gradient\n",
    "                self.weight_in[i][j] += v\n",
    "                self.gradient_in[i][j] = gradient\n",
    "\n",
    "        # 오차의 계산(최소 제곱법)\n",
    "        error = 0.0\n",
    "        for k in range(len(targets)):\n",
    "            error = error + 0.5 * (targets[k] - self.activation_out[k]) ** 2\n",
    "        return error\n",
    "\n",
    "    # 학습 실행\n",
    "    def train(self, patterns):\n",
    "        for i in range(iterations):\n",
    "            error = 0.0\n",
    "            for p in patterns:\n",
    "                inputs = p[0]\n",
    "                targets = p[1]\n",
    "                self.update(inputs)\n",
    "                error = error + self.backPropagate(targets)\n",
    "            if i % 500 == 0:\n",
    "                print('error: %-.5f' % error)\n",
    "    # 결괏값 출력\n",
    "    def result(self, patterns):\n",
    "        for p in patterns:\n",
    "            print('Input: %s, Predict: %s' % (p[0], self.update(p[0])))\n",
    "\n",
    "if __name__ == '__main__':\n",
    "\n",
    "    # 두 개의 입력 값, 두 개의 레이어, 하나의 출력 값을 갖도록 설정\n",
    "    n = NeuralNetwork(2, 2, 1)\n",
    "    # 학습 실행\n",
    "    n.train(data)\n",
    "    # 결과값 출력\n",
    "    n.result(data)"
   ]
  },
  {
   "cell_type": "markdown",
   "metadata": {},
   "source": [
    "## Advanced SGD"
   ]
  },
  {
   "cell_type": "markdown",
   "metadata": {},
   "source": [
    "### Momentum\n",
    "- python\n",
    "  - v = m * v - learning_rate * gradient\n",
    "  - self.weight[i] += v\n",
    "- keras\n",
    "  - keras.optimizers.SGD(lr=0.1, momentum=0.9)"
   ]
  },
  {
   "cell_type": "markdown",
   "metadata": {},
   "source": [
    "### Nesterov Momentum\n",
    "- python\n",
    "  - v = m * v - learning_rate * gradient(Self.weight[i-1] + m * v)\n",
    "  - self.weight[i] += v\n",
    "- keras\n",
    "  - keras.optimizers.SGD(lr=0.1, momentum=0.9, nesterov=True)"
   ]
  },
  {
   "cell_type": "markdown",
   "metadata": {},
   "source": [
    "### Adagrad\n",
    "- python\n",
    "  - g += gradient ** 2\n",
    "  - self.weight[i] += - learning_rate * gradient / (np.sqrt(g) + e) \n",
    "- keras\n",
    "  - keras.optimizers.Adagrad(lr=0.01, epsilon=1e-6)"
   ]
  },
  {
   "cell_type": "markdown",
   "metadata": {},
   "source": [
    "### RMSprop\n",
    "- python\n",
    "  - g = gamma * g + (1 - gamma) * gradient ** 2\n",
    "  - self.weight[i] += - learning_rate * gradient / (np.sqrt(g) + e)\n",
    "- keras\n",
    "  - keras.optimizers.RMSprop(lr=0.001, rho=0.9, epsilon=1e-08, decay=0.0)"
   ]
  },
  {
   "cell_type": "markdown",
   "metadata": {},
   "source": [
    "### Adam\n",
    "- python\n",
    "  - v = gamma1 * m + (1 - gamma1) * dx\n",
    "  - g = gamma2 * v + (1 - gamma2) * (dx ** 2)\n",
    "  - x += - learning_rate * g / (np.sqrt(v) + e)\n",
    "- keras\n",
    "  - keras.optimizers.Adagrad(lr=0.01, epsilon=1e-08, decay=0.0)"
   ]
  },
  {
   "cell_type": "code",
   "execution_count": null,
   "metadata": {},
   "outputs": [],
   "source": []
  }
 ],
 "metadata": {
  "kernelspec": {
   "display_name": "Python 3",
   "language": "python",
   "name": "python3"
  },
  "language_info": {
   "codemirror_mode": {
    "name": "ipython",
    "version": 3
   },
   "file_extension": ".py",
   "mimetype": "text/x-python",
   "name": "python",
   "nbconvert_exporter": "python",
   "pygments_lexer": "ipython3",
   "version": "3.7.3"
  }
 },
 "nbformat": 4,
 "nbformat_minor": 2
}
