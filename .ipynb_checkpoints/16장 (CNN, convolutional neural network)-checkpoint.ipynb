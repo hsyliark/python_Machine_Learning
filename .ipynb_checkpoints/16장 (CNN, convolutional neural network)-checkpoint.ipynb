{
 "cells": [
  {
   "cell_type": "markdown",
   "metadata": {},
   "source": [
    "# CNN(convolutional neural network)"
   ]
  },
  {
   "cell_type": "code",
   "execution_count": 1,
   "metadata": {},
   "outputs": [
    {
     "name": "stderr",
     "output_type": "stream",
     "text": [
      "Using TensorFlow backend.\n"
     ]
    }
   ],
   "source": [
    "# need library\n",
    "import numpy as np\n",
    "import tensorflow as tf\n",
    "# warning remove\n",
    "if type(tf.contrib) != type(tf):\n",
    "    tf.contrib._warning = None\n",
    "# 딥러닝 구동에 필요한 케라스 함수\n",
    "from keras.models import Sequential\n",
    "from keras.layers import Dense    "
   ]
  },
  {
   "cell_type": "markdown",
   "metadata": {},
   "source": [
    "## data handling"
   ]
  },
  {
   "cell_type": "code",
   "execution_count": 2,
   "metadata": {},
   "outputs": [
    {
     "data": {
      "text/plain": [
       "((array([[[0, 0, 0, ..., 0, 0, 0],\n",
       "          [0, 0, 0, ..., 0, 0, 0],\n",
       "          [0, 0, 0, ..., 0, 0, 0],\n",
       "          ...,\n",
       "          [0, 0, 0, ..., 0, 0, 0],\n",
       "          [0, 0, 0, ..., 0, 0, 0],\n",
       "          [0, 0, 0, ..., 0, 0, 0]],\n",
       "  \n",
       "         [[0, 0, 0, ..., 0, 0, 0],\n",
       "          [0, 0, 0, ..., 0, 0, 0],\n",
       "          [0, 0, 0, ..., 0, 0, 0],\n",
       "          ...,\n",
       "          [0, 0, 0, ..., 0, 0, 0],\n",
       "          [0, 0, 0, ..., 0, 0, 0],\n",
       "          [0, 0, 0, ..., 0, 0, 0]],\n",
       "  \n",
       "         [[0, 0, 0, ..., 0, 0, 0],\n",
       "          [0, 0, 0, ..., 0, 0, 0],\n",
       "          [0, 0, 0, ..., 0, 0, 0],\n",
       "          ...,\n",
       "          [0, 0, 0, ..., 0, 0, 0],\n",
       "          [0, 0, 0, ..., 0, 0, 0],\n",
       "          [0, 0, 0, ..., 0, 0, 0]],\n",
       "  \n",
       "         ...,\n",
       "  \n",
       "         [[0, 0, 0, ..., 0, 0, 0],\n",
       "          [0, 0, 0, ..., 0, 0, 0],\n",
       "          [0, 0, 0, ..., 0, 0, 0],\n",
       "          ...,\n",
       "          [0, 0, 0, ..., 0, 0, 0],\n",
       "          [0, 0, 0, ..., 0, 0, 0],\n",
       "          [0, 0, 0, ..., 0, 0, 0]],\n",
       "  \n",
       "         [[0, 0, 0, ..., 0, 0, 0],\n",
       "          [0, 0, 0, ..., 0, 0, 0],\n",
       "          [0, 0, 0, ..., 0, 0, 0],\n",
       "          ...,\n",
       "          [0, 0, 0, ..., 0, 0, 0],\n",
       "          [0, 0, 0, ..., 0, 0, 0],\n",
       "          [0, 0, 0, ..., 0, 0, 0]],\n",
       "  \n",
       "         [[0, 0, 0, ..., 0, 0, 0],\n",
       "          [0, 0, 0, ..., 0, 0, 0],\n",
       "          [0, 0, 0, ..., 0, 0, 0],\n",
       "          ...,\n",
       "          [0, 0, 0, ..., 0, 0, 0],\n",
       "          [0, 0, 0, ..., 0, 0, 0],\n",
       "          [0, 0, 0, ..., 0, 0, 0]]], dtype=uint8),\n",
       "  array([5, 0, 4, ..., 5, 6, 8], dtype=uint8)),\n",
       " (array([[[0, 0, 0, ..., 0, 0, 0],\n",
       "          [0, 0, 0, ..., 0, 0, 0],\n",
       "          [0, 0, 0, ..., 0, 0, 0],\n",
       "          ...,\n",
       "          [0, 0, 0, ..., 0, 0, 0],\n",
       "          [0, 0, 0, ..., 0, 0, 0],\n",
       "          [0, 0, 0, ..., 0, 0, 0]],\n",
       "  \n",
       "         [[0, 0, 0, ..., 0, 0, 0],\n",
       "          [0, 0, 0, ..., 0, 0, 0],\n",
       "          [0, 0, 0, ..., 0, 0, 0],\n",
       "          ...,\n",
       "          [0, 0, 0, ..., 0, 0, 0],\n",
       "          [0, 0, 0, ..., 0, 0, 0],\n",
       "          [0, 0, 0, ..., 0, 0, 0]],\n",
       "  \n",
       "         [[0, 0, 0, ..., 0, 0, 0],\n",
       "          [0, 0, 0, ..., 0, 0, 0],\n",
       "          [0, 0, 0, ..., 0, 0, 0],\n",
       "          ...,\n",
       "          [0, 0, 0, ..., 0, 0, 0],\n",
       "          [0, 0, 0, ..., 0, 0, 0],\n",
       "          [0, 0, 0, ..., 0, 0, 0]],\n",
       "  \n",
       "         ...,\n",
       "  \n",
       "         [[0, 0, 0, ..., 0, 0, 0],\n",
       "          [0, 0, 0, ..., 0, 0, 0],\n",
       "          [0, 0, 0, ..., 0, 0, 0],\n",
       "          ...,\n",
       "          [0, 0, 0, ..., 0, 0, 0],\n",
       "          [0, 0, 0, ..., 0, 0, 0],\n",
       "          [0, 0, 0, ..., 0, 0, 0]],\n",
       "  \n",
       "         [[0, 0, 0, ..., 0, 0, 0],\n",
       "          [0, 0, 0, ..., 0, 0, 0],\n",
       "          [0, 0, 0, ..., 0, 0, 0],\n",
       "          ...,\n",
       "          [0, 0, 0, ..., 0, 0, 0],\n",
       "          [0, 0, 0, ..., 0, 0, 0],\n",
       "          [0, 0, 0, ..., 0, 0, 0]],\n",
       "  \n",
       "         [[0, 0, 0, ..., 0, 0, 0],\n",
       "          [0, 0, 0, ..., 0, 0, 0],\n",
       "          [0, 0, 0, ..., 0, 0, 0],\n",
       "          ...,\n",
       "          [0, 0, 0, ..., 0, 0, 0],\n",
       "          [0, 0, 0, ..., 0, 0, 0],\n",
       "          [0, 0, 0, ..., 0, 0, 0]]], dtype=uint8),\n",
       "  array([7, 2, 1, ..., 4, 5, 6], dtype=uint8)))"
      ]
     },
     "execution_count": 2,
     "metadata": {},
     "output_type": "execute_result"
    }
   ],
   "source": [
    "from keras.datasets import mnist\n",
    "import numpy as np\n",
    "import tensorflow as tf\n",
    "\n",
    "seed = 0\n",
    "np.random.seed(seed)\n",
    "tf.set_random_seed(seed)\n",
    "\n",
    "# MNIST data (손글씨)\n",
    "mnist.load_data()"
   ]
  },
  {
   "cell_type": "code",
   "execution_count": 3,
   "metadata": {},
   "outputs": [
    {
     "name": "stdout",
     "output_type": "stream",
     "text": [
      "학습셋 이미지 수 : 60000 개\n",
      "검증셋 이미지 수 : 10000 개\n"
     ]
    }
   ],
   "source": [
    "(X_train, Y_class_train), (X_test, Y_class_test) = mnist.load_data()\n",
    "print(\"학습셋 이미지 수 : %d 개\" % (X_train.shape[0]))\n",
    "print(\"검증셋 이미지 수 : %d 개\" % (X_test.shape[0]))"
   ]
  },
  {
   "cell_type": "code",
   "execution_count": 4,
   "metadata": {},
   "outputs": [
    {
     "data": {
      "text/plain": [
       "((60000, 28, 28), (10000, 28, 28))"
      ]
     },
     "execution_count": 4,
     "metadata": {},
     "output_type": "execute_result"
    }
   ],
   "source": [
    "X_train.shape, X_test.shape"
   ]
  },
  {
   "cell_type": "markdown",
   "metadata": {},
   "source": [
    "### graph"
   ]
  },
  {
   "cell_type": "code",
   "execution_count": 5,
   "metadata": {},
   "outputs": [
    {
     "data": {
      "image/png": "[encoded data removed]",
      "text/plain": [
       "<Figure size 576x576 with 1 Axes>"
      ]
     },
     "metadata": {
      "needs_background": "light"
     },
     "output_type": "display_data"
    }
   ],
   "source": [
    "import matplotlib.pyplot as plt\n",
    "%matplotlib inline\n",
    "\n",
    "plt.figure(figsize=(8,8))\n",
    "plt.imshow(X_train[2], cmap='Greys')\n",
    "plt.show()"
   ]
  },
  {
   "cell_type": "markdown",
   "metadata": {},
   "source": [
    "### checking with code"
   ]
  },
  {
   "cell_type": "code",
   "execution_count": 6,
   "metadata": {},
   "outputs": [
    {
     "name": "stdout",
     "output_type": "stream",
     "text": [
      "0\t0\t0\t0\t0\t0\t0\t0\t0\t0\t0\t0\t0\t0\t0\t0\t0\t0\t0\t0\t0\t0\t0\t0\t0\t0\t0\t0\t\n",
      "0\t0\t0\t0\t0\t0\t0\t0\t0\t0\t0\t0\t0\t0\t0\t0\t0\t0\t0\t0\t0\t0\t0\t0\t0\t0\t0\t0\t\n",
      "0\t0\t0\t0\t0\t0\t0\t0\t0\t0\t0\t0\t0\t0\t0\t0\t0\t0\t0\t0\t0\t0\t0\t0\t0\t0\t0\t0\t\n",
      "0\t0\t0\t0\t0\t0\t0\t0\t0\t0\t0\t0\t0\t0\t0\t0\t0\t0\t0\t0\t0\t0\t0\t0\t0\t0\t0\t0\t\n",
      "0\t0\t0\t0\t0\t0\t0\t0\t0\t0\t0\t0\t0\t0\t0\t0\t0\t0\t0\t0\t0\t0\t0\t0\t0\t0\t0\t0\t\n",
      "0\t0\t0\t0\t0\t0\t0\t0\t0\t0\t0\t0\t0\t0\t0\t0\t0\t0\t0\t0\t67\t232\t39\t0\t0\t0\t0\t0\t\n",
      "0\t0\t0\t0\t62\t81\t0\t0\t0\t0\t0\t0\t0\t0\t0\t0\t0\t0\t0\t0\t120\t180\t39\t0\t0\t0\t0\t0\t\n",
      "0\t0\t0\t0\t126\t163\t0\t0\t0\t0\t0\t0\t0\t0\t0\t0\t0\t0\t0\t2\t153\t210\t40\t0\t0\t0\t0\t0\t\n",
      "0\t0\t0\t0\t220\t163\t0\t0\t0\t0\t0\t0\t0\t0\t0\t0\t0\t0\t0\t27\t254\t162\t0\t0\t0\t0\t0\t0\t\n",
      "0\t0\t0\t0\t222\t163\t0\t0\t0\t0\t0\t0\t0\t0\t0\t0\t0\t0\t0\t183\t254\t125\t0\t0\t0\t0\t0\t0\t\n",
      "0\t0\t0\t46\t245\t163\t0\t0\t0\t0\t0\t0\t0\t0\t0\t0\t0\t0\t0\t198\t254\t56\t0\t0\t0\t0\t0\t0\t\n",
      "0\t0\t0\t120\t254\t163\t0\t0\t0\t0\t0\t0\t0\t0\t0\t0\t0\t0\t23\t231\t254\t29\t0\t0\t0\t0\t0\t0\t\n",
      "0\t0\t0\t159\t254\t120\t0\t0\t0\t0\t0\t0\t0\t0\t0\t0\t0\t0\t163\t254\t216\t16\t0\t0\t0\t0\t0\t0\t\n",
      "0\t0\t0\t159\t254\t67\t0\t0\t0\t0\t0\t0\t0\t0\t0\t14\t86\t178\t248\t254\t91\t0\t0\t0\t0\t0\t0\t0\t\n",
      "0\t0\t0\t159\t254\t85\t0\t0\t0\t47\t49\t116\t144\t150\t241\t243\t234\t179\t241\t252\t40\t0\t0\t0\t0\t0\t0\t0\t\n",
      "0\t0\t0\t150\t253\t237\t207\t207\t207\t253\t254\t250\t240\t198\t143\t91\t28\t5\t233\t250\t0\t0\t0\t0\t0\t0\t0\t0\t\n",
      "0\t0\t0\t0\t119\t177\t177\t177\t177\t177\t98\t56\t0\t0\t0\t0\t0\t102\t254\t220\t0\t0\t0\t0\t0\t0\t0\t0\t\n",
      "0\t0\t0\t0\t0\t0\t0\t0\t0\t0\t0\t0\t0\t0\t0\t0\t0\t169\t254\t137\t0\t0\t0\t0\t0\t0\t0\t0\t\n",
      "0\t0\t0\t0\t0\t0\t0\t0\t0\t0\t0\t0\t0\t0\t0\t0\t0\t169\t254\t57\t0\t0\t0\t0\t0\t0\t0\t0\t\n",
      "0\t0\t0\t0\t0\t0\t0\t0\t0\t0\t0\t0\t0\t0\t0\t0\t0\t169\t254\t57\t0\t0\t0\t0\t0\t0\t0\t0\t\n",
      "0\t0\t0\t0\t0\t0\t0\t0\t0\t0\t0\t0\t0\t0\t0\t0\t0\t169\t255\t94\t0\t0\t0\t0\t0\t0\t0\t0\t\n",
      "0\t0\t0\t0\t0\t0\t0\t0\t0\t0\t0\t0\t0\t0\t0\t0\t0\t169\t254\t96\t0\t0\t0\t0\t0\t0\t0\t0\t\n",
      "0\t0\t0\t0\t0\t0\t0\t0\t0\t0\t0\t0\t0\t0\t0\t0\t0\t169\t254\t153\t0\t0\t0\t0\t0\t0\t0\t0\t\n",
      "0\t0\t0\t0\t0\t0\t0\t0\t0\t0\t0\t0\t0\t0\t0\t0\t0\t169\t255\t153\t0\t0\t0\t0\t0\t0\t0\t0\t\n",
      "0\t0\t0\t0\t0\t0\t0\t0\t0\t0\t0\t0\t0\t0\t0\t0\t0\t96\t254\t153\t0\t0\t0\t0\t0\t0\t0\t0\t\n",
      "0\t0\t0\t0\t0\t0\t0\t0\t0\t0\t0\t0\t0\t0\t0\t0\t0\t0\t0\t0\t0\t0\t0\t0\t0\t0\t0\t0\t\n",
      "0\t0\t0\t0\t0\t0\t0\t0\t0\t0\t0\t0\t0\t0\t0\t0\t0\t0\t0\t0\t0\t0\t0\t0\t0\t0\t0\t0\t\n",
      "0\t0\t0\t0\t0\t0\t0\t0\t0\t0\t0\t0\t0\t0\t0\t0\t0\t0\t0\t0\t0\t0\t0\t0\t0\t0\t0\t0\t\n"
     ]
    }
   ],
   "source": [
    "import sys\n",
    "for x in X_train[2]:\n",
    "    for i in x:\n",
    "        sys.stdout.write('%d\\t' % i)\n",
    "    sys.stdout.write('\\n')    "
   ]
  },
  {
   "cell_type": "markdown",
   "metadata": {},
   "source": [
    "### data dimension transformation and normalization"
   ]
  },
  {
   "cell_type": "code",
   "execution_count": 7,
   "metadata": {},
   "outputs": [
    {
     "name": "stdout",
     "output_type": "stream",
     "text": [
      "class : 4 \n"
     ]
    }
   ],
   "source": [
    "X_train = X_train.reshape(X_train.shape[0], 784).astype('float64') / 255 # reshape : 1차원 배열로 변환 (input layer)\n",
    "X_test = X_test.reshape(X_test.shape[0], 784).astype('float64') / 255 # astype : 실수로 변환 후 255로 나누어서 정규화(normalization)\n",
    "# 이름 확인\n",
    "print(\"class : %d \" % (Y_class_train[2]))"
   ]
  },
  {
   "cell_type": "markdown",
   "metadata": {},
   "source": [
    "### one_hot encoding"
   ]
  },
  {
   "cell_type": "code",
   "execution_count": 8,
   "metadata": {},
   "outputs": [
    {
     "data": {
      "text/plain": [
       "array([0., 0., 0., 0., 1., 0., 0., 0., 0., 0.], dtype=float32)"
      ]
     },
     "execution_count": 8,
     "metadata": {},
     "output_type": "execute_result"
    }
   ],
   "source": [
    "from keras.utils import np_utils\n",
    "Y_train = np_utils.to_categorical(Y_class_train,10)\n",
    "Y_test = np_utils.to_categorical(Y_class_test,10)\n",
    "# 출력\n",
    "Y_train[2]"
   ]
  },
  {
   "cell_type": "markdown",
   "metadata": {},
   "source": [
    "## Deep Learning basic frame"
   ]
  },
  {
   "cell_type": "code",
   "execution_count": 9,
   "metadata": {},
   "outputs": [
    {
     "name": "stderr",
     "output_type": "stream",
     "text": [
      "WARNING: Logging before flag parsing goes to stderr.\n",
      "W1210 19:20:56.420972 17420 deprecation_wrapper.py:119] From C:\\ProgramData\\Anaconda3\\lib\\site-packages\\keras\\backend\\tensorflow_backend.py:74: The name tf.get_default_graph is deprecated. Please use tf.compat.v1.get_default_graph instead.\n",
      "\n",
      "W1210 19:20:56.423876 17420 deprecation_wrapper.py:119] From C:\\ProgramData\\Anaconda3\\lib\\site-packages\\keras\\backend\\tensorflow_backend.py:517: The name tf.placeholder is deprecated. Please use tf.compat.v1.placeholder instead.\n",
      "\n",
      "W1210 19:20:56.437838 17420 deprecation_wrapper.py:119] From C:\\ProgramData\\Anaconda3\\lib\\site-packages\\keras\\backend\\tensorflow_backend.py:4138: The name tf.random_uniform is deprecated. Please use tf.random.uniform instead.\n",
      "\n",
      "W1210 19:20:56.491762 17420 deprecation_wrapper.py:119] From C:\\ProgramData\\Anaconda3\\lib\\site-packages\\keras\\optimizers.py:790: The name tf.train.Optimizer is deprecated. Please use tf.compat.v1.train.Optimizer instead.\n",
      "\n",
      "W1210 19:20:56.519619 17420 deprecation_wrapper.py:119] From C:\\ProgramData\\Anaconda3\\lib\\site-packages\\keras\\backend\\tensorflow_backend.py:3295: The name tf.log is deprecated. Please use tf.math.log instead.\n",
      "\n"
     ]
    }
   ],
   "source": [
    "from keras.models import Sequential\n",
    "from keras.layers import Dense\n",
    "from keras.callbacks import ModelCheckpoint, EarlyStopping\n",
    "\n",
    "# 모델 프레임 설정\n",
    "model = Sequential()\n",
    "model.add(Dense(512, input_dim=784, activation='softplus'))\n",
    "model.add(Dense(10, activation='softmax'))\n",
    "\n",
    "# 모델 실행 환경 설정\n",
    "model.compile(loss='categorical_crossentropy', optimizer='adam', metrics=['accuracy'])"
   ]
  },
  {
   "cell_type": "code",
   "execution_count": 10,
   "metadata": {},
   "outputs": [],
   "source": [
    "import os\n",
    "import sys\n",
    "\n",
    "# 모델 최적화 설정\n",
    "MODEL_DIR = 'mnist_model/'\n",
    "if not os.path.exists(MODEL_DIR):\n",
    "    os.mkdir(MODEL_DIR)\n",
    "    \n",
    "modelpath = \"mnist_model/{epoch:02d}-{val_loss:.4f}.hdf5\"    \n",
    "checkpointer = ModelCheckpoint(filepath=modelpath, monitor='val_loss', verbose=1, save_best_only=True)\n",
    "early_stopping_callback = EarlyStopping(monitor='val_loss', patience=10)"
   ]
  },
  {
   "cell_type": "code",
   "execution_count": 11,
   "metadata": {},
   "outputs": [
    {
     "name": "stderr",
     "output_type": "stream",
     "text": [
      "W1210 19:21:06.284953 17420 deprecation.py:323] From C:\\ProgramData\\Anaconda3\\lib\\site-packages\\tensorflow\\python\\ops\\math_grad.py:1250: add_dispatch_support.<locals>.wrapper (from tensorflow.python.ops.array_ops) is deprecated and will be removed in a future version.\n",
      "Instructions for updating:\n",
      "Use tf.where in 2.0, which has the same broadcast rule as np.where\n",
      "W1210 19:21:06.352733 17420 deprecation_wrapper.py:119] From C:\\ProgramData\\Anaconda3\\lib\\site-packages\\keras\\backend\\tensorflow_backend.py:986: The name tf.assign_add is deprecated. Please use tf.compat.v1.assign_add instead.\n",
      "\n"
     ]
    },
    {
     "name": "stdout",
     "output_type": "stream",
     "text": [
      "Train on 60000 samples, validate on 10000 samples\n",
      "Epoch 1/30\n",
      "60000/60000 [==============================] - 4s 74us/step - loss: 0.4033 - acc: 0.8844 - val_loss: 0.2702 - val_acc: 0.9211\n",
      "\n",
      "Epoch 00001: val_loss improved from inf to 0.27023, saving model to mnist_model/01-0.2702.hdf5\n",
      "Epoch 2/30\n",
      "60000/60000 [==============================] - 4s 62us/step - loss: 0.2394 - acc: 0.9316 - val_loss: 0.2020 - val_acc: 0.9417\n",
      "\n",
      "Epoch 00002: val_loss improved from 0.27023 to 0.20205, saving model to mnist_model/02-0.2020.hdf5\n",
      "Epoch 3/30\n",
      "60000/60000 [==============================] - 4s 59us/step - loss: 0.1789 - acc: 0.9482 - val_loss: 0.1606 - val_acc: 0.9538\n",
      "\n",
      "Epoch 00003: val_loss improved from 0.20205 to 0.16064, saving model to mnist_model/03-0.1606.hdf5\n",
      "Epoch 4/30\n",
      "60000/60000 [==============================] - 4s 59us/step - loss: 0.1397 - acc: 0.9595 - val_loss: 0.1303 - val_acc: 0.9623\n",
      "\n",
      "Epoch 00004: val_loss improved from 0.16064 to 0.13026, saving model to mnist_model/04-0.1303.hdf5\n",
      "Epoch 5/30\n",
      "60000/60000 [==============================] - 4s 62us/step - loss: 0.1123 - acc: 0.9674 - val_loss: 0.1076 - val_acc: 0.9672\n",
      "\n",
      "Epoch 00005: val_loss improved from 0.13026 to 0.10760, saving model to mnist_model/05-0.1076.hdf5\n",
      "Epoch 6/30\n",
      "60000/60000 [==============================] - 4s 59us/step - loss: 0.0928 - acc: 0.9728 - val_loss: 0.0992 - val_acc: 0.9702\n",
      "\n",
      "Epoch 00006: val_loss improved from 0.10760 to 0.09917, saving model to mnist_model/06-0.0992.hdf5\n",
      "Epoch 7/30\n",
      "60000/60000 [==============================] - 4s 61us/step - loss: 0.0778 - acc: 0.9769 - val_loss: 0.0886 - val_acc: 0.9727\n",
      "\n",
      "Epoch 00007: val_loss improved from 0.09917 to 0.08857, saving model to mnist_model/07-0.0886.hdf5\n",
      "Epoch 8/30\n",
      "60000/60000 [==============================] - 3s 57us/step - loss: 0.0669 - acc: 0.9796 - val_loss: 0.0819 - val_acc: 0.9745\n",
      "\n",
      "Epoch 00008: val_loss improved from 0.08857 to 0.08194, saving model to mnist_model/08-0.0819.hdf5\n",
      "Epoch 9/30\n",
      "60000/60000 [==============================] - 3s 57us/step - loss: 0.0565 - acc: 0.9830 - val_loss: 0.0790 - val_acc: 0.9758\n",
      "\n",
      "Epoch 00009: val_loss improved from 0.08194 to 0.07899, saving model to mnist_model/09-0.0790.hdf5\n",
      "Epoch 10/30\n",
      "60000/60000 [==============================] - 4s 59us/step - loss: 0.0488 - acc: 0.9852 - val_loss: 0.0768 - val_acc: 0.9771\n",
      "\n",
      "Epoch 00010: val_loss improved from 0.07899 to 0.07676, saving model to mnist_model/10-0.0768.hdf5\n",
      "Epoch 11/30\n",
      "60000/60000 [==============================] - 4s 62us/step - loss: 0.0425 - acc: 0.9875 - val_loss: 0.0786 - val_acc: 0.9756\n",
      "\n",
      "Epoch 00011: val_loss did not improve from 0.07676\n",
      "Epoch 12/30\n",
      "60000/60000 [==============================] - 3s 57us/step - loss: 0.0359 - acc: 0.9895 - val_loss: 0.0765 - val_acc: 0.9766\n",
      "\n",
      "Epoch 00012: val_loss improved from 0.07676 to 0.07654, saving model to mnist_model/12-0.0765.hdf5\n",
      "Epoch 13/30\n",
      "60000/60000 [==============================] - 4s 61us/step - loss: 0.0305 - acc: 0.9913 - val_loss: 0.0722 - val_acc: 0.9784\n",
      "\n",
      "Epoch 00013: val_loss improved from 0.07654 to 0.07217, saving model to mnist_model/13-0.0722.hdf5\n",
      "Epoch 14/30\n",
      "60000/60000 [==============================] - 3s 58us/step - loss: 0.0272 - acc: 0.9923 - val_loss: 0.0845 - val_acc: 0.9749\n",
      "\n",
      "Epoch 00014: val_loss did not improve from 0.07217\n",
      "Epoch 15/30\n",
      "60000/60000 [==============================] - 3s 57us/step - loss: 0.0224 - acc: 0.9940 - val_loss: 0.0750 - val_acc: 0.9777\n",
      "\n",
      "Epoch 00015: val_loss did not improve from 0.07217\n",
      "Epoch 16/30\n",
      "60000/60000 [==============================] - 4s 62us/step - loss: 0.0195 - acc: 0.9949 - val_loss: 0.0705 - val_acc: 0.9793\n",
      "\n",
      "Epoch 00016: val_loss improved from 0.07217 to 0.07053, saving model to mnist_model/16-0.0705.hdf5\n",
      "Epoch 17/30\n",
      "60000/60000 [==============================] - 3s 58us/step - loss: 0.0167 - acc: 0.9956 - val_loss: 0.0755 - val_acc: 0.9784\n",
      "\n",
      "Epoch 00017: val_loss did not improve from 0.07053\n",
      "Epoch 18/30\n",
      "60000/60000 [==============================] - 4s 59us/step - loss: 0.0143 - acc: 0.9968 - val_loss: 0.0760 - val_acc: 0.9800\n",
      "\n",
      "Epoch 00018: val_loss did not improve from 0.07053\n",
      "Epoch 19/30\n",
      "60000/60000 [==============================] - 3s 58us/step - loss: 0.0115 - acc: 0.9975 - val_loss: 0.0751 - val_acc: 0.9796\n",
      "\n",
      "Epoch 00019: val_loss did not improve from 0.07053\n",
      "Epoch 20/30\n",
      "60000/60000 [==============================] - 4s 60us/step - loss: 0.0106 - acc: 0.9976 - val_loss: 0.0773 - val_acc: 0.9789\n",
      "\n",
      "Epoch 00020: val_loss did not improve from 0.07053\n",
      "Epoch 21/30\n",
      "60000/60000 [==============================] - 4s 66us/step - loss: 0.0087 - acc: 0.9979 - val_loss: 0.0771 - val_acc: 0.9799 0s - loss: 0.0087 - a\n",
      "\n",
      "Epoch 00021: val_loss did not improve from 0.07053\n",
      "Epoch 22/30\n",
      "60000/60000 [==============================] - 4s 63us/step - loss: 0.0075 - acc: 0.9985 - val_loss: 0.0792 - val_acc: 0.9788\n",
      "\n",
      "Epoch 00022: val_loss did not improve from 0.07053\n",
      "Epoch 23/30\n",
      "60000/60000 [==============================] - 4s 59us/step - loss: 0.0067 - acc: 0.9985 - val_loss: 0.0797 - val_acc: 0.9789\n",
      "\n",
      "Epoch 00023: val_loss did not improve from 0.07053\n",
      "Epoch 24/30\n",
      "60000/60000 [==============================] - 4s 59us/step - loss: 0.0061 - acc: 0.9989 - val_loss: 0.0840 - val_acc: 0.9798\n",
      "\n",
      "Epoch 00024: val_loss did not improve from 0.07053\n",
      "Epoch 25/30\n",
      "60000/60000 [==============================] - 4s 60us/step - loss: 0.0048 - acc: 0.9991 - val_loss: 0.0891 - val_acc: 0.9773\n",
      "\n",
      "Epoch 00025: val_loss did not improve from 0.07053\n",
      "Epoch 26/30\n",
      "60000/60000 [==============================] - 3s 58us/step - loss: 0.0042 - acc: 0.9993 - val_loss: 0.0840 - val_acc: 0.9791\n",
      "\n",
      "Epoch 00026: val_loss did not improve from 0.07053\n"
     ]
    }
   ],
   "source": [
    "# 모델 실행\n",
    "history = model.fit(X_train, Y_train, validation_data=(X_test, Y_test), \n",
    "                    epochs=30, batch_size=200, verbose=1, callbacks=[early_stopping_callback, checkpointer])"
   ]
  },
  {
   "cell_type": "code",
   "execution_count": 12,
   "metadata": {},
   "outputs": [
    {
     "name": "stdout",
     "output_type": "stream",
     "text": [
      "10000/10000 [==============================] - 0s 44us/step\n",
      "\n",
      " Test Accuracy: 0.9791\n"
     ]
    }
   ],
   "source": [
    "print(\"\\n Test Accuracy: %.4f\" % (model.evaluate(X_test, Y_test)[1]))"
   ]
  },
  {
   "cell_type": "code",
   "execution_count": 13,
   "metadata": {},
   "outputs": [
    {
     "data": {
      "image/png": "[encoded data removed]",
      "text/plain": [
       "<Figure size 576x576 with 1 Axes>"
      ]
     },
     "metadata": {
      "needs_background": "light"
     },
     "output_type": "display_data"
    }
   ],
   "source": [
    "import numpy as np\n",
    "import matplotlib.pyplot as plt\n",
    "%matplotlib inline\n",
    "\n",
    "y_vloss = history.history['val_loss'] # 검증셋으로 측정한 오차\n",
    "y_loss = history.history['loss'] # 학습셋의 오차\n",
    "y_acc = history.history['acc'] # 학습셋의 정확도\n",
    "x_len = np.arange(1,len(y_loss)+1)\n",
    "\n",
    "plt.figure(figsize=(8,8))\n",
    "plt.plot(x_len, y_vloss, marker='.', c='red', label='Testset_loss')\n",
    "plt.plot(x_len, y_loss, marker='.', c='blue', label='Trainset_loss')\n",
    "plt.legend(loc='best')\n",
    "plt.grid()\n",
    "plt.xlabel('epoch')\n",
    "plt.ylabel('loss')\n",
    "plt.title('MNIST data 1')\n",
    "plt.show()"
   ]
  },
  {
   "cell_type": "code",
   "execution_count": 14,
   "metadata": {},
   "outputs": [
    {
     "data": {
      "image/png": "[encoded data removed]",
      "text/plain": [
       "<Figure size 576x576 with 1 Axes>"
      ]
     },
     "metadata": {
      "needs_background": "light"
     },
     "output_type": "display_data"
    }
   ],
   "source": [
    "plt.figure(figsize=(8,8))\n",
    "plt.plot(x_len, y_vloss, marker='.', c='red', label='Testset_loss')\n",
    "plt.plot(x_len, y_acc, marker='.', c='green', label='Trainset_accuracy')\n",
    "plt.legend(loc='best')\n",
    "plt.grid()\n",
    "plt.xlabel('epoch')\n",
    "plt.title('MNIST data 2')\n",
    "plt.show()"
   ]
  },
  {
   "cell_type": "markdown",
   "metadata": {},
   "source": [
    "## Convolutional Neural Network\n",
    "\n",
    "### CNN\n",
    "- 입력된 image에서 다시 한번 특징을 추출하기 위해 mask(filter, window 또는 kernel)를 도입하는 기법\n",
    "- 공간정보를 유지하기 위함\n",
    "\n",
    "### Max-pooling\n",
    "- CNN에 의한 결과가 여전히 크고 복잡한 경우 다시 한번 축소하는 과정"
   ]
  },
  {
   "cell_type": "code",
   "execution_count": 15,
   "metadata": {},
   "outputs": [
    {
     "name": "stderr",
     "output_type": "stream",
     "text": [
      "W1210 19:25:35.943561 17420 deprecation_wrapper.py:119] From C:\\ProgramData\\Anaconda3\\lib\\site-packages\\keras\\backend\\tensorflow_backend.py:3976: The name tf.nn.max_pool is deprecated. Please use tf.nn.max_pool2d instead.\n",
      "\n",
      "W1210 19:25:35.956860 17420 deprecation.py:506] From C:\\ProgramData\\Anaconda3\\lib\\site-packages\\keras\\backend\\tensorflow_backend.py:3445: calling dropout (from tensorflow.python.ops.nn_ops) with keep_prob is deprecated and will be removed in a future version.\n",
      "Instructions for updating:\n",
      "Please use `rate` instead of `keep_prob`. Rate should be set to `rate = 1 - keep_prob`.\n"
     ]
    },
    {
     "name": "stdout",
     "output_type": "stream",
     "text": [
      "_________________________________________________________________\n",
      "Layer (type)                 Output Shape              Param #   \n",
      "=================================================================\n",
      "conv2d_1 (Conv2D)            (None, 26, 26, 32)        320       \n",
      "_________________________________________________________________\n",
      "conv2d_2 (Conv2D)            (None, 24, 24, 64)        18496     \n",
      "_________________________________________________________________\n",
      "max_pooling2d_1 (MaxPooling2 (None, 12, 12, 64)        0         \n",
      "_________________________________________________________________\n",
      "dropout_1 (Dropout)          (None, 12, 12, 64)        0         \n",
      "_________________________________________________________________\n",
      "flatten_1 (Flatten)          (None, 9216)              0         \n",
      "_________________________________________________________________\n",
      "dense_3 (Dense)              (None, 128)               1179776   \n",
      "_________________________________________________________________\n",
      "dropout_2 (Dropout)          (None, 128)               0         \n",
      "_________________________________________________________________\n",
      "dense_4 (Dense)              (None, 10)                1290      \n",
      "=================================================================\n",
      "Total params: 1,199,882\n",
      "Trainable params: 1,199,882\n",
      "Non-trainable params: 0\n",
      "_________________________________________________________________\n"
     ]
    }
   ],
   "source": [
    "from keras.datasets import mnist\n",
    "from keras.utils import np_utils\n",
    "from keras.models import Sequential\n",
    "from keras.layers import Dense, Dropout, Flatten, Conv2D, MaxPooling2D\n",
    "from keras.callbacks import ModelCheckpoint,EarlyStopping\n",
    "\n",
    "import numpy as np\n",
    "import os\n",
    "import sys\n",
    "import tensorflow as tf\n",
    "\n",
    "# seed 값 설정\n",
    "seed = 0\n",
    "np.random.seed(seed)\n",
    "tf.set_random_seed(seed)\n",
    "\n",
    "# 데이터 불러오기\n",
    "(X_train, Y_train), (X_test, Y_test) = mnist.load_data()\n",
    "X_train = X_train.reshape(X_train.shape[0], 28, 28, 1).astype('float32') / 255\n",
    "X_test = X_test.reshape(X_test.shape[0], 28, 28, 1).astype('float32') / 255\n",
    "Y_train = np_utils.to_categorical(Y_train)\n",
    "Y_test = np_utils.to_categorical(Y_test)\n",
    "\n",
    "# 컨볼루션 신경망의 설정\n",
    "model = Sequential()\n",
    "# 마스크 갯수, 마스크의 크기, 입력되는 값 및 색상, 활성화 함수\n",
    "model.add(Conv2D(32, kernel_size=(3, 3), input_shape=(28, 28, 1), activation='relu')) # input_shape=(행, 열, 색상(3) 또는 흑백(1))\n",
    "model.add(Conv2D(64, kernel_size=(3, 3), activation='relu'))\n",
    "model.add(MaxPooling2D(pool_size=2)) # pool_size=2 : 절반으로 줄임\n",
    "model.add(Dropout(0.25)) # 과적합 방지를 위한 25% 노드 끄기\n",
    "model.add(Flatten()) # CNN이나 max-pooling의 경우 주어진 이미지를 2차원 배열인 채로 다루기 때문에 이를 1차원으로 바꿔야 함\n",
    "model.add(Dense(128,  activation='softplus'))\n",
    "model.add(Dropout(0.5))\n",
    "model.add(Dense(10, activation='softmax'))\n",
    "model.summary()"
   ]
  },
  {
   "cell_type": "code",
   "execution_count": 16,
   "metadata": {},
   "outputs": [],
   "source": [
    "# model compile\n",
    "model.compile(loss='categorical_crossentropy', optimizer='adam', metrics=['accuracy'])"
   ]
  },
  {
   "cell_type": "code",
   "execution_count": 17,
   "metadata": {},
   "outputs": [],
   "source": [
    "# 모델 최적화 설정\n",
    "MODEL_DIR = 'mnist_model//'\n",
    "if not os.path.exists(MODEL_DIR):\n",
    "    os.mkdir(MODEL_DIR)\n",
    "\n",
    "modelpath=\"mnist_model//{epoch:02d}-{val_loss:.4f}.hdf5\"\n",
    "checkpointer = ModelCheckpoint(filepath=modelpath, monitor='val_loss', verbose=1, save_best_only=True)\n",
    "early_stopping_callback = EarlyStopping(monitor='val_loss', patience=10)"
   ]
  },
  {
   "cell_type": "code",
   "execution_count": 18,
   "metadata": {},
   "outputs": [
    {
     "name": "stdout",
     "output_type": "stream",
     "text": [
      "Train on 60000 samples, validate on 10000 samples\n",
      "Epoch 1/30\n",
      "60000/60000 [==============================] - 65s 1ms/step - loss: 0.3377 - acc: 0.8953 - val_loss: 0.0649 - val_acc: 0.9801\n",
      "\n",
      "Epoch 00001: val_loss improved from inf to 0.06493, saving model to mnist_model//01-0.0649.hdf5\n",
      "Epoch 2/30\n",
      "60000/60000 [==============================] - 63s 1ms/step - loss: 0.0964 - acc: 0.9713 - val_loss: 0.0425 - val_acc: 0.9849\n",
      "\n",
      "Epoch 00002: val_loss improved from 0.06493 to 0.04246, saving model to mnist_model//02-0.0425.hdf5\n",
      "Epoch 3/30\n",
      "60000/60000 [==============================] - 64s 1ms/step - loss: 0.0688 - acc: 0.9789 - val_loss: 0.0404 - val_acc: 0.9872\n",
      "\n",
      "Epoch 00003: val_loss improved from 0.04246 to 0.04041, saving model to mnist_model//03-0.0404.hdf5\n",
      "Epoch 4/30\n",
      "60000/60000 [==============================] - 64s 1ms/step - loss: 0.0584 - acc: 0.9818 - val_loss: 0.0312 - val_acc: 0.9891\n",
      "\n",
      "Epoch 00004: val_loss improved from 0.04041 to 0.03117, saving model to mnist_model//04-0.0312.hdf5\n",
      "Epoch 5/30\n",
      "60000/60000 [==============================] - 66s 1ms/step - loss: 0.0482 - acc: 0.9849 - val_loss: 0.0294 - val_acc: 0.9900\n",
      "\n",
      "Epoch 00005: val_loss improved from 0.03117 to 0.02936, saving model to mnist_model//05-0.0294.hdf5\n",
      "Epoch 6/30\n",
      "60000/60000 [==============================] - 67s 1ms/step - loss: 0.0429 - acc: 0.9865 - val_loss: 0.0285 - val_acc: 0.9913\n",
      "\n",
      "Epoch 00006: val_loss improved from 0.02936 to 0.02849, saving model to mnist_model//06-0.0285.hdf5\n",
      "Epoch 7/30\n",
      "60000/60000 [==============================] - 64s 1ms/step - loss: 0.0362 - acc: 0.9885 - val_loss: 0.0271 - val_acc: 0.9909\n",
      "\n",
      "Epoch 00007: val_loss improved from 0.02849 to 0.02710, saving model to mnist_model//07-0.0271.hdf5\n",
      "Epoch 8/30\n",
      "60000/60000 [==============================] - 62s 1ms/step - loss: 0.0350 - acc: 0.9889 - val_loss: 0.0283 - val_acc: 0.9914\n",
      "\n",
      "Epoch 00008: val_loss did not improve from 0.02710\n",
      "Epoch 9/30\n",
      "60000/60000 [==============================] - 62s 1ms/step - loss: 0.0312 - acc: 0.9899 - val_loss: 0.0281 - val_acc: 0.9917\n",
      "\n",
      "Epoch 00009: val_loss did not improve from 0.02710\n",
      "Epoch 10/30\n",
      "60000/60000 [==============================] - 61s 1ms/step - loss: 0.0291 - acc: 0.9911 - val_loss: 0.0278 - val_acc: 0.9915\n",
      "\n",
      "Epoch 00010: val_loss did not improve from 0.02710\n",
      "Epoch 11/30\n",
      "60000/60000 [==============================] - 66s 1ms/step - loss: 0.0260 - acc: 0.9915 - val_loss: 0.0276 - val_acc: 0.9922\n",
      "\n",
      "Epoch 00011: val_loss did not improve from 0.02710\n",
      "Epoch 12/30\n",
      "60000/60000 [==============================] - 76s 1ms/step - loss: 0.0250 - acc: 0.9919 - val_loss: 0.0294 - val_acc: 0.9908\n",
      "\n",
      "Epoch 00012: val_loss did not improve from 0.02710\n",
      "Epoch 13/30\n",
      "60000/60000 [==============================] - 65s 1ms/step - loss: 0.0227 - acc: 0.9927 - val_loss: 0.0306 - val_acc: 0.9912\n",
      "\n",
      "Epoch 00013: val_loss did not improve from 0.02710\n",
      "Epoch 14/30\n",
      "60000/60000 [==============================] - 64s 1ms/step - loss: 0.0202 - acc: 0.9933 - val_loss: 0.0326 - val_acc: 0.9906\n",
      "\n",
      "Epoch 00014: val_loss did not improve from 0.02710\n",
      "Epoch 15/30\n",
      "60000/60000 [==============================] - 70s 1ms/step - loss: 0.0210 - acc: 0.9927 - val_loss: 0.0280 - val_acc: 0.9919\n",
      "\n",
      "Epoch 00015: val_loss did not improve from 0.02710\n",
      "Epoch 16/30\n",
      "60000/60000 [==============================] - 67s 1ms/step - loss: 0.0177 - acc: 0.9940 - val_loss: 0.0300 - val_acc: 0.9918\n",
      "\n",
      "Epoch 00016: val_loss did not improve from 0.02710\n",
      "Epoch 17/30\n",
      "60000/60000 [==============================] - 74s 1ms/step - loss: 0.0182 - acc: 0.9941 - val_loss: 0.0342 - val_acc: 0.9915\n",
      "\n",
      "Epoch 00017: val_loss did not improve from 0.02710\n"
     ]
    }
   ],
   "source": [
    "# 모델의 실행\n",
    "history = model.fit(X_train, Y_train, validation_data=(X_test, Y_test), epochs=30, batch_size=200, verbose=1, \n",
    "                    callbacks=[early_stopping_callback,checkpointer])"
   ]
  },
  {
   "cell_type": "code",
   "execution_count": 19,
   "metadata": {},
   "outputs": [
    {
     "name": "stdout",
     "output_type": "stream",
     "text": [
      "10000/10000 [==============================] - 3s 300us/step\n",
      "\n",
      " Test Accuracy: 0.9915\n"
     ]
    }
   ],
   "source": [
    "# 테스트 정확도 출력\n",
    "print(\"\\n Test Accuracy: %.4f\" % (model.evaluate(X_test, Y_test)[1]))"
   ]
  },
  {
   "cell_type": "code",
   "execution_count": 20,
   "metadata": {},
   "outputs": [
    {
     "data": {
      "image/png": "[encoded data removed]",
      "text/plain": [
       "<Figure size 576x576 with 1 Axes>"
      ]
     },
     "metadata": {
      "needs_background": "light"
     },
     "output_type": "display_data"
    }
   ],
   "source": [
    "# 그래프 \n",
    "import matplotlib.pyplot as plt\n",
    "%matplotlib inline\n",
    "y_vloss = history.history['val_loss'] # 검증셋으로 측정한 오차\n",
    "y_loss = history.history['loss'] # 학습셋의 오차\n",
    "x_len = np.arange(1,len(y_loss)+1)\n",
    "\n",
    "plt.figure(figsize=(8,8))\n",
    "plt.plot(x_len, y_vloss, marker='.', c='red', label='Testset_loss')\n",
    "plt.plot(x_len, y_loss, marker='.', c='blue', label='Trainset_loss')\n",
    "plt.legend(loc='best')\n",
    "plt.grid()\n",
    "plt.xlabel('epoch')\n",
    "plt.ylabel('loss')\n",
    "plt.title('MNIST data (CNN)')\n",
    "plt.show()"
   ]
  },
  {
   "cell_type": "code",
   "execution_count": null,
   "metadata": {},
   "outputs": [],
   "source": []
  }
 ],
 "metadata": {
  "kernelspec": {
   "display_name": "Python 3",
   "language": "python",
   "name": "python3"
  },
  "language_info": {
   "codemirror_mode": {
    "name": "ipython",
    "version": 3
   },
   "file_extension": ".py",
   "mimetype": "text/x-python",
   "name": "python",
   "nbconvert_exporter": "python",
   "pygments_lexer": "ipython3",
   "version": "3.7.3"
  }
 },
 "nbformat": 4,
 "nbformat_minor": 2
}
