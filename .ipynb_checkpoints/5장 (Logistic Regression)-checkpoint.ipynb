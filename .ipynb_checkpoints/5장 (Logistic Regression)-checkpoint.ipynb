{
 "cells": [
  {
   "cell_type": "markdown",
   "metadata": {},
   "source": [
    "# Logistic Regression"
   ]
  },
  {
   "cell_type": "code",
   "execution_count": 1,
   "metadata": {},
   "outputs": [
    {
     "name": "stderr",
     "output_type": "stream",
     "text": [
      "Using TensorFlow backend.\n"
     ]
    }
   ],
   "source": [
    "# need library\n",
    "import numpy as np\n",
    "import tensorflow as tf\n",
    "# warning remove\n",
    "if type(tf.contrib) != type(tf):\n",
    "    tf.contrib._warning = None\n",
    "# 딥러닝 구동에 필요한 케라스 함수\n",
    "from keras.models import Sequential\n",
    "from keras.layers import Dense   "
   ]
  },
  {
   "cell_type": "code",
   "execution_count": 3,
   "metadata": {},
   "outputs": [
    {
     "name": "stdout",
     "output_type": "stream",
     "text": [
      "Epoch: 0, loss = 4.4835, w = 2.3946, b = -0.8820\n",
      "Epoch: 3000, loss = 0.0269, w = 2.3377, b = 16.2060\n",
      "Epoch: 6000, loss = 0.0152, w = 2.9209, b = 20.2966\n",
      "Epoch: 9000, loss = 0.0106, w = 3.2916, b = 22.8947\n",
      "Epoch: 12000, loss = 0.0081, w = 3.5636, b = 24.8002\n",
      "Epoch: 15000, loss = 0.0065, w = 3.7783, b = 26.3041\n",
      "Epoch: 18000, loss = 0.0055, w = 3.9556, b = 27.5458\n",
      "Epoch: 21000, loss = 0.0047, w = 4.1066, b = 28.6028\n",
      "Epoch: 24000, loss = 0.0041, w = 4.2380, b = 29.5227\n",
      "Epoch: 27000, loss = 0.0037, w = 4.3543, b = 30.3370\n",
      "Epoch: 30000, loss = 0.0033, w = 4.4585, b = 31.0672\n",
      "Epoch: 33000, loss = 0.0030, w = 4.5531, b = 31.7291\n",
      "Epoch: 36000, loss = 0.0028, w = 4.6395, b = 32.3343\n",
      "Epoch: 39000, loss = 0.0026, w = 4.7191, b = 32.8918\n",
      "Epoch: 42000, loss = 0.0024, w = 4.7929, b = 33.4084\n",
      "Epoch: 45000, loss = 0.0022, w = 4.8617, b = 33.8898\n",
      "Epoch: 48000, loss = 0.0021, w = 4.9261, b = 34.3404\n",
      "Epoch: 51000, loss = 0.0020, w = 4.9865, b = 34.7639\n",
      "Epoch: 54000, loss = 0.0019, w = 5.0436, b = 35.1634\n",
      "Epoch: 57000, loss = 0.0018, w = 5.0976, b = 35.5415\n",
      "Epoch: 60000, loss = 0.0017, w = 5.1489, b = 35.9003\n"
     ]
    }
   ],
   "source": [
    "import tensorflow as tf\n",
    "import numpy as np\n",
    "\n",
    "data = [[2,0],[4,0],[6,0],[8,1],[10,1],[12,1],[14,1]]\n",
    "x_data = [i[0] for i in data]\n",
    "y_data = [i[1] for i in data]\n",
    "\n",
    "w = tf.Variable(tf.random_normal([1], dtype=tf.float64, seed=0))\n",
    "b = tf.Variable(tf.random_normal([1], dtype=tf.float64, seed=0))\n",
    "\n",
    "# sigmoid function\n",
    "y = 1 / (1 + np.e**(-w * x_data + b))\n",
    "\n",
    "# loss function\n",
    "loss = -tf.reduce_mean(np.array(y_data) * tf.log(y) + (1 - np.array(y_data)) * tf.log(1 - y))\n",
    "\n",
    "learning_rate = 0.5\n",
    "gradient_descent = tf.train.GradientDescentOptimizer(learning_rate).minimize(loss)\n",
    "\n",
    "with tf.Session() as sess:\n",
    "    sess.run(tf.global_variables_initializer())\n",
    "    for i in range(60001):\n",
    "        sess.run(gradient_descent)\n",
    "        if i % 3000 == 0:\n",
    "            print(\"Epoch: %.f, loss = %.4f, w = %.4f, b = %.4f\" % (i, sess.run(loss), sess.run(w), sess.run(b)))"
   ]
  },
  {
   "cell_type": "markdown",
   "metadata": {},
   "source": [
    "## Multiple case"
   ]
  },
  {
   "cell_type": "code",
   "execution_count": 10,
   "metadata": {},
   "outputs": [
    {
     "name": "stdout",
     "output_type": "stream",
     "text": [
      "step=300, w1=0.8126, w2=-0.5719, b=-2.3104, loss=0.2743\n",
      "step=600, w1=0.8237, w2=-0.3100, b=-3.8153, loss=0.1951\n",
      "step=900, w1=0.7371, w2=0.0160, b=-4.8968, loss=0.1520\n",
      "step=1200, w1=0.6347, w2=0.3229, b=-5.7496, loss=0.1242\n",
      "step=1500, w1=0.5361, w2=0.5971, b=-6.4554, loss=0.1047\n",
      "step=1800, w1=0.4466, w2=0.8391, b=-7.0581, loss=0.0903\n",
      "step=2100, w1=0.3670, w2=1.0529, b=-7.5841, loss=0.0794\n",
      "step=2400, w1=0.2965, w2=1.2427, b=-8.0509, loss=0.0707\n",
      "step=2700, w1=0.2340, w2=1.4121, b=-8.4706, loss=0.0637\n",
      "step=3000, w1=0.1784, w2=1.5646, b=-8.8519, loss=0.0580\n",
      "공부한 시간: 7, 과외 수업 횟수: 6\n",
      "합격 가능성:  85.63 %\n"
     ]
    }
   ],
   "source": [
    "import tensorflow as tf\n",
    "import numpy as np\n",
    "\n",
    "x_data = np.array([[2,3],[4,3],[6,4],[8,6],[10,7],[12,8],[14,9]])\n",
    "y_data = np.array([0,0,0,1,1,1,1]).reshape(7,1)\n",
    "\n",
    "# placeholder : 입력값을 담는 일종의 그릇\n",
    "X = tf.placeholder(tf.float64, shape=[None,2])\n",
    "Y = tf.placeholder(tf.float64, shape=[None,1])\n",
    "\n",
    "w = tf.Variable(tf.random_uniform([2,1], dtype=tf.float64)) # [2,1] : 들어오는 값은 2개, 나가는 값은 1개\n",
    "b = tf.Variable(tf.random_uniform([1], dtype=tf.float64))\n",
    "\n",
    "# sigmoid function\n",
    "y = tf.sigmoid(tf.matmul(X, w) + b) # matmul : 행렬곱\n",
    "\n",
    "loss = -tf.reduce_mean(Y * tf.log(y) + (1 - Y) * tf.log(1 - y))\n",
    "\n",
    "learning_rate = 0.1\n",
    "gradient_descent = tf.train.GradientDescentOptimizer(learning_rate).minimize(loss)\n",
    "\n",
    "predicted = tf.cast(y > 0.5, dtype=tf.float64)\n",
    "accuracy = tf.reduce_mean(tf.cast(tf.equal(predicted, Y), dtype=tf.float64))\n",
    "\n",
    "# learning and predict\n",
    "with tf.Session() as sess:\n",
    "    sess.run(tf.global_variables_initializer())\n",
    "    for i in range(3001):\n",
    "        w_, b_, loss_, _ = sess.run([w, b, loss, gradient_descent], feed_dict = {X : x_data, Y : y_data})\n",
    "        if (i + 1) % 300 == 0:\n",
    "            print(\"step=%d, w1=%.4f, w2=%.4f, b=%.4f, loss=%.4f\" % (i + 1, w_[0], w_[1], b_, loss_))\n",
    "    # 실제값 적용\n",
    "    new_x = np.array([7,6]).reshape(1,2)\n",
    "    new_y = sess.run(y, feed_dict={X : new_x})\n",
    "    print(\"공부한 시간: %d, 과외 수업 횟수: %d\" % (new_x[:,0], new_x[:,1]))\n",
    "    print(\"합격 가능성: %6.2f %%\" % (new_y*100))        "
   ]
  },
  {
   "cell_type": "markdown",
   "metadata": {},
   "source": [
    "## Sigmoid function"
   ]
  },
  {
   "cell_type": "code",
   "execution_count": 14,
   "metadata": {},
   "outputs": [
    {
     "data": {
      "image/png": "[encoded data removed]",
      "text/plain": [
       "<Figure size 432x288 with 1 Axes>"
      ]
     },
     "metadata": {
      "needs_background": "light"
     },
     "output_type": "display_data"
    }
   ],
   "source": [
    "import numpy as np\n",
    "import matplotlib.pyplot as plt\n",
    "%matplotlib inline\n",
    "\n",
    "def sigmoid(x):\n",
    "    return 1 / (1 + np.exp(-x))\n",
    "def sig5(x):\n",
    "    return 1 / (1 + np.exp(-5*x))\n",
    "def sig05(x):\n",
    "    return 1 / (1 + np.exp(-0.5*x))\n",
    "\n",
    "X = np.linspace(-10,10,1001)\n",
    "sig_Y = sigmoid(X)\n",
    "sig_5Y = sig5(X)\n",
    "sig_05Y = sig05(X)\n",
    "\n",
    "plt.plot(X, sig_Y, color='b')\n",
    "plt.plot(X, sig_5Y, color='r')\n",
    "plt.plot(X, sig_05Y, color='g')\n",
    "plt.grid()\n",
    "plt.show()"
   ]
  },
  {
   "cell_type": "code",
   "execution_count": 16,
   "metadata": {},
   "outputs": [
    {
     "data": {
      "image/png": "[encoded data removed]",
      "text/plain": [
       "<Figure size 432x288 with 1 Axes>"
      ]
     },
     "metadata": {
      "needs_background": "light"
     },
     "output_type": "display_data"
    }
   ],
   "source": [
    "def sig_shift(x, b):\n",
    "    return 1 / (1 + np.exp(-(x - b)))\n",
    "\n",
    "sig_shift2_Y = sig_shift(X, 2)\n",
    "sig_shift2__Y = sig_shift(X, -2)\n",
    "\n",
    "plt.plot(X, sig_Y, color='b')\n",
    "plt.plot(X, sig_shift2_Y, color='r')\n",
    "plt.plot(X, sig_shift2__Y, color='g')\n",
    "plt.grid()\n",
    "plt.show()"
   ]
  },
  {
   "cell_type": "code",
   "execution_count": 17,
   "metadata": {},
   "outputs": [
    {
     "data": {
      "image/png": "[encoded data removed]",
      "text/plain": [
       "<Figure size 432x288 with 1 Axes>"
      ]
     },
     "metadata": {
      "needs_background": "light"
     },
     "output_type": "display_data"
    }
   ],
   "source": [
    "# sigmoid 함수의 미분\n",
    "def derivative_sigmoid(x): \n",
    "    return sigmoid(x) * (1-sigmoid(x))\n",
    "\n",
    "derivative_Y = derivative_sigmoid(X)\n",
    "\n",
    "plt.plot(X, sig_Y, color='b')\n",
    "plt.plot(X, derivative_Y, color='r')\n",
    "plt.grid()\n",
    "plt.show()"
   ]
  }
 ],
 "metadata": {
  "kernelspec": {
   "display_name": "Python 3",
   "language": "python",
   "name": "python3"
  },
  "language_info": {
   "codemirror_mode": {
    "name": "ipython",
    "version": 3
   },
   "file_extension": ".py",
   "mimetype": "text/x-python",
   "name": "python",
   "nbconvert_exporter": "python",
   "pygments_lexer": "ipython3",
   "version": "3.7.3"
  }
 },
 "nbformat": 4,
 "nbformat_minor": 2
}
