{
 "cells": [
  {
   "cell_type": "markdown",
   "metadata": {},
   "source": [
    "# Logistic Regression"
   ]
  },
  {
   "cell_type": "code",
   "execution_count": 1,
   "metadata": {},
   "outputs": [
    {
     "name": "stderr",
     "output_type": "stream",
     "text": [
      "Using TensorFlow backend.\n"
     ]
    }
   ],
   "source": [
    "# need library\n",
    "import numpy as np\n",
    "import tensorflow as tf\n",
    "# warning remove\n",
    "if type(tf.contrib) != type(tf):\n",
    "    tf.contrib._warning = None\n",
    "# 딥러닝 구동에 필요한 케라스 함수\n",
    "from keras.models import Sequential\n",
    "from keras.layers import Dense   "
   ]
  },
  {
   "cell_type": "code",
   "execution_count": 5,
   "metadata": {},
   "outputs": [
    {
     "name": "stdout",
     "output_type": "stream",
     "text": [
      "Epoch: 0, loss = 4.4835, w = 2.3946, b = -0.8820\n",
      "Epoch: 3000, loss = 0.0269, w = 2.3377, b = 16.2060\n",
      "Epoch: 6000, loss = 0.0152, w = 2.9209, b = 20.2966\n",
      "Epoch: 9000, loss = 0.0106, w = 3.2916, b = 22.8947\n",
      "Epoch: 12000, loss = 0.0081, w = 3.5636, b = 24.8002\n",
      "Epoch: 15000, loss = 0.0065, w = 3.7783, b = 26.3041\n",
      "Epoch: 18000, loss = 0.0055, w = 3.9556, b = 27.5458\n",
      "Epoch: 21000, loss = 0.0047, w = 4.1066, b = 28.6028\n",
      "Epoch: 24000, loss = 0.0041, w = 4.2380, b = 29.5227\n",
      "Epoch: 27000, loss = 0.0037, w = 4.3543, b = 30.3370\n",
      "Epoch: 30000, loss = 0.0033, w = 4.4585, b = 31.0672\n",
      "Epoch: 33000, loss = 0.0030, w = 4.5531, b = 31.7291\n",
      "Epoch: 36000, loss = 0.0028, w = 4.6395, b = 32.3343\n",
      "Epoch: 39000, loss = 0.0026, w = 4.7191, b = 32.8918\n",
      "Epoch: 42000, loss = 0.0024, w = 4.7929, b = 33.4084\n",
      "Epoch: 45000, loss = 0.0022, w = 4.8617, b = 33.8898\n",
      "Epoch: 48000, loss = 0.0021, w = 4.9261, b = 34.3404\n",
      "Epoch: 51000, loss = 0.0020, w = 4.9865, b = 34.7639\n",
      "Epoch: 54000, loss = 0.0019, w = 5.0436, b = 35.1634\n",
      "Epoch: 57000, loss = 0.0018, w = 5.0976, b = 35.5415\n",
      "Epoch: 60000, loss = 0.0017, w = 5.1489, b = 35.9003\n"
     ]
    }
   ],
   "source": [
    "import tensorflow as tf\n",
    "import numpy as np\n",
    "\n",
    "data = [[2,0],[4,0],[6,0],[8,1],[10,1],[12,1],[14,1]]\n",
    "x_data = [i[0] for i in data]\n",
    "y_data = [i[1] for i in data]\n",
    "\n",
    "w = tf.Variable(tf.random_normal([1], dtype=tf.float64, seed=0))\n",
    "b = tf.Variable(tf.random_normal([1], dtype=tf.float64, seed=0))\n",
    "\n",
    "# sigmoid function\n",
    "y = 1 / (1 + np.e**(-w * x_data + b))\n",
    "\n",
    "# loss function\n",
    "loss = -tf.reduce_mean(np.array(y_data) * tf.log(y) + (1 - np.array(y_data)) * tf.log(1 - y))\n",
    "\n",
    "learning_rate = 0.5\n",
    "gradient_descent = tf.train.GradientDescentOptimizer(learning_rate).minimize(loss)\n",
    "\n",
    "with tf.Session() as sess:\n",
    "    sess.run(tf.global_variables_initializer())\n",
    "    for i in range(60001):\n",
    "        sess.run(gradient_descent)\n",
    "        if i % 3000 == 0:\n",
    "            print(\"Epoch: %.f, loss = %.4f, w = %.4f, b = %.4f\" % (i, sess.run(loss), sess.run(w), sess.run(b)))"
   ]
  },
  {
   "cell_type": "code",
   "execution_count": null,
   "metadata": {},
   "outputs": [],
   "source": []
  }
 ],
 "metadata": {
  "kernelspec": {
   "display_name": "Python 3",
   "language": "python",
   "name": "python3"
  },
  "language_info": {
   "codemirror_mode": {
    "name": "ipython",
    "version": 3
   },
   "file_extension": ".py",
   "mimetype": "text/x-python",
   "name": "python",
   "nbconvert_exporter": "python",
   "pygments_lexer": "ipython3",
   "version": "3.7.3"
  }
 },
 "nbformat": 4,
 "nbformat_minor": 2
}
