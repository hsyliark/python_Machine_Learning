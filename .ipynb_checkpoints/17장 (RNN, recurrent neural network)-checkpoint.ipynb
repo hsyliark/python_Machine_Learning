{
 "cells": [
  {
   "cell_type": "markdown",
   "metadata": {},
   "source": [
    "# RNN, recurrent neural network\n"
   ]
  },
  {
   "cell_type": "code",
   "execution_count": 1,
   "metadata": {},
   "outputs": [
    {
     "name": "stderr",
     "output_type": "stream",
     "text": [
      "Using TensorFlow backend.\n"
     ]
    }
   ],
   "source": [
    "# need library\n",
    "import numpy as np\n",
    "import tensorflow as tf\n",
    "# warning remove\n",
    "if type(tf.contrib) != type(tf):\n",
    "    tf.contrib._warning = None\n",
    "# 딥러닝 구동에 필요한 케라스 함수\n",
    "from keras.models import Sequential\n",
    "from keras.layers import Dense    "
   ]
  },
  {
   "cell_type": "markdown",
   "metadata": {},
   "source": [
    "## RNN\n",
    "- 과거에 입력된 데이터와 나중에 입력된 데이터 사이의 관계를 고려해야 하는 문제 발생.\n",
    "- 여러개의 데이터가 순서대로 입력되었을 때 앞서 입력받은 데이터를 잠시 기억해 놓은 후, 기억된 데이터가 얼마나 중요한지를 판단하여 별도의 가중치를 줘서 다음 데이터로 넘어감."
   ]
  },
  {
   "cell_type": "markdown",
   "metadata": {},
   "source": [
    "## LSTM(Long Short Term Memory)을 이용한 로이터 뉴스 카테고리 분류하기\n",
    "\n",
    "### Embedding\n",
    "- 데이터 전처리 과정을 통해 입력된 값을 받아 다음 층이 알아들을 수 있는 형태로 변환함.\n",
    "\n",
    "### LSTM\n",
    "- 한 층 안에서 반복을 많이 해야 하는 RNN의 특성상 일반 신경망보다 기울기 소실 문제가 더 많이 발생하고 이를 해결하기 어렵다는 단점을 보완한 방법.\n",
    "- 반복되기 직전에 다음 층으로 기억된 값을 넘길지 안 넘길지를 관리하는 단계를 추가함.\n"
   ]
  },
  {
   "cell_type": "code",
   "execution_count": 2,
   "metadata": {},
   "outputs": [
    {
     "name": "stdout",
     "output_type": "stream",
     "text": [
      "Downloading data from https://s3.amazonaws.com/text-datasets/reuters.npz\n",
      "2113536/2110848 [==============================] - 2s 1us/step\n",
      "46 카테고리\n",
      "8982 학습용 뉴스 기사\n",
      "2246 테스트용 뉴스 기사\n",
      "[1, 2, 2, 8, 43, 10, 447, 5, 25, 207, 270, 5, 2, 111, 16, 369, 186, 90, 67, 7, 89, 5, 19, 102, 6, 19, 124, 15, 90, 67, 84, 22, 482, 26, 7, 48, 4, 49, 8, 864, 39, 209, 154, 6, 151, 6, 83, 11, 15, 22, 155, 11, 15, 7, 48, 9, 2, 2, 504, 6, 258, 6, 272, 11, 15, 22, 134, 44, 11, 15, 16, 8, 197, 2, 90, 67, 52, 29, 209, 30, 32, 132, 6, 109, 15, 17, 12]\n"
     ]
    }
   ],
   "source": [
    "from keras.datasets import reuters\n",
    "from keras.models import Sequential\n",
    "from keras.layers import Dense, LSTM, Embedding\n",
    "from keras.preprocessing import sequence\n",
    "from keras.utils import np_utils\n",
    "\n",
    "import numpy as np\n",
    "import tensorflow as tf\n",
    "\n",
    "# seed 값 설정\n",
    "seed = 0\n",
    "np.random.seed(seed)\n",
    "tf.set_random_seed(seed)\n",
    "\n",
    "# 불러온 데이터를 train set 과 test set 으로 나누기\n",
    "(X_train, Y_train), (X_test, Y_test) = reuters.load_data(num_words=1000, test_split=0.2) # 빈도가 1~1000에 해당하는 단어만 선택\n",
    "\n",
    "# 데이터 확인하기\n",
    "category = np.max(Y_train) + 1\n",
    "print(category, '카테고리')\n",
    "print(len(X_train), '학습용 뉴스 기사')\n",
    "print(len(X_test), '테스트용 뉴스 기사')\n",
    "print(X_train[0]) # 3 : 세번째로 빈도가 높은 단어"
   ]
  },
  {
   "cell_type": "code",
   "execution_count": 4,
   "metadata": {},
   "outputs": [
    {
     "name": "stdout",
     "output_type": "stream",
     "text": [
      "3\n"
     ]
    }
   ],
   "source": [
    "print(Y_train[0])"
   ]
  },
  {
   "cell_type": "code",
   "execution_count": 3,
   "metadata": {},
   "outputs": [],
   "source": [
    "# 데이터 전처리\n",
    "x_train = sequence.pad_sequences(X_train, maxlen=100) # 단어 수를 100개로 맞춤\n",
    "x_test = sequence.pad_sequences(X_test, maxlen=100)\n",
    "y_train = np_utils.to_categorical(Y_train) # one-hot encoding\n",
    "y_test = np_utils.to_categorical(Y_test)"
   ]
  },
  {
   "cell_type": "code",
   "execution_count": 7,
   "metadata": {},
   "outputs": [
    {
     "name": "stdout",
     "output_type": "stream",
     "text": [
      "Train on 8982 samples, validate on 2246 samples\n",
      "Epoch 1/30\n",
      "8982/8982 [==============================] - 10s 1ms/step - loss: 2.6342 - acc: 0.3575 - val_loss: 2.4028 - val_acc: 0.3620\n",
      "Epoch 2/30\n",
      "8982/8982 [==============================] - 9s 1ms/step - loss: 2.1015 - acc: 0.4744 - val_loss: 1.9956 - val_acc: 0.5067\n",
      "Epoch 3/30\n",
      "8982/8982 [==============================] - 9s 1ms/step - loss: 1.8296 - acc: 0.5240 - val_loss: 1.7457 - val_acc: 0.5632\n",
      "Epoch 4/30\n",
      "8982/8982 [==============================] - 9s 1ms/step - loss: 1.7123 - acc: 0.5600 - val_loss: 1.7139 - val_acc: 0.5703\n",
      "Epoch 5/30\n",
      "8982/8982 [==============================] - 10s 1ms/step - loss: 1.6826 - acc: 0.5724 - val_loss: 1.6670 - val_acc: 0.5846\n",
      "Epoch 6/30\n",
      "8982/8982 [==============================] - 9s 1ms/step - loss: 1.6063 - acc: 0.5888 - val_loss: 1.6371 - val_acc: 0.5939\n",
      "Epoch 7/30\n",
      "8982/8982 [==============================] - 10s 1ms/step - loss: 1.5496 - acc: 0.6065 - val_loss: 1.5630 - val_acc: 0.6069\n",
      "Epoch 8/30\n",
      "8982/8982 [==============================] - 9s 1ms/step - loss: 1.4536 - acc: 0.6322 - val_loss: 1.5146 - val_acc: 0.6309\n",
      "Epoch 9/30\n",
      "8982/8982 [==============================] - 10s 1ms/step - loss: 1.3763 - acc: 0.6621 - val_loss: 1.4567 - val_acc: 0.6358\n",
      "Epoch 10/30\n",
      "8982/8982 [==============================] - 9s 1ms/step - loss: 1.2803 - acc: 0.6781 - val_loss: 1.3952 - val_acc: 0.6514\n",
      "Epoch 11/30\n",
      "8982/8982 [==============================] - 9s 1ms/step - loss: 1.1928 - acc: 0.7018 - val_loss: 1.3226 - val_acc: 0.6647\n",
      "Epoch 12/30\n",
      "8982/8982 [==============================] - 9s 1ms/step - loss: 1.1110 - acc: 0.7206 - val_loss: 1.2847 - val_acc: 0.6750\n",
      "Epoch 13/30\n",
      "8982/8982 [==============================] - 9s 1ms/step - loss: 1.0389 - acc: 0.7381 - val_loss: 1.2508 - val_acc: 0.6839\n",
      "Epoch 14/30\n",
      "8982/8982 [==============================] - 9s 1ms/step - loss: 0.9850 - acc: 0.7506 - val_loss: 1.2307 - val_acc: 0.6941\n",
      "Epoch 15/30\n",
      "8982/8982 [==============================] - 9s 1ms/step - loss: 0.9274 - acc: 0.7669 - val_loss: 1.2242 - val_acc: 0.7008\n",
      "Epoch 16/30\n",
      "8982/8982 [==============================] - 9s 1ms/step - loss: 0.8923 - acc: 0.7715 - val_loss: 1.2067 - val_acc: 0.7053\n",
      "Epoch 17/30\n",
      "8982/8982 [==============================] - 9s 1ms/step - loss: 0.8580 - acc: 0.7822 - val_loss: 1.2524 - val_acc: 0.6986\n",
      "Epoch 18/30\n",
      "8982/8982 [==============================] - 9s 1ms/step - loss: 0.8119 - acc: 0.7944 - val_loss: 1.1893 - val_acc: 0.7035\n",
      "Epoch 19/30\n",
      "8982/8982 [==============================] - 9s 1ms/step - loss: 0.7758 - acc: 0.8009 - val_loss: 1.2056 - val_acc: 0.7026\n",
      "Epoch 20/30\n",
      "8982/8982 [==============================] - 10s 1ms/step - loss: 0.7418 - acc: 0.8116 - val_loss: 1.2091 - val_acc: 0.7115\n",
      "Epoch 21/30\n",
      "8982/8982 [==============================] - 9s 1ms/step - loss: 0.6986 - acc: 0.8229 - val_loss: 1.2241 - val_acc: 0.7146\n",
      "Epoch 22/30\n",
      "8982/8982 [==============================] - 9s 1ms/step - loss: 0.6773 - acc: 0.8271 - val_loss: 1.2332 - val_acc: 0.7155\n",
      "Epoch 23/30\n",
      "8982/8982 [==============================] - 9s 1ms/step - loss: 0.6410 - acc: 0.8361 - val_loss: 1.2380 - val_acc: 0.7097\n",
      "Epoch 24/30\n",
      "8982/8982 [==============================] - 10s 1ms/step - loss: 0.6043 - acc: 0.8487 - val_loss: 1.2359 - val_acc: 0.7097\n",
      "Epoch 25/30\n",
      "8982/8982 [==============================] - 10s 1ms/step - loss: 0.5873 - acc: 0.8518 - val_loss: 1.2547 - val_acc: 0.7137\n",
      "Epoch 26/30\n",
      "8982/8982 [==============================] - 9s 1ms/step - loss: 0.5523 - acc: 0.8609 - val_loss: 1.2917 - val_acc: 0.7079\n",
      "Epoch 27/30\n",
      "8982/8982 [==============================] - 9s 1ms/step - loss: 0.5347 - acc: 0.8653 - val_loss: 1.2937 - val_acc: 0.7021\n",
      "Epoch 28/30\n",
      "8982/8982 [==============================] - 9s 1ms/step - loss: 0.5082 - acc: 0.8700 - val_loss: 1.3055 - val_acc: 0.7079\n",
      "Epoch 29/30\n",
      "8982/8982 [==============================] - 9s 1ms/step - loss: 0.4898 - acc: 0.8771 - val_loss: 1.3174 - val_acc: 0.7110\n",
      "Epoch 30/30\n",
      "8982/8982 [==============================] - 9s 1ms/step - loss: 0.4699 - acc: 0.8818 - val_loss: 1.3433 - val_acc: 0.7155\n"
     ]
    }
   ],
   "source": [
    "# 모델의 설정\n",
    "model = Sequential()\n",
    "model.add(Embedding(1000, 100)) # Embedding(불러온 단어의 총 개수, 기사당 단어 수) \n",
    "model.add(LSTM(100, activation='tanh')) # LSTM(기사당 단어 수, 기타 옵션)\n",
    "model.add(Dense(46, activation='softmax'))\n",
    "\n",
    "# 모델의 컴파일\n",
    "model.compile(loss='categorical_crossentropy', optimizer='adam', metrics=['accuracy'])\n",
    "\n",
    "# 모델의 실행\n",
    "history = model.fit(x_train, y_train, batch_size=100, epochs=30, validation_data=(x_test, y_test))"
   ]
  },
  {
   "cell_type": "code",
   "execution_count": 8,
   "metadata": {},
   "outputs": [
    {
     "name": "stdout",
     "output_type": "stream",
     "text": [
      "2246/2246 [==============================] - 1s 322us/step\n",
      "\n",
      " Test Accuracy: 0.7155\n"
     ]
    }
   ],
   "source": [
    "# 테스트 정확도 출력\n",
    "print(\"\\n Test Accuracy: %.4f\" % (model.evaluate(x_test, y_test)[1]))"
   ]
  },
  {
   "cell_type": "code",
   "execution_count": 9,
   "metadata": {},
   "outputs": [
    {
     "data": {
      "image/png": "[encoded data removed]",
      "text/plain": [
       "<Figure size 720x720 with 1 Axes>"
      ]
     },
     "metadata": {
      "needs_background": "light"
     },
     "output_type": "display_data"
    }
   ],
   "source": [
    "import matplotlib.pyplot as plt\n",
    "%matplotlib inline\n",
    "\n",
    "# 테스트셋의 오차\n",
    "y_vloss = history.history['val_loss']\n",
    "\n",
    "# 학습셋의 오차\n",
    "y_loss = history.history['loss']\n",
    "\n",
    "# 그래프로 표현\n",
    "x_len = np.arange(len(y_loss))\n",
    "plt.figure(figsize=(10,10))\n",
    "plt.plot(x_len, y_vloss, marker='.', c='red', label='Testset_loss')\n",
    "plt.plot(x_len, y_loss, marker='.', c='blue', label='Trainset_loss')\n",
    "\n",
    "# 그래프에 그리드를 주고 레이블을 표시\n",
    "plt.legend(loc='best')\n",
    "plt.grid()\n",
    "plt.xlabel('epoch')\n",
    "plt.ylabel('loss')\n",
    "plt.title('REUTER news')\n",
    "plt.show()"
   ]
  },
  {
   "cell_type": "markdown",
   "metadata": {},
   "source": [
    "## LSTM과 CNN의 조합을 이용한 영화 리뷰 분류하기"
   ]
  },
  {
   "cell_type": "code",
   "execution_count": 10,
   "metadata": {},
   "outputs": [
    {
     "name": "stdout",
     "output_type": "stream",
     "text": [
      "_________________________________________________________________\n",
      "Layer (type)                 Output Shape              Param #   \n",
      "=================================================================\n",
      "embedding_3 (Embedding)      (None, None, 100)         500000    \n",
      "_________________________________________________________________\n",
      "dropout_3 (Dropout)          (None, None, 100)         0         \n",
      "_________________________________________________________________\n",
      "conv1d_3 (Conv1D)            (None, None, 64)          32064     \n",
      "_________________________________________________________________\n",
      "max_pooling1d_3 (MaxPooling1 (None, None, 64)          0         \n",
      "_________________________________________________________________\n",
      "lstm_3 (LSTM)                (None, 55)                26400     \n",
      "_________________________________________________________________\n",
      "dense_3 (Dense)              (None, 1)                 56        \n",
      "_________________________________________________________________\n",
      "activation_3 (Activation)    (None, 1)                 0         \n",
      "=================================================================\n",
      "Total params: 558,520\n",
      "Trainable params: 558,520\n",
      "Non-trainable params: 0\n",
      "_________________________________________________________________\n"
     ]
    }
   ],
   "source": [
    "from keras.preprocessing import sequence\n",
    "from keras.models import Sequential\n",
    "from keras.layers import Dense, Dropout, Activation\n",
    "from keras.layers import Embedding, LSTM\n",
    "from keras.layers import Conv1D, MaxPooling1D\n",
    "from keras.datasets import imdb\n",
    "\n",
    "import numpy as np\n",
    "import tensorflow as tf\n",
    "import matplotlib.pyplot as plt\n",
    "\n",
    "seed = 0\n",
    "np.random.seed(seed)\n",
    "tf.set_random_seed(seed)\n",
    "\n",
    "(x_train, y_train), (x_test, y_test) = imdb.load_data(num_words=5000)\n",
    "\n",
    "x_train = sequence.pad_sequences(x_train, maxlen=100) \n",
    "x_test = sequence.pad_sequences(x_test, maxlen=100) \n",
    "\n",
    "model = Sequential()\n",
    "model.add(Embedding(5000, 100))\n",
    "model.add(Dropout(0.5))\n",
    "model.add(Conv1D(64, 5, padding='valid', activation='relu', strides=1))\n",
    "model.add(MaxPooling1D(pool_size=4))\n",
    "model.add(LSTM(55))\n",
    "model.add(Dense(1))\n",
    "model.add(Activation('sigmoid'))\n",
    "model.summary()"
   ]
  },
  {
   "cell_type": "code",
   "execution_count": 11,
   "metadata": {},
   "outputs": [
    {
     "name": "stdout",
     "output_type": "stream",
     "text": [
      "Train on 25000 samples, validate on 25000 samples\n",
      "Epoch 1/10\n",
      "25000/25000 [==============================] - 16s 626us/step - loss: 0.4634 - acc: 0.7618 - val_loss: 0.3429 - val_acc: 0.8491\n",
      "Epoch 2/10\n",
      "25000/25000 [==============================] - 15s 591us/step - loss: 0.2953 - acc: 0.8759 - val_loss: 0.3232 - val_acc: 0.8572\n",
      "Epoch 3/10\n",
      "25000/25000 [==============================] - 15s 589us/step - loss: 0.2497 - acc: 0.8992 - val_loss: 0.3277 - val_acc: 0.8572\n",
      "Epoch 4/10\n",
      "25000/25000 [==============================] - 15s 591us/step - loss: 0.2172 - acc: 0.9139 - val_loss: 0.3329 - val_acc: 0.8562\n",
      "Epoch 5/10\n",
      "25000/25000 [==============================] - 15s 591us/step - loss: 0.1812 - acc: 0.9306 - val_loss: 0.3516 - val_acc: 0.8522\n",
      "Epoch 6/10\n",
      "25000/25000 [==============================] - 15s 600us/step - loss: 0.1504 - acc: 0.9452 - val_loss: 0.3794 - val_acc: 0.8450\n",
      "Epoch 7/10\n",
      "25000/25000 [==============================] - 14s 560us/step - loss: 0.1257 - acc: 0.9534 - val_loss: 0.4135 - val_acc: 0.8496\n",
      "Epoch 8/10\n",
      "25000/25000 [==============================] - 14s 569us/step - loss: 0.1023 - acc: 0.9634 - val_loss: 0.4315 - val_acc: 0.8473\n",
      "Epoch 9/10\n",
      "25000/25000 [==============================] - 15s 606us/step - loss: 0.0856 - acc: 0.9691 - val_loss: 0.4766 - val_acc: 0.8436\n",
      "Epoch 10/10\n",
      "25000/25000 [==============================] - 15s 619us/step - loss: 0.0695 - acc: 0.9757 - val_loss: 0.5155 - val_acc: 0.8400\n"
     ]
    }
   ],
   "source": [
    "model.compile(loss='binary_crossentropy', optimizer='adam', metrics=['accuracy'])\n",
    "\n",
    "history = model.fit(x_train, y_train, batch_size=100, epochs=10, validation_data=(x_test, y_test))"
   ]
  },
  {
   "cell_type": "code",
   "execution_count": 12,
   "metadata": {},
   "outputs": [
    {
     "name": "stdout",
     "output_type": "stream",
     "text": [
      "25000/25000 [==============================] - 3s 108us/step\n",
      "\n",
      " Test Accuracy: 0.8400\n"
     ]
    }
   ],
   "source": [
    "print(\"\\n Test Accuracy: %.4f\" % (model.evaluate(x_test, y_test)[1]))"
   ]
  },
  {
   "cell_type": "code",
   "execution_count": 13,
   "metadata": {},
   "outputs": [
    {
     "data": {
      "image/png": "[encoded data removed]",
      "text/plain": [
       "<Figure size 720x720 with 1 Axes>"
      ]
     },
     "metadata": {
      "needs_background": "light"
     },
     "output_type": "display_data"
    }
   ],
   "source": [
    "import matplotlib.pyplot as plt\n",
    "%matplotlib inline\n",
    "\n",
    "# 테스트셋의 오차\n",
    "y_vloss = history.history['val_loss']\n",
    "\n",
    "# 학습셋의 오차\n",
    "y_loss = history.history['loss']\n",
    "\n",
    "# 그래프로 표현\n",
    "x_len = np.arange(len(y_loss))\n",
    "plt.figure(figsize=(10,10))\n",
    "plt.plot(x_len, y_vloss, marker='.', c='red', label='Testset_loss')\n",
    "plt.plot(x_len, y_loss, marker='.', c='blue', label='Trainset_loss')\n",
    "\n",
    "# 그래프에 그리드를 주고 레이블을 표시\n",
    "plt.legend(loc='best')\n",
    "plt.grid()\n",
    "plt.xlabel('epoch')\n",
    "plt.ylabel('loss')\n",
    "plt.title('Internet Movie Database')\n",
    "plt.show()"
   ]
  },
  {
   "cell_type": "code",
   "execution_count": null,
   "metadata": {},
   "outputs": [],
   "source": []
  }
 ],
 "metadata": {
  "kernelspec": {
   "display_name": "Python 3",
   "language": "python",
   "name": "python3"
  },
  "language_info": {
   "codemirror_mode": {
    "name": "ipython",
    "version": 3
   },
   "file_extension": ".py",
   "mimetype": "text/x-python",
   "name": "python",
   "nbconvert_exporter": "python",
   "pygments_lexer": "ipython3",
   "version": "3.7.3"
  }
 },
 "nbformat": 4,
 "nbformat_minor": 2
}
