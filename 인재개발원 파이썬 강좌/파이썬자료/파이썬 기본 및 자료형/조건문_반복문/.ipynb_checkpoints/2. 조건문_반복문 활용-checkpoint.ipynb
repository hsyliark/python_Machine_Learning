{
 "cells": [
  {
   "cell_type": "code",
   "execution_count": 1,
   "metadata": {},
   "outputs": [],
   "source": [
    "lst1=[2,4,3,6,1,8,3,10,16,22]\n",
    "lst2=['22',33,23,'14',8,'12',3,6]\n",
    "lst3=[33,23,[2,4,3,6,1,8],8,3,6,[3,10,16,22],16]"
   ]
  },
  {
   "cell_type": "code",
   "execution_count": 3,
   "metadata": {},
   "outputs": [
    {
     "name": "stdout",
     "output_type": "stream",
     "text": [
      "lst1의 합계= 75\n",
      "lst1의 합계= 75\n"
     ]
    }
   ],
   "source": [
    "tot=0\n",
    "\n",
    "for data in lst1:\n",
    "    tot=tot+data\n",
    "    #tot += data\n",
    "    \n",
    "print('lst1의 합계=',tot)\n",
    "print('lst1의 합계=',sum(lst1))"
   ]
  },
  {
   "cell_type": "code",
   "execution_count": 4,
   "metadata": {},
   "outputs": [
    {
     "data": {
      "text/plain": [
       "['22', 33, 23, '14', 8, '12', 3, 6]"
      ]
     },
     "execution_count": 4,
     "metadata": {},
     "output_type": "execute_result"
    }
   ],
   "source": [
    "lst2"
   ]
  },
  {
   "cell_type": "code",
   "execution_count": 5,
   "metadata": {},
   "outputs": [
    {
     "name": "stdout",
     "output_type": "stream",
     "text": [
      "lst2의 합계= 121\n"
     ]
    }
   ],
   "source": [
    "tot=0\n",
    "\n",
    "for data in lst2:\n",
    "    tot=tot+int(data)\n",
    "    \n",
    "print('lst2의 합계=',tot)"
   ]
  },
  {
   "cell_type": "code",
   "execution_count": 6,
   "metadata": {},
   "outputs": [
    {
     "name": "stdout",
     "output_type": "stream",
     "text": [
      "lst2의 합계= 121\n"
     ]
    }
   ],
   "source": [
    "tot=0\n",
    "\n",
    "for data in lst2:\n",
    "    if type(data)==int:\n",
    "        tot=tot+data\n",
    "    else:\n",
    "        tot=tot+int(data)\n",
    "\n",
    "        \n",
    "print('lst2의 합계=',tot)"
   ]
  },
  {
   "cell_type": "code",
   "execution_count": 7,
   "metadata": {},
   "outputs": [
    {
     "data": {
      "text/plain": [
       "[33, 23, [2, 4, 3, 6, 1, 8], 8, 3, 6, [3, 10, 16, 22], 16]"
      ]
     },
     "execution_count": 7,
     "metadata": {},
     "output_type": "execute_result"
    }
   ],
   "source": [
    "lst3"
   ]
  },
  {
   "cell_type": "code",
   "execution_count": 8,
   "metadata": {},
   "outputs": [
    {
     "name": "stdout",
     "output_type": "stream",
     "text": [
      "33\n",
      "23\n",
      "[2, 4, 3, 6, 1, 8]\n",
      "8\n",
      "3\n",
      "6\n",
      "[3, 10, 16, 22]\n",
      "16\n"
     ]
    }
   ],
   "source": [
    "for i in lst3:\n",
    "    print(i)"
   ]
  },
  {
   "cell_type": "code",
   "execution_count": 10,
   "metadata": {},
   "outputs": [
    {
     "name": "stdout",
     "output_type": "stream",
     "text": [
      "33\n",
      "23\n",
      "[2, 4, 3, 6, 1, 8]\n",
      "8\n",
      "3\n",
      "6\n",
      "[3, 10, 16, 22]\n",
      "16\n"
     ]
    }
   ],
   "source": [
    "for i in range(0, len(lst3)):\n",
    "    print(lst3[i])"
   ]
  },
  {
   "cell_type": "code",
   "execution_count": 11,
   "metadata": {},
   "outputs": [
    {
     "name": "stdout",
     "output_type": "stream",
     "text": [
      "<class 'int'>\n",
      "<class 'int'>\n",
      "<class 'list'>\n",
      "<class 'int'>\n",
      "<class 'int'>\n",
      "<class 'int'>\n",
      "<class 'list'>\n",
      "<class 'int'>\n"
     ]
    }
   ],
   "source": [
    "for i in lst3:\n",
    "    print(type(i))"
   ]
  },
  {
   "cell_type": "code",
   "execution_count": 12,
   "metadata": {},
   "outputs": [
    {
     "name": "stdout",
     "output_type": "stream",
     "text": [
      "합계= 164\n"
     ]
    }
   ],
   "source": [
    "tot=0\n",
    "\n",
    "for i in lst3:\n",
    "    if type(i) == int:\n",
    "        tot=tot+i\n",
    "    else:\n",
    "        for j in i:\n",
    "            tot=tot+ij\n",
    "\n",
    "print('합계=',tot)"
   ]
  },
  {
   "cell_type": "code",
   "execution_count": 19,
   "metadata": {},
   "outputs": [
    {
     "name": "stdout",
     "output_type": "stream",
     "text": [
      "합계= 164\n"
     ]
    }
   ],
   "source": [
    "tot=0\n",
    "\n",
    "for i in range(0, len(lst3)):\n",
    "    if type(lst3[i]) == int:\n",
    "        tot=tot+lst3[i]\n",
    "    else:\n",
    "        for j in range(0, len(lst3[i])):\n",
    "            tot=tot+lst3[i][j]\n",
    "               \n",
    "print('합계=',tot)"
   ]
  },
  {
   "cell_type": "code",
   "execution_count": 13,
   "metadata": {},
   "outputs": [
    {
     "data": {
      "text/plain": [
       "[33, 23, [2, 4, 3, 6, 1, 8], 8, 3, 6, [3, 10, 16, 22], 16]"
      ]
     },
     "execution_count": 13,
     "metadata": {},
     "output_type": "execute_result"
    }
   ],
   "source": [
    "lst3"
   ]
  },
  {
   "cell_type": "code",
   "execution_count": 14,
   "metadata": {},
   "outputs": [
    {
     "data": {
      "text/plain": [
       "[33, 23, 2, 4, 3, 6, 1, 8, 8, 3, 6, 3, 10, 16, 22, 16]"
      ]
     },
     "execution_count": 14,
     "metadata": {},
     "output_type": "execute_result"
    }
   ],
   "source": [
    "lst4=[]\n",
    "\n",
    "for i in lst3:\n",
    "    if type(i) == int:\n",
    "        lst4.append(i)\n",
    "    else:\n",
    "        for j in i:\n",
    "            lst4.append(j)\n",
    "\n",
    "lst4"
   ]
  },
  {
   "cell_type": "code",
   "execution_count": 15,
   "metadata": {},
   "outputs": [
    {
     "data": {
      "text/plain": [
       "[1, 2, 3, 4, 5, 6]"
      ]
     },
     "execution_count": 15,
     "metadata": {},
     "output_type": "execute_result"
    }
   ],
   "source": [
    "aa=[1,2,3]\n",
    "bb=[4,5,6]\n",
    "aa+bb"
   ]
  },
  {
   "cell_type": "code",
   "execution_count": 17,
   "metadata": {},
   "outputs": [
    {
     "data": {
      "text/plain": [
       "[33, 23, 2, 4, 3, 6, 1, 8, 8, 3, 6, 3, 10, 16, 22, 16]"
      ]
     },
     "execution_count": 17,
     "metadata": {},
     "output_type": "execute_result"
    }
   ],
   "source": [
    "lst4=[]\n",
    "\n",
    "for i in lst3:\n",
    "    if type(i) == int:\n",
    "        lst4=lst4+[i]\n",
    "        #lst4.append(i)\n",
    "    else:\n",
    "        lst4=lst4+i\n",
    "\n",
    "lst4"
   ]
  },
  {
   "cell_type": "code",
   "execution_count": 23,
   "metadata": {},
   "outputs": [
    {
     "data": {
      "text/plain": [
       "[33, 23, [2, 4, 3, 6, 1, 8], 8, 3, 6, [3, 10, 16, 22], 16]"
      ]
     },
     "execution_count": 23,
     "metadata": {},
     "output_type": "execute_result"
    }
   ],
   "source": [
    "lst3"
   ]
  },
  {
   "cell_type": "code",
   "execution_count": 28,
   "metadata": {},
   "outputs": [
    {
     "name": "stdout",
     "output_type": "stream",
     "text": [
      "i type= <class 'int'>\n",
      "i= 33\n",
      "i type= <class 'int'>\n",
      "i= 23\n",
      "i type= <class 'list'>\n",
      "j= 0\n",
      "j= 1\n",
      "j= 2\n",
      "j= 3\n",
      "j= 4\n",
      "j= 5\n",
      "i type= <class 'int'>\n",
      "i= 8\n",
      "i type= <class 'int'>\n",
      "i= 3\n",
      "i type= <class 'int'>\n",
      "i= 6\n",
      "i type= <class 'list'>\n",
      "j= 0\n",
      "j= 1\n",
      "j= 2\n",
      "j= 3\n",
      "i type= <class 'int'>\n",
      "i= 16\n",
      "합계= 164\n"
     ]
    }
   ],
   "source": [
    "tot=0\n",
    "\n",
    "for i in lst3:\n",
    "    print('i type=',type(i))\n",
    "    if type(i) == int:\n",
    "        print('i=',i)\n",
    "        tot=tot+i\n",
    "    else:\n",
    "        for j in range(0, len(i)):\n",
    "            print('j=',j)\n",
    "            tot=tot+i[j]\n",
    "               \n",
    "print('합계=',tot)"
   ]
  },
  {
   "cell_type": "code",
   "execution_count": null,
   "metadata": {},
   "outputs": [],
   "source": []
  }
 ],
 "metadata": {
  "kernelspec": {
   "display_name": "Python 3",
   "language": "python",
   "name": "python3"
  },
  "language_info": {
   "codemirror_mode": {
    "name": "ipython",
    "version": 3
   },
   "file_extension": ".py",
   "mimetype": "text/x-python",
   "name": "python",
   "nbconvert_exporter": "python",
   "pygments_lexer": "ipython3",
   "version": "3.7.3"
  }
 },
 "nbformat": 4,
 "nbformat_minor": 2
}
