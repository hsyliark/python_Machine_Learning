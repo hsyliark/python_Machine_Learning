{
 "cells": [
  {
   "cell_type": "markdown",
   "metadata": {},
   "source": [
    "1. ind 변수에 데이터 입력\n",
    "2. 10보다 크면 '크다' 출력\n",
    "3. 공통: 입력 숫자는 00 입니다."
   ]
  },
  {
   "cell_type": "code",
   "execution_count": 5,
   "metadata": {},
   "outputs": [
    {
     "name": "stdout",
     "output_type": "stream",
     "text": [
      "10보다 큰 값 입니다..\n",
      "입력 숫자는 15 입니다.\n"
     ]
    }
   ],
   "source": [
    "ind=15\n",
    "\n",
    "if ind > 10:\n",
    "    print('10보다 큰 값 입니다..')\n",
    "    \n",
    "print('입력 숫자는',ind,'입니다.')\n",
    "    "
   ]
  },
  {
   "cell_type": "code",
   "execution_count": 6,
   "metadata": {},
   "outputs": [
    {
     "name": "stdout",
     "output_type": "stream",
     "text": [
      "입력 숫자는 5 입니다.\n"
     ]
    }
   ],
   "source": [
    "ind=5\n",
    "\n",
    "if ind > 10:\n",
    "    print('10보다 큰 값 입니다..')\n",
    "    \n",
    "print('입력 숫자는',ind,'입니다.')"
   ]
  },
  {
   "cell_type": "code",
   "execution_count": 7,
   "metadata": {},
   "outputs": [
    {
     "name": "stdout",
     "output_type": "stream",
     "text": [
      "10보다 작은 값 입니다..\n",
      "입력 숫자는 5 입니다.\n"
     ]
    }
   ],
   "source": [
    "ind=5\n",
    "\n",
    "if ind > 10:\n",
    "    print('10보다 큰 값 입니다..')\n",
    "else:\n",
    "    print('10보다 작은 값 입니다..')\n",
    "    \n",
    "print('입력 숫자는',ind,'입니다.')"
   ]
  },
  {
   "cell_type": "code",
   "execution_count": 10,
   "metadata": {},
   "outputs": [
    {
     "name": "stdout",
     "output_type": "stream",
     "text": [
      "숫자를 입력하세요.:10\n",
      "<class 'str'>\n",
      "10보다 작은 값 입니다..\n",
      "입력 숫자는 10 입니다.\n"
     ]
    }
   ],
   "source": [
    "ind=input('숫자를 입력하세요.:')\n",
    "\n",
    "print(type(ind))\n",
    "\n",
    "if int(ind) > 10:\n",
    "    print('10보다 큰 값 입니다..')\n",
    "else:\n",
    "    print('10보다 작은 값 입니다..')\n",
    "    \n",
    "print('입력 숫자는',ind,'입니다.')"
   ]
  },
  {
   "cell_type": "code",
   "execution_count": 11,
   "metadata": {},
   "outputs": [
    {
     "name": "stdout",
     "output_type": "stream",
     "text": [
      "숫자를 입력하세요.:10\n",
      "<class 'str'>\n",
      "10과 동일한 값 입니다..\n",
      "입력 숫자는 10 입니다.\n"
     ]
    }
   ],
   "source": [
    "ind=input('숫자를 입력하세요.:')\n",
    "\n",
    "print(type(ind))\n",
    "\n",
    "if int(ind) > 10:\n",
    "    print('10보다 큰 값 입니다.')\n",
    "elif int(ind) == 10:\n",
    "    print('10과 동일한 값 입니다.')\n",
    "else:\n",
    "    print('10보다 작은 값 입니다.')\n",
    "    \n",
    "print('입력 숫자는',ind,'입니다.')"
   ]
  },
  {
   "cell_type": "code",
   "execution_count": 18,
   "metadata": {},
   "outputs": [
    {
     "name": "stdout",
     "output_type": "stream",
     "text": [
      "숫자입력:11\n",
      "숫자입력:55\n",
      "숫자입력:44\n",
      "숫자입력:22\n",
      "숫자입력:66\n",
      "숫자입력:55\n",
      "숫자입력:33\n",
      "숫자입력:66\n",
      "숫자입력:55\n",
      "숫자입력:344\n"
     ]
    }
   ],
   "source": [
    "lst=[]\n",
    "lst.append(int(input('숫자입력:')))\n",
    "lst.append(int(input('숫자입력:')))\n",
    "lst.append(int(input('숫자입력:')))\n",
    "lst.append(int(input('숫자입력:')))\n",
    "lst.append(int(input('숫자입력:')))\n",
    "lst.append(int(input('숫자입력:')))\n",
    "lst.append(int(input('숫자입력:')))\n",
    "lst.append(int(input('숫자입력:')))\n",
    "lst.append(int(input('숫자입력:')))\n",
    "lst.append(int(input('숫자입력:')))"
   ]
  },
  {
   "cell_type": "code",
   "execution_count": 19,
   "metadata": {},
   "outputs": [
    {
     "data": {
      "text/plain": [
       "[11, 55, 44, 22, 66, 55, 33, 66, 55, 344]"
      ]
     },
     "execution_count": 19,
     "metadata": {},
     "output_type": "execute_result"
    }
   ],
   "source": [
    "lst"
   ]
  },
  {
   "cell_type": "code",
   "execution_count": 22,
   "metadata": {},
   "outputs": [
    {
     "name": "stdout",
     "output_type": "stream",
     "text": [
      "숫자입력:1\n",
      "숫자입력:2\n",
      "숫자입력:3\n",
      "숫자입력:4\n",
      "숫자입력:5\n",
      "숫자입력:6\n",
      "숫자입력:7\n",
      "숫자입력:8\n",
      "숫자입력:9\n",
      "숫자입력:10\n",
      "[1, 2, 3, 4, 5, 6, 7, 8, 9, 10]\n"
     ]
    }
   ],
   "source": [
    "lst=[]\n",
    "i=1\n",
    "\n",
    "while i <=10:\n",
    "    lst.append(int(input('숫자입력:')))\n",
    "    i=i+1\n",
    "\n",
    "print(lst)"
   ]
  },
  {
   "cell_type": "code",
   "execution_count": 25,
   "metadata": {},
   "outputs": [
    {
     "name": "stdout",
     "output_type": "stream",
     "text": [
      "숫자입력:10\n",
      "숫자입력:20\n",
      "숫자입력:30\n",
      "숫자입력:40\n",
      "숫자입력:4444\n",
      "[10, 20, 30, 40, 4444]\n"
     ]
    }
   ],
   "source": [
    "lst=[]\n",
    "indata=0\n",
    "\n",
    "while indata != 4444:\n",
    "    indata=int(input('숫자입력:'))\n",
    "    lst.append(indata)\n",
    "\n",
    "print(lst)"
   ]
  },
  {
   "cell_type": "code",
   "execution_count": 30,
   "metadata": {},
   "outputs": [
    {
     "name": "stdout",
     "output_type": "stream",
     "text": [
      "숫자입력:4444\n",
      "[]\n"
     ]
    }
   ],
   "source": [
    "lst=[]\n",
    "indata=int(input('숫자입력:'))\n",
    "\n",
    "while indata != 4444:\n",
    "    lst.append(indata)\n",
    "    indata=int(input('숫자입력:'))\n",
    "\n",
    "print(lst)"
   ]
  },
  {
   "cell_type": "code",
   "execution_count": 31,
   "metadata": {},
   "outputs": [
    {
     "name": "stdout",
     "output_type": "stream",
     "text": [
      "숫자입력:4444\n",
      "[20]\n"
     ]
    }
   ],
   "source": [
    "lst=[]\n",
    "indata=20\n",
    "\n",
    "while indata != 4444:\n",
    "    lst.append(indata)\n",
    "    indata=int(input('숫자입력:'))\n",
    "    if indata == 3333:\n",
    "        break\n",
    "        \n",
    "print(lst)"
   ]
  },
  {
   "cell_type": "code",
   "execution_count": 36,
   "metadata": {},
   "outputs": [
    {
     "data": {
      "text/plain": [
       "[0, 1, 2, 3, 4, 5, 6, 7, 8, 9]"
      ]
     },
     "execution_count": 36,
     "metadata": {},
     "output_type": "execute_result"
    }
   ],
   "source": [
    "lst=[]\n",
    "for i in range(0, 10):\n",
    "    lst.append(i)\n",
    "    \n",
    "lst"
   ]
  },
  {
   "cell_type": "code",
   "execution_count": 34,
   "metadata": {},
   "outputs": [
    {
     "data": {
      "text/plain": [
       "[0, 2, 4, 6, 8, 10]"
      ]
     },
     "execution_count": 34,
     "metadata": {},
     "output_type": "execute_result"
    }
   ],
   "source": [
    "lst=[]\n",
    "for i in range(0, 11, 2):\n",
    "    lst.append(i)\n",
    "    \n",
    "lst"
   ]
  },
  {
   "cell_type": "code",
   "execution_count": 35,
   "metadata": {},
   "outputs": [
    {
     "name": "stdout",
     "output_type": "stream",
     "text": [
      "0\n",
      "2\n",
      "4\n",
      "6\n",
      "8\n",
      "10\n"
     ]
    }
   ],
   "source": [
    "for data in lst:\n",
    "    print(data)\n"
   ]
  },
  {
   "cell_type": "code",
   "execution_count": 37,
   "metadata": {},
   "outputs": [
    {
     "data": {
      "text/plain": [
       "[0, 1, 2, 3, 4, 5, 6, 7, 8, 9]"
      ]
     },
     "execution_count": 37,
     "metadata": {},
     "output_type": "execute_result"
    }
   ],
   "source": [
    "lst"
   ]
  },
  {
   "cell_type": "code",
   "execution_count": 38,
   "metadata": {},
   "outputs": [
    {
     "name": "stdout",
     "output_type": "stream",
     "text": [
      "1\n",
      "3\n",
      "5\n",
      "7\n",
      "9\n"
     ]
    }
   ],
   "source": [
    "for i in range(1, len(lst), 2):\n",
    "    print(lst[i])"
   ]
  },
  {
   "cell_type": "code",
   "execution_count": null,
   "metadata": {},
   "outputs": [],
   "source": []
  },
  {
   "cell_type": "code",
   "execution_count": null,
   "metadata": {},
   "outputs": [],
   "source": []
  },
  {
   "cell_type": "code",
   "execution_count": null,
   "metadata": {},
   "outputs": [],
   "source": []
  },
  {
   "cell_type": "code",
   "execution_count": null,
   "metadata": {},
   "outputs": [],
   "source": []
  },
  {
   "cell_type": "code",
   "execution_count": null,
   "metadata": {},
   "outputs": [],
   "source": []
  }
 ],
 "metadata": {
  "kernelspec": {
   "display_name": "Python 3",
   "language": "python",
   "name": "python3"
  },
  "language_info": {
   "codemirror_mode": {
    "name": "ipython",
    "version": 3
   },
   "file_extension": ".py",
   "mimetype": "text/x-python",
   "name": "python",
   "nbconvert_exporter": "python",
   "pygments_lexer": "ipython3",
   "version": "3.7.3"
  }
 },
 "nbformat": 4,
 "nbformat_minor": 2
}
