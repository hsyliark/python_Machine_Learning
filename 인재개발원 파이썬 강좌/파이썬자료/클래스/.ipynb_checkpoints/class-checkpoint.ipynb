{
 "cells": [
  {
   "cell_type": "markdown",
   "metadata": {},
   "source": [
    "# 파이썬 터틀을 활용한 클래스의 이해"
   ]
  },
  {
   "cell_type": "code",
   "execution_count": 4,
   "metadata": {},
   "outputs": [
    {
     "name": "stdout",
     "output_type": "stream",
     "text": [
      "자동차 객체를 생성하였습니다\n",
      "자동차의 속도는 0\n",
      "자동차의 색상은 blue\n",
      "자동차의 모델은 E-class\n",
      "자동차를 주행합니다\n",
      "자동차의 속도는 60\n"
     ]
    }
   ],
   "source": [
    "#######################################\n",
    "######         pt 12페이지        #####\n",
    "#######################################\n",
    "\n",
    "class Car:\n",
    "       def drive(self):\n",
    "            self.speed=60\n",
    "\n",
    "myCar=Car()\n",
    "\n",
    "myCar.speed=0\n",
    "myCar.model=\"E-class\"\n",
    "myCar.color=\"blue\"\n",
    "myCar.year=\"2018\"\n",
    "\n",
    "\n",
    "print(\"자동차 객체를 생성하였습니다\")\n",
    "print(\"자동차의 속도는\",myCar.speed)\n",
    "print(\"자동차의 색상은\",myCar.color)\n",
    "print(\"자동차의 모델은\",myCar.model)\n",
    "print(\"자동차를 주행합니다\")\n",
    "myCar.drive()\n",
    "print(\"자동차의 속도는\",myCar.speed)\n"
   ]
  },
  {
   "cell_type": "code",
   "execution_count": null,
   "metadata": {},
   "outputs": [],
   "source": [
    "#######################################\n",
    "######         pt 12페이지        #####\n",
    "#######################################\n",
    "\n",
    "\n",
    "class Car:\n",
    "    def __init__(self,speed,color,model):\n",
    "        self.speed=speed\n",
    "        self.color=color\n",
    "        self.model=model\n",
    "\n",
    "    def drive(self):\n",
    "        self.speed=60\n",
    "\n",
    "myCar=Car(0,\"blue\",\"E-Class\")\n",
    "\n",
    "print(\"자동차 객체를 생성하였습니다\")\n",
    "print(\"자동차의 속도는\",myCar.speed)\n",
    "print(\"자동차의 색상은\",myCar.color)\n",
    "print(\"자동차의 모델은\",myCar.model)\n",
    "print(\"자동차를 주행합니다\")\n",
    "myCar.drive()\n",
    "print(\"자동차의 속도는\",myCar.speed)\n"
   ]
  },
  {
   "cell_type": "code",
   "execution_count": 13,
   "metadata": {},
   "outputs": [],
   "source": [
    "#turtle 모듈 호출\n",
    "\n",
    "import turtle         \n",
    "\n",
    "# Turtle 객체생성\n",
    "t=turtle.Turtle()     \n",
    "\n",
    "#왼쪽으로 100pixcel 그려주는 메소드\n",
    "t.left(100)             \n"
   ]
  },
  {
   "cell_type": "code",
   "execution_count": 3,
   "metadata": {},
   "outputs": [],
   "source": [
    "##\n",
    "\n",
    "import turtle\n",
    "le=turtle.Turtle()\n",
    "ri=turtle.Turtle()\n",
    "le.shape(\"turtle\");le.color(\"red\")\n",
    "ri.shape(\"circle\");ri.color(\"green\")\n",
    "     \n",
    "length=100\n",
    "\n",
    "while length<500:\n",
    "  le.circle(100)\n",
    "  le.up()\n",
    "  le.setposition(-length,0)\n",
    "  le.down()\n",
    "  length+=100\n",
    " \n"
   ]
  },
  {
   "cell_type": "code",
   "execution_count": 1,
   "metadata": {},
   "outputs": [],
   "source": [
    "import turtle\n",
    "le=turtle.Turtle()\n",
    "ri=turtle.Turtle()\n",
    "\n",
    "def setup(this_turtle,shape, color,position):\n",
    "    this_turtle.speed(0)\n",
    "    this_turtle.shape(shape)\n",
    "    this_turtle.color(color)\n",
    "    this_turtle.up()\n",
    "    this_turtle.setposition(position)\n",
    "    this_turtle.down()\n",
    "    this_turtle.circle(100)\n",
    "    \n",
    "length=100\n",
    "\n",
    "while length<500:\n",
    "  setup(le,\"turtle\",\"red\",(-length,0))\n",
    "  setup(ri,\"circle\",\"blue\",(length,0))\n",
    "  length+=100\n"
   ]
  },
  {
   "cell_type": "code",
   "execution_count": 3,
   "metadata": {},
   "outputs": [],
   "source": [
    "### 37페이지 코드\n",
    "## 터틀 클래스를 받아서 tu1, tu2값으로 받고\n",
    "## 터틀값이 갖고 있는 속성값중 필요한 속성만 설정해서\n",
    "## 사용자 정의함수로 받는 법\n",
    "\n",
    "import turtle\n",
    "tu1=turtle.Turtle()\n",
    "tu2=turtle.Turtle()\n",
    "\n",
    "##사용자정의함수 setup\n",
    "def setup(this_turtle,shape, color,position):\n",
    "    this_turtle.speed(10)\n",
    "    this_turtle.shape(shape)\n",
    "    this_turtle.color(color)\n",
    "    this_turtle.up()\n",
    "    this_turtle.setposition(position)\n",
    "    this_turtle.down()\n",
    "\n",
    "    \n",
    "length=100\n",
    "tu1\n",
    "setup(tu1,\"turtle\",\"red\",(60,0))\n",
    "setup(tu2,\"circle\",\"blue\",(0,-75))\n",
    "\n",
    "while length<500:\n",
    "   tu1.forward(3)\n",
    "   tu1_위치=tu1.position()\n",
    "   각도=tu2.towards(tu1_위치)\n",
    "      #toward : 현재 위치에서 지정위치까지 \u000b",
    "                        도달하기 위해 필요한 각도\n",
    "   tu2.setheading(각도)   \n",
    "      #heading: 거북이가 바라보는 방향변\n",
    "      # t.setheading(90)  거북이가 화면 위쪽을 바라봅니다.\n",
    "      # 거북이가 오른쪽을 바라볼 때의 각도가 0이며, \u000b",
    "        시계 반대 방향으로 돌면서 각도가 커집니다.\n",
    "   tu2.forward(5)\n",
    "   length+=3\n",
    "\n"
   ]
  }
 ],
 "metadata": {
  "kernelspec": {
   "display_name": "Python 3",
   "language": "python",
   "name": "python3"
  },
  "language_info": {
   "codemirror_mode": {
    "name": "ipython",
    "version": 3
   },
   "file_extension": ".py",
   "mimetype": "text/x-python",
   "name": "python",
   "nbconvert_exporter": "python",
   "pygments_lexer": "ipython3",
   "version": "3.7.3"
  }
 },
 "nbformat": 4,
 "nbformat_minor": 2
}
